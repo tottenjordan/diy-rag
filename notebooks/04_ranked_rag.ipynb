{
 "cells": [
  {
   "cell_type": "markdown",
   "id": "6776a9d5-17ab-4106-808f-399048c44f4f",
   "metadata": {},
   "source": [
    "# Vertex AI Agent Builder Ranking API"
   ]
  },
  {
   "cell_type": "markdown",
   "id": "979609ed-a7d4-4929-ae3f-0711c6d6b6c7",
   "metadata": {},
   "source": [
    "**Why Ranking Matters:**\n",
    "\n",
    "* Accuracy: Embedding methods (bi-encoders) excel at speed and scalability by independently encoding the query and candidate chunks. However, cross-encoders, which jointly encode the query and chunk, offer superior accuracy in assessing relevance.\n",
    "* Efficiency: While cross-encoders are more accurate, they can be computationally expensive for large datasets."
   ]
  },
  {
   "cell_type": "markdown",
   "id": "d3e46145-99d3-4587-ba13-b93ca144332d",
   "metadata": {},
   "source": [
    "## imports"
   ]
  },
  {
   "cell_type": "code",
   "execution_count": 1,
   "id": "226041cb-c222-436a-bf7c-e527053172c6",
   "metadata": {
    "tags": []
   },
   "outputs": [
    {
     "name": "stdout",
     "output_type": "stream",
     "text": [
      "Ai Platform SDK version = 1.71.0\n",
      "Discovery Engine API version = 0.11.14\n"
     ]
    }
   ],
   "source": [
    "import os, shutil, json\n",
    "\n",
    "import numpy as np\n",
    "import matplotlib.pyplot as plt\n",
    "\n",
    "from google.cloud import aiplatform\n",
    "import vertexai.generative_models\n",
    "import vertexai.language_models\n",
    "import google.cloud.discoveryengine_v1 as discoveryengine\n",
    "\n",
    "print(f\"Ai Platform SDK version = {aiplatform.__version__}\")\n",
    "print(f\"Discovery Engine API version = {discoveryengine.__version__}\")"
   ]
  },
  {
   "cell_type": "markdown",
   "id": "161facb4-a115-42db-a768-4350d784bd38",
   "metadata": {},
   "source": [
    "## config"
   ]
  },
  {
   "cell_type": "code",
   "execution_count": 3,
   "id": "1b166497-0d30-4b67-875a-9aded7cf9370",
   "metadata": {
    "tags": []
   },
   "outputs": [],
   "source": [
    "PREFIX=\"mortgage-ball\""
   ]
  },
  {
   "cell_type": "code",
   "execution_count": 4,
   "id": "fad92a02-22b8-40de-9a76-d886534cb221",
   "metadata": {
    "tags": []
   },
   "outputs": [],
   "source": [
    "PROJECT_ID = \"hybrid-vertex\"\n",
    "REGION = \"us-central1\"\n",
    "LOCATION = REGION.split('-')[0]\n",
    "\n",
    "EXPERIMENT_1 = \"mlb\"\n",
    "EXPERIMENT_2 = \"lending\"\n",
    "\n",
    "SERIES = \"ranking-api\"\n",
    "\n",
    "# Cloud storage buckets\n",
    "GCS_BUCKET_URI = f\"gs://{PREFIX}-central-bucket\"\n",
    "GCS_BUCKET = GCS_BUCKET_URI.replace(\"gs://\", \"\")"
   ]
  },
  {
   "cell_type": "code",
   "execution_count": 5,
   "id": "d49e7138-6714-4892-bfee-446ceb9c1b4b",
   "metadata": {
    "tags": []
   },
   "outputs": [],
   "source": [
    "# clients \n",
    "\n",
    "# Vertex AI\n",
    "vertexai.init(project = PROJECT_ID, location = REGION)\n",
    "\n",
    "# Vertex AI Agent Builder APIs\n",
    "ranker = discoveryengine.RankServiceClient()"
   ]
  },
  {
   "cell_type": "markdown",
   "id": "58c8a4b7-eed3-41cb-9cb3-2ffa8ec9fb6c",
   "metadata": {},
   "source": [
    "# Text & Embeddings For Examples"
   ]
  },
  {
   "cell_type": "code",
   "execution_count": 6,
   "id": "5c5ed46a-3b80-4ada-9623-ff1c536b3db6",
   "metadata": {
    "tags": []
   },
   "outputs": [],
   "source": [
    "local_dir = \"files/embeddings-api\"\n",
    "\n",
    "with open(local_dir+'/chunk-embeddings.jsonl', 'r') as f:\n",
    "    chunks = [json.loads(line) for line in f]"
   ]
  },
  {
   "cell_type": "markdown",
   "id": "467f8260-90e8-4cad-ae16-f2d723eaa1c2",
   "metadata": {},
   "source": [
    "## review chunks"
   ]
  },
  {
   "cell_type": "code",
   "execution_count": 7,
   "id": "0b9b44d2-f2b7-438f-9434-0c7db7580bdc",
   "metadata": {
    "tags": []
   },
   "outputs": [
    {
     "data": {
      "text/plain": [
       "dict_keys(['instance', 'predictions', 'status'])"
      ]
     },
     "execution_count": 7,
     "metadata": {},
     "output_type": "execute_result"
    }
   ],
   "source": [
    "chunks[0].keys()"
   ]
  },
  {
   "cell_type": "code",
   "execution_count": 8,
   "id": "c11c7d0b-2675-4a49-82da-0882db3b1925",
   "metadata": {
    "tags": []
   },
   "outputs": [
    {
     "data": {
      "text/plain": [
       "'c2'"
      ]
     },
     "execution_count": 8,
     "metadata": {},
     "output_type": "execute_result"
    }
   ],
   "source": [
    "chunks[0]['instance']['chunk_id']"
   ]
  },
  {
   "cell_type": "code",
   "execution_count": 9,
   "id": "6423b072-089a-4b05-8fd0-88e4b86177a6",
   "metadata": {
    "tags": []
   },
   "outputs": [
    {
     "name": "stdout",
     "output_type": "stream",
     "text": [
      "# OFFICIAL BASEBALL RULES\n",
      "\n",
      "## Official Baseball Rules 2023 Edition\n",
      "\n",
      "### JOINT COMPETITION COMMITTEE\n",
      "\n",
      "|-|-|-|\n",
      "| Bill DeWitt | Whit Merrifield | Austin Slater |\n",
      "| Jack Flaherty | Bill Miller | John Stanton, Chair |\n",
      "| Tyler Glasnow | Dick Monfort | Tom Werner |\n",
      "| Greg Johnson | Mark Shapiro |  |\n",
      "\n",
      "Committee Secretary Paul V. Mifsud, Jr. Copyright © 2023 by the Office of the Commissioner of Baseball\n"
     ]
    }
   ],
   "source": [
    "print(chunks[0]['instance']['content'])"
   ]
  },
  {
   "cell_type": "code",
   "execution_count": 10,
   "id": "36ffa966-8d7b-4bae-a64a-24b49ae01d70",
   "metadata": {
    "tags": []
   },
   "outputs": [
    {
     "data": {
      "text/plain": [
       "[0.008681542240083218,\n",
       " 0.06999468058347702,\n",
       " 0.003673204220831394,\n",
       " 0.019888797774910927,\n",
       " 0.016285404562950134,\n",
       " 0.035664502531290054,\n",
       " 0.06200747936964035,\n",
       " 0.05597030743956566,\n",
       " 0.0034793149679899216,\n",
       " -0.024485772475600243]"
      ]
     },
     "execution_count": 10,
     "metadata": {},
     "output_type": "execute_result"
    }
   ],
   "source": [
    "chunks[0]['predictions'][0]['embeddings']['values'][0:10]"
   ]
  },
  {
   "cell_type": "markdown",
   "id": "b1955422-f9f7-4d5d-b490-b536499d6e0d",
   "metadata": {},
   "source": [
    "## Prepare Chunk Structure\n",
    "\n",
    "Make a dictionary for each lookup of chunk content by chunk id:"
   ]
  },
  {
   "cell_type": "code",
   "execution_count": 11,
   "id": "5e18308f-d32e-4aa0-ad9f-691940fce44e",
   "metadata": {
    "tags": []
   },
   "outputs": [
    {
     "data": {
      "text/plain": [
       "'# OFFICIAL BASEBALL RULES\\n\\n2023 Edition TM TM'"
      ]
     },
     "execution_count": 11,
     "metadata": {},
     "output_type": "execute_result"
    }
   ],
   "source": [
    "content_chunks = {}\n",
    "for chunk in chunks:\n",
    "    content_chunks[chunk['instance']['chunk_id']] = chunk['instance']['content']\n",
    "    \n",
    "content_chunks['c1']"
   ]
  },
  {
   "cell_type": "markdown",
   "id": "ffea4eb1-9d27-4ed2-a33c-ebad79d0ca4b",
   "metadata": {},
   "source": [
    "# Simple RAG\n",
    "\n",
    "> The content below motivates retrieval with the embeddings that accompany the text chunks using a local vector database with brute force matching using Numpy!"
   ]
  },
  {
   "cell_type": "markdown",
   "id": "82a719bc-8402-4adf-b9fb-3026e982d7fc",
   "metadata": {},
   "source": [
    "## Vector DB with Numpy"
   ]
  },
  {
   "cell_type": "code",
   "execution_count": 12,
   "id": "795691a3-fc0d-4b70-bbc2-aa8b7d99990f",
   "metadata": {
    "tags": []
   },
   "outputs": [],
   "source": [
    "vector_db = [\n",
    "    [\n",
    "        chunk['instance']['chunk_id'],\n",
    "        chunk['predictions'][0]['embeddings']['values'],\n",
    "    ]\n",
    "    for chunk in chunks\n",
    "]\n",
    "vector_index = np.array([row[1] for row in vector_db])"
   ]
  },
  {
   "cell_type": "markdown",
   "id": "5c0b3091-e02a-4a72-8e4b-ac3a4ae868c0",
   "metadata": {},
   "source": [
    "## Models: Embeddings, Generation\n",
    "Connect to models for text embeddings and text generation:"
   ]
  },
  {
   "cell_type": "code",
   "execution_count": 13,
   "id": "641bb6c6-2ae9-4ffc-832f-c7fbfbb637e0",
   "metadata": {
    "tags": []
   },
   "outputs": [
    {
     "name": "stdout",
     "output_type": "stream",
     "text": [
      "The term \"base\" is used in many contexts, so it's impossible to give a specific answer without knowing what you're referring to. Please provide more context. For example, are you talking about:\n",
      "\n",
      "* **Geometry:** The base of a shape like a triangle, rectangle, or pyramid?\n",
      "* **Chemistry:** The base of a molecule or a solution?\n",
      "* **Mathematics:** The base of a number system like decimal (base 10) or binary (base 2)?\n",
      "* **Other:** A base of a building, a base of a military operation, etc.? \n",
      "\n",
      "Once you provide more information, I can give you a specific answer about the dimensions of the \"base.\" \n",
      "\n"
     ]
    }
   ],
   "source": [
    "embedder = vertexai.language_models.TextEmbeddingModel.from_pretrained('text-embedding-004')\n",
    "llm = vertexai.generative_models.GenerativeModel(\"gemini-1.5-flash-001\")\n",
    "\n",
    "question = \"What are the dimensions of a base?\"\n",
    "\n",
    "# Get an ungrounded response to the question with the LLM\n",
    "print(llm.generate_content(question).text)"
   ]
  },
  {
   "cell_type": "markdown",
   "id": "fdd59155-a1fc-4080-a2cf-04e75eba7f48",
   "metadata": {},
   "source": [
    "Get an embedding for the question to use in retrieval:"
   ]
  },
  {
   "cell_type": "code",
   "execution_count": 14,
   "id": "047bfd7c-a0a7-466c-8016-c086119e744c",
   "metadata": {
    "tags": []
   },
   "outputs": [
    {
     "data": {
      "text/plain": [
       "[-0.026682045310735703,\n",
       " 0.011593513190746307,\n",
       " 0.028523651883006096,\n",
       " -0.0017065361607819796,\n",
       " 0.01946176588535309,\n",
       " 0.0031198114156723022,\n",
       " 0.07915323227643967,\n",
       " -0.005078596994280815,\n",
       " -0.006295712199062109,\n",
       " 0.04943541809916496]"
      ]
     },
     "execution_count": 14,
     "metadata": {},
     "output_type": "execute_result"
    }
   ],
   "source": [
    "question_embedding = embedder.get_embeddings([question])[0].values\n",
    "question_embedding[0:10]"
   ]
  },
  {
   "cell_type": "markdown",
   "id": "b7b0269e-6230-4b36-9d42-c1bef381ca16",
   "metadata": {},
   "source": [
    "## Retrieval: Matching With Numpy\n",
    "\n",
    "Use dot product to calculate similarity and find matches for a query embedding\n",
    "\n",
    "> **NOTE:** This will calculate the similarity for all embeddings vectors stored in the local vector db which is just a Numpy array here. This is very fast because there are <200 embeddings vectors. As this scales it would be better to consider a solution that searches a subset of embeddings. More details on retrieval solutions can be found in Retrieval."
   ]
  },
  {
   "cell_type": "code",
   "execution_count": 15,
   "id": "acb34103-c72d-4c71-a5c2-b8e4cc31de29",
   "metadata": {
    "tags": []
   },
   "outputs": [
    {
     "data": {
      "text/plain": [
       "[(38, 0.5843799337008113),\n",
       " (34, 0.5724333016720691),\n",
       " (835, 0.5244194362041271),\n",
       " (40, 0.5126844935129918),\n",
       " (26, 0.5033481946111171)]"
      ]
     },
     "execution_count": 15,
     "metadata": {},
     "output_type": "execute_result"
    }
   ],
   "source": [
    "similarity = np.dot(question_embedding, vector_index.T)\n",
    "matches = np.argsort(similarity)[-5:].tolist()\n",
    "matches.reverse()\n",
    "matches = [(match, similarity[match]) for match in matches]\n",
    "matches"
   ]
  },
  {
   "cell_type": "code",
   "execution_count": 16,
   "id": "ab556340-bad3-4d26-a6da-e287bc4dbd52",
   "metadata": {
    "tags": []
   },
   "outputs": [
    {
     "name": "stdout",
     "output_type": "stream",
     "text": [
      "Match 1 (0.58) is chunk c38:\n",
      "# 2.00-THE PLAYING FIELD\n",
      "\n",
      "## 2.02 Home Base\n",
      "\n",
      "Home base shall be marked by a five-sided slab of whitened rubber. It shall be a 17-inch square with two of the corners removed so that one edge is 17 inches long, two adjacent sides are 8\\frac{1}{2} inches and the remaining two sides are 12 inches and set at an angle to make a point.\n",
      "###################################################\n",
      "Match 2 (0.57) is chunk c39:\n",
      "# 2.00-THE PLAYING FIELD\n",
      "\n",
      "## 2.02 Home Base\n",
      "\n",
      "It shall be set in the ground with the point at the intersection of the lines extending from home base to first base and to third base; with the 17-inch edge facing the pitcher's plate, and the two 12-inch edges coinciding with the first and third base lines. The top edges of home base shall be beveled and the base shall be fixed in the ground level with the ground surface. (See drawing D in Appendix 2.) 3\n",
      "###################################################\n",
      "Match 3 (0.52) is chunk c837:\n",
      "# APPENDICES\n",
      "\n",
      "## Appendix 2\n",
      "\n",
      "Diagram No. 2 Layout at Home Plate, 1st, 2nd, and 3rd Bases 18\" A 18\" 90° LAYOUT AT SECOND BASE FOR LAYOUT AT PITCHER'S PLATE SEE DIAGRAM NO. 3 90° 6\" 17\" 6\" D E 3'0\" 3'0\" 4'0\" 4 C 43\" LAYOUT AT HOME BASE DIAGRAM NO. 2 LEGEND A 1st, 2nd, 3rd BASES BATTER'S BOX B B C CATCHER'S BOX D HOME BASE E PITCHER'S PLATE Rev2023RW 161 90° 4 FOUL LINE LAYOUT AT FIRST BASE\n",
      "###################################################\n",
      "Match 4 (0.51) is chunk c40:\n",
      "# Rule 2.03 to 2.05\n",
      "\n",
      "## 2.03 The Bases\n",
      "\n",
      "First, second and third bases shall be marked by white canvas or rubber-covered bags, securely attached to the ground as indicated in Diagram 2. The first and third base bags shall be entirely within the infield. The second base bag shall be centered on second base. The bags shall be 18 inches square, not less than three nor more than five inches thick, and filled with soft material.\n",
      "###################################################\n",
      "Match 5 (0.50) is chunk c31:\n",
      "# 2.00-THE PLAYING FIELD\n",
      "\n",
      "## 2.01 Layout of the Field\n",
      "\n",
      "When location of home base is determined, with a steel tape measure 127 feet, 3\\frac{3}{8} inches in desired direction to establish second base. From home base, measure 90 feet toward first base; from second base, measure 90 feet toward first base; the intersection of these lines establishes first base. From home base, measure 90 feet toward third base; from second base, measure 90 feet toward third base; the intersection of these lines establishes third base.\n",
      "###################################################\n"
     ]
    }
   ],
   "source": [
    "for m, match in enumerate(matches):\n",
    "    print(f\"Match {m+1} ({match[1]:.2f}) is chunk {vector_db[match[0]][0]}:\\n{content_chunks[vector_db[match[0]][0]]}\\n###################################################\")\n"
   ]
  },
  {
   "cell_type": "markdown",
   "id": "b7cb9504-a9a5-4cfd-ae36-b485502a5bff",
   "metadata": {},
   "source": [
    "# Generation: Q&A With Gemini Grounded With RAG\n",
    "\n",
    "Provide the matched chunks of text along with the question as a prompt to a generative model for a grounded answer."
   ]
  },
  {
   "cell_type": "markdown",
   "id": "fac43d39-6ae1-4ebf-b822-54c902d6e27e",
   "metadata": {},
   "source": [
    "## Prompt Building Function\n",
    "\n",
    "Use the matching chunks as context for the prompt:"
   ]
  },
  {
   "cell_type": "code",
   "execution_count": 17,
   "id": "44703b76-8811-41e6-b8cd-f9eab7d9581b",
   "metadata": {
    "tags": []
   },
   "outputs": [],
   "source": [
    "def get_prompt(question, top_n = 5):\n",
    "    # get embedding for question\n",
    "    question_embedding = embedder.get_embeddings([question])[0].values\n",
    "    # get top_n matches:\n",
    "    similarity = np.dot(question_embedding, vector_index.T)\n",
    "    matches = np.argsort(similarity)[-top_n:].tolist()\n",
    "    matches.reverse()\n",
    "    matches = [[match, similarity[match]] for match in matches]\n",
    "    # construct prompt:\n",
    "    prompt = ''\n",
    "    for m, match in enumerate(matches):\n",
    "        prompt += f\"Context {m+1}:\\n{content_chunks[vector_db[match[0]][0]]}\\n\\n\"\n",
    "    prompt += f'Answer the following question using the provided contexts:\\n{question}'\n",
    "    \n",
    "    return matches, prompt"
   ]
  },
  {
   "cell_type": "code",
   "execution_count": 18,
   "id": "6e8cef24-d034-4307-bdbf-b215e87a7f26",
   "metadata": {
    "tags": []
   },
   "outputs": [
    {
     "name": "stdout",
     "output_type": "stream",
     "text": [
      "Context 1:\n",
      "# 2.00-THE PLAYING FIELD\n",
      "\n",
      "## 2.02 Home Base\n",
      "\n",
      "Home base shall be marked by a five-sided slab of whitened rubber. It shall be a 17-inch square with two of the corners removed so that one edge is 17 inches long, two adjacent sides are 8\\frac{1}{2} inches and the remaining two sides are 12 inches and set at an angle to make a point.\n",
      "\n",
      "Context 2:\n",
      "# 2.00-THE PLAYING FIELD\n",
      "\n",
      "## 2.02 Home Base\n",
      "\n",
      "It shall be set in the ground with the point at the intersection of the lines extending from home base to first base and to third base; with the 17-inch edge facing the pitcher's plate, and the two 12-inch edges coinciding with the first and third base lines. The top edges of home base shall be beveled and the base shall be fixed in the ground level with the ground surface. (See drawing D in Appendix 2.) 3\n",
      "\n",
      "Context 3:\n",
      "# APPENDICES\n",
      "\n",
      "## Appendix 2\n",
      "\n",
      "Diagram No. 2 Layout at Home Plate, 1st, 2nd, and 3rd Bases 18\" A 18\" 90° LAYOUT AT SECOND BASE FOR LAYOUT AT PITCHER'S PLATE SEE DIAGRAM NO. 3 90° 6\" 17\" 6\" D E 3'0\" 3'0\" 4'0\" 4 C 43\" LAYOUT AT HOME BASE DIAGRAM NO. 2 LEGEND A 1st, 2nd, 3rd BASES BATTER'S BOX B B C CATCHER'S BOX D HOME BASE E PITCHER'S PLATE Rev2023RW 161 90° 4 FOUL LINE LAYOUT AT FIRST BASE\n",
      "\n",
      "Context 4:\n",
      "# Rule 2.03 to 2.05\n",
      "\n",
      "## 2.03 The Bases\n",
      "\n",
      "First, second and third bases shall be marked by white canvas or rubber-covered bags, securely attached to the ground as indicated in Diagram 2. The first and third base bags shall be entirely within the infield. The second base bag shall be centered on second base. The bags shall be 18 inches square, not less than three nor more than five inches thick, and filled with soft material.\n",
      "\n",
      "Context 5:\n",
      "# 2.00-THE PLAYING FIELD\n",
      "\n",
      "## 2.01 Layout of the Field\n",
      "\n",
      "When location of home base is determined, with a steel tape measure 127 feet, 3\\frac{3}{8} inches in desired direction to establish second base. From home base, measure 90 feet toward first base; from second base, measure 90 feet toward first base; the intersection of these lines establishes first base. From home base, measure 90 feet toward third base; from second base, measure 90 feet toward third base; the intersection of these lines establishes third base.\n",
      "\n",
      "Answer the following question using the provided contexts:\n",
      "What are the dimensions of a base?\n"
     ]
    }
   ],
   "source": [
    "matches, prompt = get_prompt(question) \n",
    "print(prompt)"
   ]
  },
  {
   "cell_type": "markdown",
   "id": "574cd7fd-24b8-4cbe-b1ad-f9bd971b1abc",
   "metadata": {},
   "source": [
    "### Grounded Generation"
   ]
  },
  {
   "cell_type": "code",
   "execution_count": 19,
   "id": "073a904d-0b50-4518-841a-c33a44dda55d",
   "metadata": {
    "tags": []
   },
   "outputs": [
    {
     "name": "stdout",
     "output_type": "stream",
     "text": [
      "The answer to this question requires combining information from different contexts:\n",
      "\n",
      "* **Context 3:**  This context provides a diagram (Diagram No. 2) showing the layout of the bases. It indicates that 1st, 2nd, and 3rd bases are marked by bags. \n",
      "* **Context 4:** This context explicitly states the dimensions of the bases: \"The bags shall be 18 inches square, not less than three nor more than five inches thick, and filled with soft material.\"\n",
      "\n",
      "**Therefore, the dimensions of a base are 18 inches by 18 inches, with a thickness between 3 and 5 inches.** \n",
      "\n"
     ]
    }
   ],
   "source": [
    "answer = llm.generate_content(prompt).text\n",
    "print(answer)"
   ]
  },
  {
   "cell_type": "markdown",
   "id": "f3713b5d-67c1-4dbd-b64b-a405058f4161",
   "metadata": {},
   "source": [
    "# Ranking API"
   ]
  },
  {
   "cell_type": "markdown",
   "id": "b14f9d02-e892-437b-9969-6aabb9c50572",
   "metadata": {},
   "source": [
    "### Get 20 Matches By Vector Similarity"
   ]
  },
  {
   "cell_type": "code",
   "execution_count": 20,
   "id": "2197ae8a-2e01-4d1b-9e5a-4d175ad749d0",
   "metadata": {
    "tags": []
   },
   "outputs": [
    {
     "data": {
      "text/plain": [
       "20"
      ]
     },
     "execution_count": 20,
     "metadata": {},
     "output_type": "execute_result"
    }
   ],
   "source": [
    "matches, _ = get_prompt(question, 20)\n",
    "len(matches)"
   ]
  },
  {
   "cell_type": "code",
   "execution_count": 21,
   "id": "7d164884-7b70-4134-a7a9-dff253e4ee00",
   "metadata": {
    "tags": []
   },
   "outputs": [
    {
     "data": {
      "text/plain": [
       "([38, 0.5843799337008113], [29, 0.4483553514768128])"
      ]
     },
     "execution_count": 21,
     "metadata": {},
     "output_type": "execute_result"
    }
   ],
   "source": [
    "matches[0], matches[-1]"
   ]
  },
  {
   "cell_type": "markdown",
   "id": "fe551d58-0d92-4edf-830a-90a7fad3f3f3",
   "metadata": {},
   "source": [
    "## Use the Ranking API to Get The Top-5 Matches"
   ]
  },
  {
   "cell_type": "code",
   "execution_count": 22,
   "id": "33c4f66e-ffab-490e-9635-8c295594ff39",
   "metadata": {
    "tags": []
   },
   "outputs": [
    {
     "data": {
      "text/plain": [
       "[id: \"c38\"\n",
       " content: \"# 2.00-THE PLAYING FIELD\\n\\n## 2.02 Home Base\\n\\nHome base shall be marked by a five-sided slab of whitened rubber. It shall be a 17-inch square with two of the corners removed so that one edge is 17 inches long, two adjacent sides are 8\\\\frac{1}{2} inches and the remaining two sides are 12 inches and set at an angle to make a point.\"\n",
       " score: 0.99,\n",
       " id: \"c40\"\n",
       " content: \"# Rule 2.03 to 2.05\\n\\n## 2.03 The Bases\\n\\nFirst, second and third bases shall be marked by white canvas or rubber-covered bags, securely attached to the ground as indicated in Diagram 2. The first and third base bags shall be entirely within the infield. The second base bag shall be centered on second base. The bags shall be 18 inches square, not less than three nor more than five inches thick, and filled with soft material.\"\n",
       " score: 0.69,\n",
       " id: \"c39\"\n",
       " content: \"# 2.00-THE PLAYING FIELD\\n\\n## 2.02 Home Base\\n\\nIt shall be set in the ground with the point at the intersection of the lines extending from home base to first base and to third base; with the 17-inch edge facing the pitcher\\'s plate, and the two 12-inch edges coinciding with the first and third base lines. The top edges of home base shall be beveled and the base shall be fixed in the ground level with the ground surface. (See drawing D in Appendix 2.) 3\"\n",
       " score: 0.63,\n",
       " id: \"c837\"\n",
       " content: \"# APPENDICES\\n\\n## Appendix 2\\n\\nDiagram No. 2 Layout at Home Plate, 1st, 2nd, and 3rd Bases 18\\\" A 18\\\" 90° LAYOUT AT SECOND BASE FOR LAYOUT AT PITCHER\\'S PLATE SEE DIAGRAM NO. 3 90° 6\\\" 17\\\" 6\\\" D E 3\\'0\\\" 3\\'0\\\" 4\\'0\\\" 4 C 43\\\" LAYOUT AT HOME BASE DIAGRAM NO. 2 LEGEND A 1st, 2nd, 3rd BASES BATTER\\'S BOX B B C CATCHER\\'S BOX D HOME BASE E PITCHER\\'S PLATE Rev2023RW 161 90° 4 FOUL LINE LAYOUT AT FIRST BASE\"\n",
       " score: 0.5,\n",
       " id: \"c41\"\n",
       " content: \"# Rule 2.03 to 2.05\\n\\n## 2.04 The Pitcher\\'s Plate\\n\\nThe pitcher\\'s plate shall be a rectangular slab of whitened rubber, 24 inches by 6 inches. It shall be set in the ground as shown in Diagrams 1 and 2, so that the distance between the pitcher\\'s plate and home base (the rear point of home plate) shall be 60 feet, 6 inches.\"\n",
       " score: 0.44]"
      ]
     },
     "execution_count": 22,
     "metadata": {},
     "output_type": "execute_result"
    }
   ],
   "source": [
    "rank_results = ranker.rank(\n",
    "    request = discoveryengine.RankRequest(\n",
    "        ranking_config = ranker.ranking_config_path(\n",
    "            project = PROJECT_ID,\n",
    "            location = \"global\",\n",
    "            ranking_config = \"default_ranking_config\",\n",
    "        ),\n",
    "        model = \"semantic-ranker-512@latest\",\n",
    "        #top_n = 5,\n",
    "        query = question,\n",
    "        records = [\n",
    "            discoveryengine.RankingRecord(\n",
    "                id = vector_db[match[0]][0],\n",
    "                content = content_chunks[vector_db[match[0]][0]]\n",
    "            ) for match in matches\n",
    "        ]\n",
    "    )\n",
    ")\n",
    "\n",
    "rank_results.records[0:5]"
   ]
  },
  {
   "cell_type": "code",
   "execution_count": 23,
   "id": "cc101b3b-fd03-45b1-91cf-2ac9171b422b",
   "metadata": {
    "tags": []
   },
   "outputs": [
    {
     "name": "stdout",
     "output_type": "stream",
     "text": [
      "1 - chunk_id: c38 with distance: 0.9900000095367432\n",
      "2 - chunk_id: c40 with distance: 0.6899999976158142\n",
      "3 - chunk_id: c39 with distance: 0.6299999952316284\n",
      "4 - chunk_id: c837 with distance: 0.5\n",
      "5 - chunk_id: c41 with distance: 0.4399999976158142\n",
      "6 - chunk_id: c31 with distance: 0.30000001192092896\n",
      "7 - chunk_id: c32 with distance: 0.25\n",
      "8 - chunk_id: c836 with distance: 0.1599999964237213\n",
      "9 - chunk_id: c839 with distance: 0.15000000596046448\n",
      "10 - chunk_id: c841 with distance: 0.14000000059604645\n",
      "11 - chunk_id: c29 with distance: 0.11999999731779099\n",
      "12 - chunk_id: c28 with distance: 0.10000000149011612\n",
      "13 - chunk_id: c838 with distance: 0.10000000149011612\n",
      "14 - chunk_id: c42 with distance: 0.05000000074505806\n",
      "15 - chunk_id: c34 with distance: 0.029999999329447746\n",
      "16 - chunk_id: c23 with distance: 0.009999999776482582\n",
      "17 - chunk_id: c12 with distance: 0.009999999776482582\n",
      "18 - chunk_id: c30 with distance: 0.009999999776482582\n",
      "19 - chunk_id: c27 with distance: 0.009999999776482582\n",
      "20 - chunk_id: c774 with distance: 0.0\n"
     ]
    }
   ],
   "source": [
    "for m, match in enumerate(rank_results.records): print(f\"{m+1} - chunk_id: {match.id} with distance: {match.score}\")"
   ]
  },
  {
   "cell_type": "markdown",
   "id": "f84d02ee-4829-44d1-9a6b-86df18feb298",
   "metadata": {},
   "source": [
    "## Compare Similarity To Ranking\n",
    "\n",
    "Create a visual with the top 20 result from similarity compared to their order from the ranking API:"
   ]
  },
  {
   "cell_type": "code",
   "execution_count": 24,
   "id": "829814e4-cc35-427f-864a-eaee4674a01b",
   "metadata": {
    "tags": []
   },
   "outputs": [
    {
     "data": {
      "image/png": "[encoded data removed]",
      "text/plain": [
       "<Figure size 500x800 with 1 Axes>"
      ]
     },
     "metadata": {},
     "output_type": "display_data"
    }
   ],
   "source": [
    "# Get order list of chunks by similarity and ranking\n",
    "chunks_by_similarity = [vector_db[match[0]][0] for match in matches]\n",
    "chunks_by_ranking = [record.id for record in rank_results.records]\n",
    "n_chunks = len(chunks_by_similarity)\n",
    "\n",
    "# Create the plot\n",
    "fig, ax = plt.subplots(figsize=(5, 8))\n",
    "\n",
    "for i in range(n_chunks):\n",
    "    label = chunks_by_similarity[i]\n",
    "    color = 'red' if label == 'c40' else 'gray'\n",
    "    plot_label = 'Primary Chunk' if color == 'red' else None\n",
    "    ax.plot([0, 1], [i, chunks_by_ranking.index(chunks_by_similarity[i])], marker='o', color=color, label=plot_label)\n",
    "for i, label in enumerate(chunks_by_similarity):\n",
    "    ax.text(-0.1, i, label, ha='right', va='center')\n",
    "    ax.text(1.1, chunks_by_ranking.index(label), label, ha='left', va='center')\n",
    "\n",
    "# Customize axes and labels\n",
    "ax.set_xticks([0, 1])\n",
    "ax.set_xticklabels(['Similarity Order', 'Ranking Order'])\n",
    "ax.set_ylim(-0.5, n_chunks - 0.5)\n",
    "ax.set_yticks(range(n_chunks))\n",
    "#ax.set_yticklabels(chunks_by_similarity)\n",
    "ax.set_yticklabels([])\n",
    "ax.set_title('Comparing Order of Chunks')\n",
    "ax.legend()\n",
    "\n",
    "# Show the plot\n",
    "plt.show()"
   ]
  },
  {
   "cell_type": "markdown",
   "id": "d428f054-6309-4846-b7bc-8a470872133c",
   "metadata": {},
   "source": [
    "# Example - Prompt With The Known Best Chunk: Correct Answer\n",
    "\n",
    "> For a baseline use the known best chunk. In real-world situations this is not always possible but it makes a good baseline for the following examples that compare chunks retrieved from similarity and those filtered by ranking."
   ]
  },
  {
   "cell_type": "code",
   "execution_count": 25,
   "id": "2d7e99ea-3df1-4912-aeaa-42b74038631c",
   "metadata": {
    "tags": []
   },
   "outputs": [
    {
     "name": "stdout",
     "output_type": "stream",
     "text": [
      "Context 20:\n",
      "# Rule 2.03 to 2.05\n",
      "\n",
      "## 2.03 The Bases\n",
      "\n",
      "First, second and third bases shall be marked by white canvas or rubber-covered bags, securely attached to the ground as indicated in Diagram 2. The first and third base bags shall be entirely within the infield. The second base bag shall be centered on second base. The bags shall be 18 inches square, not less than three nor more than five inches thick, and filled with soft material.\n",
      "\n",
      "Answer the following question using the provided contexts:\n",
      "What are the dimensions of a base?\n"
     ]
    }
   ],
   "source": [
    "# construct prompt:\n",
    "prompt = ''\n",
    "prompt += f\"Context {m+1}:\\n{content_chunks['c40']}\\n\\n\"\n",
    "prompt += f'Answer the following question using the provided contexts:\\n{question}'\n",
    "print(prompt)"
   ]
  },
  {
   "cell_type": "code",
   "execution_count": 26,
   "id": "4b84ebe2-5b4b-4357-acfc-cc96d038bdab",
   "metadata": {
    "tags": []
   },
   "outputs": [
    {
     "name": "stdout",
     "output_type": "stream",
     "text": [
      "According to the provided context, the bases are:\n",
      "\n",
      "* **18 inches square:** This means each base is 18 inches long and 18 inches wide.\n",
      "* **3 to 5 inches thick:** The bases can be between 3 and 5 inches thick. \n",
      "\n"
     ]
    }
   ],
   "source": [
    "answer = llm.generate_content(prompt).text\n",
    "print(answer)"
   ]
  },
  {
   "cell_type": "markdown",
   "id": "5471a275-fec0-4605-82c0-f2a047108111",
   "metadata": {},
   "source": [
    "# Example - Prompt With Top 2 Chunks By Similarity: Wrong Answer"
   ]
  },
  {
   "cell_type": "code",
   "execution_count": 27,
   "id": "17ab385b-e7f1-4214-b7e4-24470c80c8d2",
   "metadata": {
    "tags": []
   },
   "outputs": [
    {
     "name": "stdout",
     "output_type": "stream",
     "text": [
      "Context 1:\n",
      "# 2.00-THE PLAYING FIELD\n",
      "\n",
      "## 2.02 Home Base\n",
      "\n",
      "Home base shall be marked by a five-sided slab of whitened rubber. It shall be a 17-inch square with two of the corners removed so that one edge is 17 inches long, two adjacent sides are 8\\frac{1}{2} inches and the remaining two sides are 12 inches and set at an angle to make a point.\n",
      "\n",
      "Context 2:\n",
      "# 2.00-THE PLAYING FIELD\n",
      "\n",
      "## 2.02 Home Base\n",
      "\n",
      "It shall be set in the ground with the point at the intersection of the lines extending from home base to first base and to third base; with the 17-inch edge facing the pitcher's plate, and the two 12-inch edges coinciding with the first and third base lines. The top edges of home base shall be beveled and the base shall be fixed in the ground level with the ground surface. (See drawing D in Appendix 2.) 3\n",
      "\n",
      "Answer the following question using the provided contexts:\n",
      "What are the dimensions of a base?\n"
     ]
    }
   ],
   "source": [
    "# construct prompt:\n",
    "prompt = ''\n",
    "for m, match in enumerate(chunks_by_similarity[0:2]):\n",
    "    prompt += f\"Context {m+1}:\\n{content_chunks[match]}\\n\\n\"\n",
    "prompt += f'Answer the following question using the provided contexts:\\n{question}'\n",
    "print(prompt)"
   ]
  },
  {
   "cell_type": "code",
   "execution_count": 28,
   "id": "90d7049f-b4ed-4749-9939-e897c4ad094d",
   "metadata": {
    "tags": []
   },
   "outputs": [
    {
     "name": "stdout",
     "output_type": "stream",
     "text": [
      "The dimensions of a base are:\n",
      "\n",
      "* **One edge:** 17 inches long\n",
      "* **Two adjacent sides:** 8 1/2 inches\n",
      "* **Two remaining sides:** 12 inches \n",
      "\n"
     ]
    }
   ],
   "source": [
    "answer = llm.generate_content(prompt).text\n",
    "print(answer)"
   ]
  },
  {
   "cell_type": "markdown",
   "id": "7335150b-d67b-4392-9194-cf78316cc737",
   "metadata": {},
   "source": [
    "# Example - Prompt with Top 2 Chunks By Ranking: Correct Answer"
   ]
  },
  {
   "cell_type": "code",
   "execution_count": 29,
   "id": "6226eae2-ef8b-41a6-aa5b-7a076707c932",
   "metadata": {
    "tags": []
   },
   "outputs": [
    {
     "name": "stdout",
     "output_type": "stream",
     "text": [
      "Context 1:\n",
      "# 2.00-THE PLAYING FIELD\n",
      "\n",
      "## 2.02 Home Base\n",
      "\n",
      "Home base shall be marked by a five-sided slab of whitened rubber. It shall be a 17-inch square with two of the corners removed so that one edge is 17 inches long, two adjacent sides are 8\\frac{1}{2} inches and the remaining two sides are 12 inches and set at an angle to make a point.\n",
      "\n",
      "Context 2:\n",
      "# Rule 2.03 to 2.05\n",
      "\n",
      "## 2.03 The Bases\n",
      "\n",
      "First, second and third bases shall be marked by white canvas or rubber-covered bags, securely attached to the ground as indicated in Diagram 2. The first and third base bags shall be entirely within the infield. The second base bag shall be centered on second base. The bags shall be 18 inches square, not less than three nor more than five inches thick, and filled with soft material.\n",
      "\n",
      "Answer the following question using the provided contexts:\n",
      "What are the dimensions of a base?\n"
     ]
    }
   ],
   "source": [
    "# construct prompt:\n",
    "prompt = ''\n",
    "for m, match in enumerate(chunks_by_ranking[0:2]):\n",
    "    prompt += f\"Context {m+1}:\\n{content_chunks[match]}\\n\\n\"\n",
    "prompt += f'Answer the following question using the provided contexts:\\n{question}'\n",
    "print(prompt)"
   ]
  },
  {
   "cell_type": "code",
   "execution_count": null,
   "id": "e27b8633-32e3-4a82-9167-c36133bc6202",
   "metadata": {},
   "outputs": [],
   "source": []
  }
 ],
 "metadata": {
  "environment": {
   "kernel": "conda-base-py",
   "name": "workbench-notebooks.m125",
   "type": "gcloud",
   "uri": "us-docker.pkg.dev/deeplearning-platform-release/gcr.io/workbench-notebooks:m125"
  },
  "kernelspec": {
   "display_name": "Python 3 (ipykernel) (Local)",
   "language": "python",
   "name": "conda-base-py"
  },
  "language_info": {
   "codemirror_mode": {
    "name": "ipython",
    "version": 3
   },
   "file_extension": ".py",
   "mimetype": "text/x-python",
   "name": "python",
   "nbconvert_exporter": "python",
   "pygments_lexer": "ipython3",
   "version": "3.10.15"
  }
 },
 "nbformat": 4,
 "nbformat_minor": 5
}
