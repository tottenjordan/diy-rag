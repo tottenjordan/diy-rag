{
 "cells": [
  {
   "cell_type": "markdown",
   "id": "9e5e5f2d-8c8f-4507-a4b1-d7b639378885",
   "metadata": {},
   "source": [
    "# Retrieval for RAG with Vertex AI Vector Search\n",
    "\n",
    "> Vertex AI Vector Search (VVS) For Storage, Indexing, And Search\n",
    "\n",
    "Once [embeddings](https://github.com/statmike/vertex-ai-mlops/blob/main/Applied%20GenAI/Embeddings/readme.md) are generated for the content ([chunks](https://github.com/statmike/vertex-ai-mlops/blob/main/Applied%20GenAI/Chunking/readme.md)), we next need a vector database to index our embeddings for downstream similarity matching tasks..."
   ]
  },
  {
   "cell_type": "markdown",
   "id": "2adc67cb-8176-47a8-86c2-c87720c71b8a",
   "metadata": {},
   "source": [
    "**retrieval metrics**\n",
    "* `Precision` is fraction of retrieved documents that are relevant\n",
    "* `Recall` is fraction of all relevant documents that are retrieved"
   ]
  },
  {
   "cell_type": "code",
   "execution_count": 4,
   "id": "e31a9e61-33cc-4e4c-9d36-d1f567e3b7be",
   "metadata": {
    "tags": []
   },
   "outputs": [
    {
     "name": "stdout",
     "output_type": "stream",
     "text": [
      "\u001b[01;34m.\u001b[00m\n",
      "├── README.md\n",
      "├── \u001b[01;34mnotebooks\u001b[00m\n",
      "│   └── [JT]_grounded_rag.ipynb\n",
      "├── requirements.txt\n",
      "└── \u001b[01;34msrc\u001b[00m\n",
      "    ├── display_utils.py\n",
      "    ├── docai_langchain_utils.py\n",
      "    ├── gcs_loader.py\n",
      "    └── vvs_utils.py\n",
      "\n",
      "2 directories, 7 files\n"
     ]
    }
   ],
   "source": [
    "! cd .. && tree"
   ]
  },
  {
   "cell_type": "markdown",
   "id": "712ac600-1071-4ef1-a90d-5ba111e50992",
   "metadata": {},
   "source": [
    "## imports"
   ]
  },
  {
   "cell_type": "code",
   "execution_count": 69,
   "id": "c4d1d170-8af9-44a1-9c93-2565f1230ad2",
   "metadata": {
    "tags": []
   },
   "outputs": [],
   "source": [
    "from typing import TYPE_CHECKING, Iterator, List, Optional, Sequence\n",
    "import os, json, time, glob\n",
    "import numpy as np\n",
    "\n",
    "# Vertex AI\n",
    "from google.cloud import aiplatform, storage\n",
    "import vertexai.language_models # for embeddings API\n",
    "import vertexai.generative_models # for Gemini Models\n",
    "# from google.cloud import documentai\n",
    "# from google.cloud import discoveryengine\n",
    "\n",
    "# this repo\n",
    "import sys\n",
    "sys.path.append(\"..\")\n",
    "from src import display_utils, docai_utils, gcs_loader, vvs_utils"
   ]
  },
  {
   "cell_type": "markdown",
   "id": "311dabd2-f853-4c32-bed2-97aa7fea8fd1",
   "metadata": {},
   "source": [
    "## config"
   ]
  },
  {
   "cell_type": "code",
   "execution_count": 41,
   "id": "a09ba7af-ebe1-4c3d-8232-1b6f00089473",
   "metadata": {
    "tags": []
   },
   "outputs": [],
   "source": [
    "PREFIX=\"mortgage-ball\""
   ]
  },
  {
   "cell_type": "code",
   "execution_count": 129,
   "id": "aa6e7c0b-b358-41d7-a2cf-7e052ef96b2b",
   "metadata": {
    "tags": []
   },
   "outputs": [
    {
     "name": "stdout",
     "output_type": "stream",
     "text": [
      "GCS_BUCKET              : mortgage-ball-central-bucket\n",
      "GCS_BUCKET_URI          : gs://mortgage-ball-central-bucket\n",
      "VS_INDEX_NAME           : mortgage-ball-v1-index\n",
      "DOCAI_PROCESSOR_NAME    : mortgage-ball-v1\n",
      "VS_INDEX_ENDPOINT_NAME  : mortgage-ball-endpoint\n",
      "VS_CONTENTS_DELTA_URI_1 : gs://mortgage-ball-bucket/index/mlb/embeddings\n",
      "VS_CONTENTS_DELTA_URI_2 : gs://mortgage-ball-bucket/index/lending/embeddings\n"
     ]
    }
   ],
   "source": [
    "PROJECT_ID = \"hybrid-vertex\"\n",
    "REGION = \"us-central1\"\n",
    "LOCATION = REGION.split('-')[0]\n",
    "\n",
    "EXPERIMENT_1 = \"mlb\"\n",
    "EXPERIMENT_2 = \"lending\"\n",
    "\n",
    "# Cloud storage buckets\n",
    "GCS_BUCKET_URI = f\"gs://{PREFIX}-central-bucket\"\n",
    "GCS_BUCKET = GCS_BUCKET_URI.replace(\"gs://\", \"\")\n",
    "\n",
    "# # mlb - Vertex AI Vector Search\n",
    "# VS_INDEX_NAME_1 = f\"{PREFIX}-{EXPERIMENT_1}\"\n",
    "# VS_CONTENTS_DELTA_URI_1 = f\"{GCS_BUCKET_URI}/index/{EXPERIMENT_1}/embeddings\"\n",
    "\n",
    "# # lending - Vertex AI Vector Search\n",
    "# VS_INDEX_NAME_2 = f\"{PREFIX}-{EXPERIMENT_2}\"\n",
    "# VS_CONTENTS_DELTA_URI_2 = f\"{GCS_BUCKET_URI}/index/{EXPERIMENT_2}/embeddings\"\n",
    "\n",
    "\n",
    "# same config\n",
    "VS_INDEX_NAME = f\"{PREFIX}-v1-index\" \n",
    "VS_INDEX_ENDPOINT_NAME = f\"{PREFIX}-endpoint\"\n",
    "VS_DIMENSIONS = 768\n",
    "VS_APPROX_NEIGHBORS = 150\n",
    "VS_INDEX_UPDATE_METHOD = \"STREAM_UPDATE\"\n",
    "VS_INDEX_SHARD_SIZE = \"SHARD_SIZE_SMALL\"\n",
    "VS_LEAF_NODE_EMB_COUNT = 500\n",
    "VS_LEAF_SEARCH_PERCENT = 80\n",
    "VS_DISTANCE_MEASURE_TYPE = \"DOT_PRODUCT_DISTANCE\"\n",
    "VS_MACHINE_TYPE = \"e2-standard-16\"\n",
    "VS_MIN_REPLICAS = 1\n",
    "VS_MAX_REPLICAS = 1\n",
    "VS_DESCRIPTION = \"Index for DIY RAG with Vertex AI APIs\"  # @param {type:\"string\"}\n",
    "\n",
    "# Models\n",
    "EMBEDDINGS_MODEL_NAME = \"text-embedding-004\"\n",
    "LLM_MODEL_NAME = \"gemini-1.5-pro\"\n",
    "\n",
    "# DocumentAI Processor\n",
    "DOCAI_LOCATION = \"us\"  # @param [\"us\", \"eu\"]\n",
    "DOCAI_PROCESSOR_NAME = f\"{PREFIX}-v1\"  # @param {type:\"string\"}\n",
    "\n",
    "print(f\"GCS_BUCKET              : {GCS_BUCKET}\")\n",
    "print(f\"GCS_BUCKET_URI          : {GCS_BUCKET_URI}\")\n",
    "print(f\"VS_INDEX_NAME           : {VS_INDEX_NAME}\")\n",
    "print(f\"DOCAI_PROCESSOR_NAME    : {DOCAI_PROCESSOR_NAME}\")\n",
    "print(f\"VS_INDEX_ENDPOINT_NAME  : {VS_INDEX_ENDPOINT_NAME}\")\n",
    "print(f\"VS_CONTENTS_DELTA_URI_1 : {VS_CONTENTS_DELTA_URI_1}\")\n",
    "print(f\"VS_CONTENTS_DELTA_URI_2 : {VS_CONTENTS_DELTA_URI_2}\")"
   ]
  },
  {
   "cell_type": "code",
   "execution_count": 130,
   "id": "bb212fec-ac94-4ca3-aadb-7a4f6ba273f5",
   "metadata": {
    "tags": []
   },
   "outputs": [
    {
     "name": "stdout",
     "output_type": "stream",
     "text": [
      "Creating gs://mortgage-ball-central-bucket/...\n"
     ]
    }
   ],
   "source": [
    "! gcloud storage buckets create $GCS_BUCKET_URI --location=$REGION --project=$PROJECT_ID"
   ]
  },
  {
   "cell_type": "code",
   "execution_count": 139,
   "id": "b8bbb9b7-730b-48d1-bc7e-e1a8b5f18d8b",
   "metadata": {
    "tags": []
   },
   "outputs": [],
   "source": [
    "## clients\n",
    "# vertex ai clients\n",
    "vertexai.init(project = PROJECT_ID, location = REGION)\n",
    "\n",
    "# gcs client\n",
    "gcs = storage.Client(project = PROJECT_ID)\n",
    "bucket = gcs.bucket(GCS_BUCKET)"
   ]
  },
  {
   "cell_type": "markdown",
   "id": "418f55c9-0875-4437-bfd5-eb527d274dc1",
   "metadata": {},
   "source": [
    "### Enable / Disable flags"
   ]
  },
  {
   "cell_type": "code",
   "execution_count": 66,
   "id": "4ebb21f9-9316-4793-9fd6-ff7e385fec07",
   "metadata": {
    "tags": []
   },
   "outputs": [],
   "source": [
    "# Enable/disable flags\n",
    "# flag to create Google Cloud resources configured above\n",
    "# refer to the notes before this cell\n",
    "CREATE_RESOURCES = True  # @param {type:\"boolean\"}\n",
    "# flag to run data ingestion\n",
    "RUN_INGESTION = True  # @param {type:\"boolean\"}"
   ]
  },
  {
   "cell_type": "markdown",
   "id": "05c66b43-8ef2-45d9-bc35-771bff70cf29",
   "metadata": {},
   "source": [
    "### helper functions"
   ]
  },
  {
   "cell_type": "code",
   "execution_count": 88,
   "id": "befc5314-c093-4613-b9a6-d6d7fa164755",
   "metadata": {
    "tags": []
   },
   "outputs": [],
   "source": [
    "# @title Utility methods for adding index to Vertex AI Vector Search\n",
    "# def get_batches(items: List, n: int = 1000) -> List[List]:\n",
    "#     n = max(1, n)\n",
    "#     return [items[i : i + n] for i in range(0, len(items), n)]\n",
    "\n",
    "\n",
    "# def add_data(vector_store, chunks) -> None:\n",
    "#     if RUN_INGESTION:\n",
    "#         batch_size = 1000\n",
    "#         texts = get_batches([chunk.page_content for chunk in chunks], n=batch_size)\n",
    "#         metadatas = get_batches([chunk.metadata for chunk in chunks], n=batch_size)\n",
    "\n",
    "#         for i, (b_texts, b_metadatas) in enumerate(zip(texts, metadatas)):\n",
    "#             print(f\"Adding {len(b_texts)} data points to index\")\n",
    "#             is_complete_overwrite = bool(i == 0)\n",
    "#             vector_store.add_texts(\n",
    "#                 texts=b_texts,\n",
    "#                 metadatas=b_metadatas,\n",
    "#                 is_complete_overwrite=is_complete_overwrite,\n",
    "#             )\n",
    "#     else:\n",
    "#         print(\"Skipping ingestion. Enable `RUN_INGESTION` flag\")"
   ]
  },
  {
   "cell_type": "markdown",
   "id": "5a9f1514-3c13-4df5-8165-62082bd4c891",
   "metadata": {},
   "source": [
    "# Load the chunks"
   ]
  },
  {
   "cell_type": "code",
   "execution_count": 46,
   "id": "66c44aea-d6ac-4136-8ff6-d4a12737a54d",
   "metadata": {
    "tags": []
   },
   "outputs": [
    {
     "data": {
      "text/plain": [
       "['files/embeddings-api/large-files-chunk-embeddings-0000.jsonl',\n",
       " 'files/embeddings-api/large-files-chunk-embeddings-0001.jsonl',\n",
       " 'files/embeddings-api/large-files-chunk-embeddings-0002.jsonl',\n",
       " 'files/embeddings-api/large-files-chunk-embeddings-0003.jsonl',\n",
       " 'files/embeddings-api/large-files-chunk-embeddings-0004.jsonl',\n",
       " 'files/embeddings-api/large-files-chunk-embeddings-0005.jsonl',\n",
       " 'files/embeddings-api/large-files-chunk-embeddings-0006.jsonl',\n",
       " 'files/embeddings-api/large-files-chunk-embeddings-0007.jsonl',\n",
       " 'files/embeddings-api/large-files-chunk-embeddings-0008.jsonl',\n",
       " 'files/embeddings-api/large-files-chunk-embeddings-0009.jsonl']"
      ]
     },
     "execution_count": 46,
     "metadata": {},
     "output_type": "execute_result"
    }
   ],
   "source": [
    "local_dir = \"files/embeddings-api\"\n",
    "\n",
    "jsonl_files = glob.glob(f\"{local_dir}/large-files*.jsonl\")\n",
    "jsonl_files.sort()\n",
    "jsonl_files"
   ]
  },
  {
   "cell_type": "code",
   "execution_count": 47,
   "id": "ec83ceee-18ec-4ff8-bd85-027baab1686f",
   "metadata": {
    "tags": []
   },
   "outputs": [
    {
     "data": {
      "text/plain": [
       "9042"
      ]
     },
     "execution_count": 47,
     "metadata": {},
     "output_type": "execute_result"
    }
   ],
   "source": [
    "chunks = []\n",
    "for file in jsonl_files:\n",
    "    with open(file, 'r') as f:\n",
    "        chunks.extend([json.loads(line) for line in f])\n",
    "len(chunks)"
   ]
  },
  {
   "cell_type": "markdown",
   "id": "4ac7273e-6cc0-43e3-a288-3b6ddbb0cf47",
   "metadata": {},
   "source": [
    "## Review A Chunk"
   ]
  },
  {
   "cell_type": "code",
   "execution_count": 48,
   "id": "fc780f50-f1b7-4e4e-9d72-24474b6c827f",
   "metadata": {
    "tags": []
   },
   "outputs": [
    {
     "data": {
      "text/plain": [
       "dict_keys(['instance', 'predictions', 'status'])"
      ]
     },
     "execution_count": 48,
     "metadata": {},
     "output_type": "execute_result"
    }
   ],
   "source": [
    "chunks[0].keys()"
   ]
  },
  {
   "cell_type": "code",
   "execution_count": 49,
   "id": "626c5a66-9384-4590-b174-312be8d7622a",
   "metadata": {
    "tags": []
   },
   "outputs": [
    {
     "data": {
      "text/plain": [
       "'fannie_part_0_c899'"
      ]
     },
     "execution_count": 49,
     "metadata": {},
     "output_type": "execute_result"
    }
   ],
   "source": [
    "chunks[0]['instance']['chunk_id']"
   ]
  },
  {
   "cell_type": "code",
   "execution_count": 50,
   "id": "f29abd60-f5ad-4c8e-9214-84fbe9a820bf",
   "metadata": {
    "tags": []
   },
   "outputs": [
    {
     "name": "stdout",
     "output_type": "stream",
     "text": [
      "# B3-3.1-09, Other Sources of Income (05/01/2024)\n",
      "\n",
      "## Alimony, Child Support, or Separate Maintenance\n",
      "\n",
      "Note: The lender may include alimony, child support, or separate maintenance as income only if the borrower discloses it on the Form 1003 and requests that it be considered in qualifying for the loan. If a borrower's alimony or child support income is validated by the DU validation service, DU will issue a message indicating the required documentation. This documentation may differ from the requirements described above for the verification of the borrower's regular receipt of the full payment and its use as stable qualifying income. See B3-2-02, DU Validation Service.\n"
     ]
    }
   ],
   "source": [
    "print(chunks[0]['instance']['content'])"
   ]
  },
  {
   "cell_type": "code",
   "execution_count": 51,
   "id": "97d24e25-b23a-4c59-89b4-1f22bffa8166",
   "metadata": {
    "tags": []
   },
   "outputs": [
    {
     "data": {
      "text/plain": [
       "[0.029661040753126144,\n",
       " -0.013862958177924156,\n",
       " 0.024388911202549934,\n",
       " 0.04231889545917511,\n",
       " 0.015836646780371666,\n",
       " 0.0672280341386795,\n",
       " 0.009761175140738487,\n",
       " 0.04619113728404045,\n",
       " -0.019515754655003548,\n",
       " 0.009478162042796612]"
      ]
     },
     "execution_count": 51,
     "metadata": {},
     "output_type": "execute_result"
    }
   ],
   "source": [
    "chunks[0]['predictions'][0]['embeddings']['values'][0:10]"
   ]
  },
  {
   "cell_type": "markdown",
   "id": "3aac1dd5-2a92-471d-8cb2-3f8ed7735225",
   "metadata": {},
   "source": [
    "## Prepare Chunk Structure\n",
    "\n",
    "Make a list of dictionaries with information for each chunk:"
   ]
  },
  {
   "cell_type": "code",
   "execution_count": 53,
   "id": "f147cb51-ecf1-467f-a7e4-c7df08b76017",
   "metadata": {
    "tags": []
   },
   "outputs": [],
   "source": [
    "content_chunks = [\n",
    "    dict(\n",
    "        gse = chunk['instance']['gse'],\n",
    "        chunk_id = chunk['instance']['chunk_id'],\n",
    "        content = chunk['instance']['content'],\n",
    "        embedding = chunk['predictions'][0]['embeddings']['values']\n",
    "    ) for chunk in chunks\n",
    "]"
   ]
  },
  {
   "cell_type": "code",
   "execution_count": 85,
   "id": "328d4c4a-e6f0-485c-9545-8fe8069c6842",
   "metadata": {
    "tags": []
   },
   "outputs": [
    {
     "data": {
      "text/plain": [
       "\"# B3-3.1-09, Other Sources of Income (05/01/2024)\\n\\n## Alimony, Child Support, or Separate Maintenance\\n\\nNote: The lender may include alimony, child support, or separate maintenance as income only if the borrower discloses it on the Form 1003 and requests that it be considered in qualifying for the loan. If a borrower's alimony or child support income is validated by the DU validation service, DU will issue a message indicating the required documentation. This documentation may differ from the requirements described above for the verification of the borrower's regular receipt of the full payment and its use as stable qualifying income. See B3-2-02, DU Validation Service.\""
      ]
     },
     "execution_count": 85,
     "metadata": {},
     "output_type": "execute_result"
    }
   ],
   "source": [
    "# content_chunks[0].keys()\n",
    "# dict_keys(['gse', 'chunk_id', 'content', 'embedding'])\n",
    "\n",
    "# content_chunks[0]['gse']\n",
    "# content_chunks[0]['chunk_id']\n",
    "content_chunks[0]['content']\n",
    "# content_chunks[0]['embedding']"
   ]
  },
  {
   "cell_type": "markdown",
   "id": "cb528a31-d841-4537-aeb3-ef49f0e64b8e",
   "metadata": {},
   "source": [
    "## Query Embedding\n",
    "\n",
    "Create a query, or prompt, and get the embedding for it:\n",
    "\n",
    "Connect to models for text embeddings. Learn more about the model API:\n",
    "\n",
    "* [Vertex AI Text Embeddings API](https://github.com/statmike/vertex-ai-mlops/blob/315a89c3b3245ff2e08d2522cb24c6f5c3a0ebb1/Applied%20GenAI/Embeddings/Vertex%20AI%20Text%20Embeddings%20API.ipynb)"
   ]
  },
  {
   "cell_type": "code",
   "execution_count": 54,
   "id": "f76706b1-3635-415a-a908-57fa8e4f0932",
   "metadata": {
    "tags": []
   },
   "outputs": [
    {
     "data": {
      "text/plain": [
       "[-0.0005117303808219731,\n",
       " 0.009651427157223225,\n",
       " 0.01768726110458374,\n",
       " 0.014538003131747246,\n",
       " -0.01829824410378933,\n",
       " 0.027877431362867355,\n",
       " -0.021124685183167458,\n",
       " 0.008830446749925613,\n",
       " -0.02669006586074829,\n",
       " 0.06414774805307388]"
      ]
     },
     "execution_count": 54,
     "metadata": {},
     "output_type": "execute_result"
    }
   ],
   "source": [
    "question = \"Does a lender have to perform servicing functions directly?\"\n",
    "\n",
    "embedder = vertexai.language_models.TextEmbeddingModel.from_pretrained('text-embedding-004')\n",
    "\n",
    "question_embedding = embedder.get_embeddings([question])[0].values\n",
    "question_embedding[0:10]"
   ]
  },
  {
   "cell_type": "markdown",
   "id": "e5d4022e-85ff-436e-ba92-6160c85625a6",
   "metadata": {},
   "source": [
    "# Retrieval With Vertex AI Vector Search"
   ]
  },
  {
   "cell_type": "markdown",
   "id": "7042ef09-b61b-4643-8b8c-de073b917ddc",
   "metadata": {},
   "source": [
    "batch input for Vector Search are sourced from GCS directory with structure:\n",
    "\n",
    "```\n",
    "batch_root/\n",
    "├── features_1.csv\n",
    "├── features_2.csv\n",
    "└── delete/\n",
    "    └── deletes_1.txt\n",
    "```\n",
    "\n",
    "[1] each `features*` files is `.csv`, `.json`, or `.avro` file of input feature data. The `delete` folder has `.txt` files of record IDs to remove from the the index. Each batch job will have a batch root folder like this.\n",
    "\n",
    "[2] The `features` files have structs of input information for each input and requires a value for `id` and for `embedding` and/or `sparse_embedding`. The `sparse_embedding` can be great for keyword search and hybrid search. The example below focuses on embeddings which are also called dense embeddings.\n",
    "\n",
    "[3] The `features` files can also have optional `restricts` with `namespace` and `allow` tokens for use in filtering and crowding during search. These will be used in the example below.\n",
    "\n",
    "References:\n",
    "* [Input data format and structure](https://cloud.google.com/vertex-ai/docs/vector-search/setup/format-structure)\n",
    "* [Filter vector matches](https://cloud.google.com/vertex-ai/docs/vector-search/filtering)"
   ]
  },
  {
   "cell_type": "code",
   "execution_count": 55,
   "id": "3ef0d291-4825-4cc3-a26d-4c263e8f1433",
   "metadata": {
    "tags": []
   },
   "outputs": [],
   "source": [
    "inside_vs_data = [\n",
    "    dict(\n",
    "        id = chunk['instance']['chunk_id'],\n",
    "        embedding = chunk['predictions'][0]['embeddings']['values'],\n",
    "        restricts = [\n",
    "            dict(\n",
    "                namespace = 'gse',\n",
    "                allow = [chunk['instance']['gse']],\n",
    "                #deny = []\n",
    "            )\n",
    "        ],\n",
    "        #numeric_restricts = [],\n",
    "        crowding_tag = chunk['instance']['gse']\n",
    "    ) for chunk in chunks\n",
    "]\n",
    "\n",
    "outside_vs_data = {}\n",
    "\n",
    "for chunk in chunks:\n",
    "    outside_vs_data[chunk['instance']['chunk_id']] = chunk['instance']['content']"
   ]
  },
  {
   "cell_type": "markdown",
   "id": "e961fb28-9323-4733-a4d3-400e5cb511bc",
   "metadata": {},
   "source": [
    "**save to cloud storage bucket**"
   ]
  },
  {
   "cell_type": "code",
   "execution_count": 56,
   "id": "f75b5233-239d-4847-b520-b7749db865fa",
   "metadata": {
    "collapsed": true,
    "jupyter": {
     "outputs_hidden": true
    },
    "tags": []
   },
   "outputs": [
    {
     "data": {
      "text/plain": [
       "[<Blob: mortgage-ball-bucket, mortgage-ball/lending/batches/initial/feature.json, 1730882017969080>,\n",
       " <Blob: mortgage-ball-bucket, mortgage-ball/lending/full/fannie.pdf, 1730874724435048>,\n",
       " <Blob: mortgage-ball-bucket, mortgage-ball/lending/full/freddie.pdf, 1730874722832492>,\n",
       " <Blob: mortgage-ball-bucket, mortgage-ball/lending/parsing/parts/18058820851710512966/0/fannie_part_0-0.json, 1730878586965564>,\n",
       " <Blob: mortgage-ball-bucket, mortgage-ball/lending/parsing/parts/18058820851710512966/1/fannie_part_1-0.json, 1730878587340463>,\n",
       " <Blob: mortgage-ball-bucket, mortgage-ball/lending/parsing/parts/18058820851710512966/2/fannie_part_2-0.json, 1730878587773105>,\n",
       " <Blob: mortgage-ball-bucket, mortgage-ball/lending/parsing/parts/18058820851710512966/3/freddie_part_0-0.json, 1730878588145103>,\n",
       " <Blob: mortgage-ball-bucket, mortgage-ball/lending/parsing/parts/18058820851710512966/4/freddie_part_1-0.json, 1730878588520813>,\n",
       " <Blob: mortgage-ball-bucket, mortgage-ball/lending/parsing/parts/18058820851710512966/5/freddie_part_2-0.json, 1730878588904891>,\n",
       " <Blob: mortgage-ball-bucket, mortgage-ball/lending/parsing/parts/18058820851710512966/6/freddie_part_3-0.json, 1730878589316307>,\n",
       " <Blob: mortgage-ball-bucket, mortgage-ball/lending/parsing/parts/18058820851710512966/7/freddie_part_4-0.json, 1730878589725410>,\n",
       " <Blob: mortgage-ball-bucket, mortgage-ball/lending/parsing/parts/18058820851710512966/8/freddie_part_5-0.json, 1730878590098202>,\n",
       " <Blob: mortgage-ball-bucket, mortgage-ball/lending/parsing/parts/18058820851710512966/9/freddie_part_6-0.json, 1730878590373972>,\n",
       " <Blob: mortgage-ball-bucket, mortgage-ball/lending/parts/fannie_part_0.pdf, 1730874740710431>,\n",
       " <Blob: mortgage-ball-bucket, mortgage-ball/lending/parts/fannie_part_1.pdf, 1730874740999153>,\n",
       " <Blob: mortgage-ball-bucket, mortgage-ball/lending/parts/fannie_part_2.pdf, 1730874741283815>,\n",
       " <Blob: mortgage-ball-bucket, mortgage-ball/lending/parts/freddie_part_0.pdf, 1730874735937057>,\n",
       " <Blob: mortgage-ball-bucket, mortgage-ball/lending/parts/freddie_part_1.pdf, 1730874736230720>,\n",
       " <Blob: mortgage-ball-bucket, mortgage-ball/lending/parts/freddie_part_2.pdf, 1730874736560400>,\n",
       " <Blob: mortgage-ball-bucket, mortgage-ball/lending/parts/freddie_part_3.pdf, 1730874736848320>,\n",
       " <Blob: mortgage-ball-bucket, mortgage-ball/lending/parts/freddie_part_4.pdf, 1730874737116306>,\n",
       " <Blob: mortgage-ball-bucket, mortgage-ball/lending/parts/freddie_part_5.pdf, 1730874737393809>,\n",
       " <Blob: mortgage-ball-bucket, mortgage-ball/lending/parts/freddie_part_6.pdf, 1730874737688633>]"
      ]
     },
     "execution_count": 56,
     "metadata": {},
     "output_type": "execute_result"
    }
   ],
   "source": [
    "blob = bucket.blob(f'{PREFIX}/{EXPERIMENT_2}/batches/initial/feature.json')\n",
    "jsonl_data = '\\n'.join(json.dumps(row) for row in inside_vs_data)\n",
    "blob.upload_from_string(jsonl_data, content_type = 'application/json')\n",
    "list(bucket.list_blobs(prefix = f'{PREFIX}/{EXPERIMENT_2}'))"
   ]
  },
  {
   "cell_type": "markdown",
   "id": "edf4c561-f0f6-4174-9bc9-d8e073ea1b92",
   "metadata": {},
   "source": [
    "## Get VVS index"
   ]
  },
  {
   "cell_type": "code",
   "execution_count": 67,
   "id": "d474c420-b0d6-48c6-b97b-ffadd1c01e6d",
   "metadata": {
    "tags": []
   },
   "outputs": [
    {
     "name": "stdout",
     "output_type": "stream",
     "text": [
      "Creating new resources.\n"
     ]
    }
   ],
   "source": [
    "if CREATE_RESOURCES:\n",
    "    print(\"Creating new resources.\")\n",
    "else:\n",
    "    print(\"Resource creation is skipped.\")"
   ]
  },
  {
   "cell_type": "code",
   "execution_count": 71,
   "id": "27c661eb-6451-4aae-aa72-9bd7dfdf1ebc",
   "metadata": {
    "tags": []
   },
   "outputs": [],
   "source": [
    "# sys.path.append(\"..\")\n",
    "# from src import vvs_utils_v2 as vvs_utils"
   ]
  },
  {
   "cell_type": "code",
   "execution_count": 72,
   "id": "595019dc-ac39-4f10-8a52-fae34b81a74d",
   "metadata": {
    "tags": []
   },
   "outputs": [
    {
     "name": "stdout",
     "output_type": "stream",
     "text": [
      "Vector Search index mortgage-ball-v1-index exists with resource name projects/934903580331/locations/us-central1/indexes/1202439110275366912\n"
     ]
    }
   ],
   "source": [
    "# Create vector search index if not exists else return index resource name\n",
    "vs_index = vvs_utils.create_index(\n",
    "    project_id=PROJECT_ID,\n",
    "    region=REGION, # str,\n",
    "    sync_job=False,\n",
    "    create_resources=CREATE_RESOURCES, # bool, \n",
    "    vs_index_name=VS_INDEX_NAME, # str,\n",
    "    vs_dimensions=VS_DIMENSIONS, # int,\n",
    "    vs_approx_neghbors=VS_APPROX_NEIGHBORS, # int,\n",
    "    distance_measure_type=VS_DISTANCE_MEASURE_TYPE, # str,\n",
    "    vs_leaf_node_emb_count=VS_LEAF_NODE_EMB_COUNT, # int,\n",
    "    vs_leaf_search_percent=VS_LEAF_SEARCH_PERCENT, # int,\n",
    "    vs_description=VS_DESCRIPTION, # str,\n",
    "    vs_index_shard_size=VS_INDEX_SHARD_SIZE, # str,\n",
    "    vs_index_update_method=VS_INDEX_UPDATE_METHOD, # str,\n",
    ")"
   ]
  },
  {
   "cell_type": "code",
   "execution_count": 92,
   "id": "bf8f1e51-52ad-405c-9b3f-7e8d5f166f8f",
   "metadata": {
    "tags": []
   },
   "outputs": [
    {
     "data": {
      "text/plain": [
       "{'shardsCount': 1}"
      ]
     },
     "execution_count": 92,
     "metadata": {},
     "output_type": "execute_result"
    }
   ],
   "source": [
    "vs_index.to_dict()['indexStats']"
   ]
  },
  {
   "cell_type": "markdown",
   "id": "96b438cb-c0e7-49b8-85de-5b2c9635800f",
   "metadata": {},
   "source": [
    "**get brute-force index...**"
   ]
  },
  {
   "cell_type": "code",
   "execution_count": 63,
   "id": "6f12560f-ba0d-46a7-be84-8bf51c72a9a3",
   "metadata": {
    "tags": []
   },
   "outputs": [
    {
     "name": "stdout",
     "output_type": "stream",
     "text": [
      "mortgage-ball-v1-index-brute-force\n",
      "Creating index ...\n",
      "Creating MatchingEngineIndex\n",
      "Create MatchingEngineIndex backing LRO: projects/934903580331/locations/us-central1/indexes/3805572471453646848/operations/449282063384707072\n",
      "MatchingEngineIndex created. Resource name: projects/934903580331/locations/us-central1/indexes/3805572471453646848\n",
      "To use this MatchingEngineIndex in another session:\n",
      "index = aiplatform.MatchingEngineIndex('projects/934903580331/locations/us-central1/indexes/3805572471453646848')\n"
     ]
    }
   ],
   "source": [
    "VS_INDEX_NAME_BF = f\"{VS_INDEX_NAME}-brute-force\"\n",
    "print(VS_INDEX_NAME_BF)\n",
    "\n",
    "check = aiplatform.MatchingEngineIndex.list(filter=f'display_name=\"{VS_INDEX_NAME_BF}\"')\n",
    "\n",
    "if len(check) > 0:\n",
    "    print('Retrieved existing index with same name.')\n",
    "    vs_index_brute_force = check[0]\n",
    "else:\n",
    "    print('Creating index ...')\n",
    "    vs_index_brute_force = aiplatform.MatchingEngineIndex.create_brute_force_index(\n",
    "        display_name = VS_INDEX_NAME_BF,\n",
    "        dimensions = len(question_embedding),\n",
    "        distance_measure_type = 'DOT_PRODUCT_DISTANCE',\n",
    "        index_update_method = 'BATCH_METHOD',\n",
    "        shard_size = 'SHARD_SIZE_SMALL',\n",
    "        sync=False,\n",
    "    )  "
   ]
  },
  {
   "cell_type": "code",
   "execution_count": 191,
   "id": "0f9405a6-34a5-4c64-ac5f-cdb49e36f083",
   "metadata": {
    "tags": []
   },
   "outputs": [
    {
     "data": {
      "text/plain": [
       "{'shardsCount': 1}"
      ]
     },
     "execution_count": 191,
     "metadata": {},
     "output_type": "execute_result"
    }
   ],
   "source": [
    "vs_index_brute_force.to_dict()['indexStats']"
   ]
  },
  {
   "cell_type": "markdown",
   "id": "4d2fe6f3-f4ff-4ee1-881f-daa28cbbbb1a",
   "metadata": {},
   "source": [
    "## Get VVS index endpoint"
   ]
  },
  {
   "cell_type": "code",
   "execution_count": 102,
   "id": "25f74c6d-898d-4530-83f6-762a5b043103",
   "metadata": {
    "tags": []
   },
   "outputs": [
    {
     "name": "stdout",
     "output_type": "stream",
     "text": [
      "Vector Search index endpoint mortgage-ball-v1-index-endpoint exists with resource name projects/934903580331/locations/us-central1/indexEndpoints/3307168248629297152\n"
     ]
    }
   ],
   "source": [
    "VS_INDEX_ENDPOINT_NAME = \"mortgage-ball-v1-index-endpoint\"\n",
    "\n",
    "# Create vector search index endpoint if not exists else return index endpoint resource name\n",
    "vs_endpoint = vvs_utils.create_index_endpoint(\n",
    "    project_id=PROJECT_ID,\n",
    "    region=REGION,\n",
    "    sync_job=True,\n",
    "    create_resources=CREATE_RESOURCES,\n",
    "    vs_index_endpoint_name=VS_INDEX_ENDPOINT_NAME,\n",
    "    vs_description=VS_DESCRIPTION,\n",
    ")\n",
    "\n",
    "# endpoint_ID=\"3307168248629297152\""
   ]
  },
  {
   "cell_type": "markdown",
   "id": "4edd68df-9262-4c46-b063-219ed6d0f6fb",
   "metadata": {},
   "source": [
    "## Deploy VVS index to endpoint"
   ]
  },
  {
   "cell_type": "code",
   "execution_count": 192,
   "id": "563ba450-d5a5-411c-a11d-5e32c1ccd201",
   "metadata": {},
   "outputs": [
    {
     "name": "stdout",
     "output_type": "stream",
     "text": [
      "Deploying Vector Search index mortgage-ball-v1-index-brute-force at endpoint mortgage-ball-v1-index-endpoint ...\n",
      "Deploying index MatchingEngineIndexEndpoint index_endpoint: projects/934903580331/locations/us-central1/indexEndpoints/3307168248629297152\n",
      "Deploy index MatchingEngineIndexEndpoint index_endpoint backing LRO: projects/934903580331/locations/us-central1/indexEndpoints/3307168248629297152/operations/1643435254033154048\n",
      "MatchingEngineIndexEndpoint index_endpoint Deployed index. Resource name: projects/934903580331/locations/us-central1/indexEndpoints/3307168248629297152\n",
      "Vector Search index mortgage-ball-v1-index-brute-force is deployed at endpoint mortgage-ball-v1-index-endpoint\n"
     ]
    },
    {
     "data": {
      "text/plain": [
       "<google.cloud.aiplatform.matching_engine.matching_engine_index_endpoint.MatchingEngineIndexEndpoint object at 0x7fac38875270> \n",
       "resource name: projects/934903580331/locations/us-central1/indexEndpoints/3307168248629297152"
      ]
     },
     "execution_count": 192,
     "metadata": {},
     "output_type": "execute_result"
    }
   ],
   "source": [
    "# # deploy ANN index\n",
    "# vvs_utils.deploy_index(\n",
    "#     index=vs_index, \n",
    "#     endpoint=vs_endpoint,\n",
    "#     create_resources=CREATE_RESOURCES,\n",
    "#     vs_index_name=VS_INDEX_NAME,\n",
    "#     vs_machine_type=VS_MACHINE_TYPE,\n",
    "#     vs_min_replicas=VS_MIN_REPLICAS,\n",
    "#     vs_max_replicas=VS_MAX_REPLICAS,\n",
    "# )\n",
    "\n",
    "# deploy brute-force index\n",
    "vvs_utils.deploy_index(\n",
    "    index=vs_index_brute_force, \n",
    "    endpoint=vs_endpoint,\n",
    "    create_resources=CREATE_RESOURCES,\n",
    "    vs_index_name=VS_INDEX_NAME_BF,\n",
    "    vs_machine_type=VS_MACHINE_TYPE,\n",
    "    vs_min_replicas=VS_MIN_REPLICAS,\n",
    "    vs_max_replicas=VS_MAX_REPLICAS,\n",
    ")"
   ]
  },
  {
   "cell_type": "markdown",
   "id": "7b8d376b-e3ae-4248-9d19-1438a94b621c",
   "metadata": {},
   "source": [
    "## Create DocAI processor"
   ]
  },
  {
   "cell_type": "code",
   "execution_count": 103,
   "id": "8c9f5859-f9cb-43f1-a376-c0d140b161c8",
   "metadata": {
    "tags": []
   },
   "outputs": [],
   "source": [
    "# # Create Document Layout Processor\n",
    "# docai_processor = vvs_utils.create_docai_processor(\n",
    "#     project_id=PROJECT_ID,\n",
    "#     region=REGION, # str,\n",
    "#     create_resources=CREATE_RESOURCES,\n",
    "#     docai_location=DOCAI_LOCATION,\n",
    "#     processor_display_name=DOCAI_PROCESSOR_NAME,\n",
    "#     processor_type=\"LAYOUT_PARSER_PROCESSOR\",\n",
    "# )\n",
    "\n",
    "\n",
    "# PROCESSOR_NAME = docai_processor.name  # DocAI Layout Parser Processor Name\n",
    "\n",
    "# print(f\"PROCESSOR_NAME: {PROCESSOR_NAME}\")"
   ]
  },
  {
   "cell_type": "markdown",
   "id": "ba9e0ce7-d39c-4466-8970-1771423791df",
   "metadata": {},
   "source": [
    "## Load data to index\n",
    "\n",
    "* `outside_vs_data = {'id': 'content', ...}`\n",
    "* `SERIES = \"rag-demo\"`"
   ]
  },
  {
   "cell_type": "code",
   "execution_count": 134,
   "id": "1e394f0c-df70-4457-a8ef-c7e6a86e5d40",
   "metadata": {
    "tags": []
   },
   "outputs": [
    {
     "name": "stdout",
     "output_type": "stream",
     "text": [
      "gs://mortgage-ball-central-bucket/rag-demo/embeddings-api/\n",
      "gs://mortgage-ball-central-bucket/rag-demo/lending/\n",
      "gs://mortgage-ball-central-bucket/rag-demo/mlb/\n"
     ]
    }
   ],
   "source": [
    "# !gsutil -m cp -r gs://mortgage-ball-bucket/mortgage-ball gs://mortgage-ball-central-bucket/rag-demo\n",
    "\n",
    "! gsutil ls gs://mortgage-ball-central-bucket/rag-demo"
   ]
  },
  {
   "cell_type": "markdown",
   "id": "8a707ca2-e036-447a-9cfc-eb9bed513e32",
   "metadata": {},
   "source": [
    "*load data to ANN index...*"
   ]
  },
  {
   "cell_type": "code",
   "execution_count": 142,
   "id": "a3db0ca2-431e-4c33-9e75-85cf49de64b1",
   "metadata": {
    "tags": []
   },
   "outputs": [
    {
     "name": "stdout",
     "output_type": "stream",
     "text": [
      "Loading Embeddings...\n",
      "Updating MatchingEngineIndex index: projects/934903580331/locations/us-central1/indexes/1202439110275366912\n",
      "Update MatchingEngineIndex index backing LRO: projects/934903580331/locations/us-central1/indexes/1202439110275366912/operations/803659059063422976\n",
      "MatchingEngineIndex index Updated. Resource name: projects/934903580331/locations/us-central1/indexes/1202439110275366912\n"
     ]
    }
   ],
   "source": [
    "if 'vectorsCount' not in vs_index.to_dict()['indexStats']:\n",
    "    print('Loading Embeddings...')\n",
    "    vs_index.update_embeddings(\n",
    "        contents_delta_uri = f'gs://{bucket.name}/{SERIES}/{EXPERIMENT_2}/batches/initial',\n",
    "        is_complete_overwrite = True\n",
    "    )\n",
    "    vs_index = aiplatform.MatchingEngineIndex(index_name = vs_index.name)\n",
    "else:\n",
    "    print('Embeddings already loaded.')"
   ]
  },
  {
   "cell_type": "code",
   "execution_count": 144,
   "id": "3ef1ac95-e862-477a-be31-3d948c28ba75",
   "metadata": {
    "tags": []
   },
   "outputs": [
    {
     "data": {
      "text/plain": [
       "{'vectorsCount': '9042', 'shardsCount': 1}"
      ]
     },
     "execution_count": 144,
     "metadata": {},
     "output_type": "execute_result"
    }
   ],
   "source": [
    "vs_index.to_dict()['indexStats']"
   ]
  },
  {
   "cell_type": "markdown",
   "id": "bf5eb469-c537-402b-b4e7-4ecf9b70a30e",
   "metadata": {},
   "source": [
    "*load data to brute-force index...*"
   ]
  },
  {
   "cell_type": "code",
   "execution_count": 196,
   "id": "9988571d-72e5-4ee6-aff8-7171d410bf7c",
   "metadata": {},
   "outputs": [],
   "source": [
    "if 'vectorsCount' not in vs_index_brute_force.to_dict()['indexStats']:\n",
    "    print('Loading Embeddings...')\n",
    "    vs_index_brute_force.update_embeddings(\n",
    "        contents_delta_uri = f'gs://{bucket.name}/{SERIES}/{EXPERIMENT_2}/batches/initial',\n",
    "        is_complete_overwrite = True\n",
    "    )\n",
    "    vs_index_brute_force = aiplatform.MatchingEngineIndex(index_name = vs_index_brute_force.name)\n",
    "else:\n",
    "    print('Embeddings already loaded.')"
   ]
  },
  {
   "cell_type": "code",
   "execution_count": 194,
   "id": "595a8666-9d7b-48f9-b8e9-deab30a53df7",
   "metadata": {},
   "outputs": [
    {
     "data": {
      "text/plain": [
       "{'vectorsCount': '9042', 'shardsCount': 1}"
      ]
     },
     "execution_count": 194,
     "metadata": {},
     "output_type": "execute_result"
    }
   ],
   "source": [
    "vs_index_brute_force.to_dict()['indexStats']"
   ]
  },
  {
   "cell_type": "code",
   "execution_count": 195,
   "id": "4f38b5d3-2b4d-430f-98e0-fa28c5d93e28",
   "metadata": {
    "tags": []
   },
   "outputs": [
    {
     "data": {
      "text/plain": [
       "[id: \"mortgage_ball_v1_index_brute_force_e39a79f7dfc0\"\n",
       "index: \"projects/934903580331/locations/us-central1/indexes/3805572471453646848\"\n",
       "display_name: \"mortgage-ball-v1-index-brute-force\"\n",
       "create_time {\n",
       "  seconds: 1731162026\n",
       "  nanos: 325788000\n",
       "}\n",
       "index_sync_time {\n",
       "  seconds: 1731162209\n",
       "  nanos: 493701000\n",
       "}\n",
       "dedicated_resources {\n",
       "  machine_spec {\n",
       "    machine_type: \"e2-standard-16\"\n",
       "  }\n",
       "  min_replica_count: 1\n",
       "  max_replica_count: 1\n",
       "}\n",
       "deployment_group: \"default\"\n",
       ", id: \"mortgage_ball_v1_index_c56d551518b5\"\n",
       "index: \"projects/934903580331/locations/us-central1/indexes/1202439110275366912\"\n",
       "display_name: \"mortgage-ball-v1-index\"\n",
       "create_time {\n",
       "  seconds: 1730869612\n",
       "  nanos: 996253000\n",
       "}\n",
       "index_sync_time {\n",
       "  seconds: 1731162087\n",
       "  nanos: 458954000\n",
       "}\n",
       "dedicated_resources {\n",
       "  machine_spec {\n",
       "    machine_type: \"e2-standard-16\"\n",
       "  }\n",
       "  min_replica_count: 1\n",
       "  max_replica_count: 1\n",
       "}\n",
       "deployment_group: \"default\"\n",
       "]"
      ]
     },
     "execution_count": 195,
     "metadata": {},
     "output_type": "execute_result"
    }
   ],
   "source": [
    "vs_endpoint.deployed_indexes"
   ]
  },
  {
   "cell_type": "code",
   "execution_count": null,
   "id": "b3f52b44-d180-49bd-a9d3-28763e9be04f",
   "metadata": {},
   "outputs": [],
   "source": [
    "number_of_vectors = sum(\n",
    "    aiplatform.MatchingEngineIndex(\n",
    "        deployed_index.index\n",
    "    )._gca_resource.index_stats.vectors_count\n",
    "    for deployed_index in vs_endpoint.deployed_indexes\n",
    ")\n",
    "\n",
    "print(f\"Actual: {number_of_vectors}\")"
   ]
  },
  {
   "cell_type": "markdown",
   "id": "c8a0f481-5342-4a51-97a5-92028ce988be",
   "metadata": {
    "jp-MarkdownHeadingCollapsed": true,
    "tags": []
   },
   "source": [
    "#### tmp - debugging - START"
   ]
  },
  {
   "cell_type": "code",
   "execution_count": 122,
   "id": "2325a3cd-3a6e-45c7-b546-d83f96774e6b",
   "metadata": {
    "tags": []
   },
   "outputs": [
    {
     "name": "stdout",
     "output_type": "stream",
     "text": [
      "# B3-3.1-09, Other Sources of Income (05/01/2024)\n",
      "\n",
      "## Alimony, Child Support, or Separate Maintenance\n",
      "\n",
      "Note: The lender may include alimony, child support, or separate maintenance as income only if the borrower discloses it on the Form 1003 and requests that it be considered in qualifying for the loan. If a borrower's alimony or child support income is validated by the DU validation service, DU will issue a message indicating the required documentation. This documentation may differ from the requirements described above for the verification of the borrower's regular receipt of the full payment and its use as stable qualifying income. See B3-2-02, DU Validation Service.\n"
     ]
    }
   ],
   "source": [
    "print(chunks[0]['instance']['content'])"
   ]
  },
  {
   "cell_type": "code",
   "execution_count": 112,
   "id": "5463ad23-0e1c-4f18-b09c-86b54a89b6ea",
   "metadata": {
    "tags": []
   },
   "outputs": [
    {
     "data": {
      "text/plain": [
       "\"# B3-3.1-09, Other Sources of Income (05/01/2024)\\n\\n## Alimony, Child Support, or Separate Maintenance\\n\\nNote: The lender may include alimony, child support, or separate maintenance as income only if the borrower discloses it on the Form 1003 and requests that it be considered in qualifying for the loan. If a borrower's alimony or child support income is validated by the DU validation service, DU will issue a message indicating the required documentation. This documentation may differ from the requirements described above for the verification of the borrower's regular receipt of the full payment and its use as stable qualifying income. See B3-2-02, DU Validation Service.\""
      ]
     },
     "execution_count": 112,
     "metadata": {},
     "output_type": "execute_result"
    }
   ],
   "source": [
    "# type(outside_vs_data) # dict\n",
    "outside_vs_data[\"fannie_part_0_c899\"]"
   ]
  },
  {
   "cell_type": "code",
   "execution_count": 114,
   "id": "b3e96423-8128-4acf-a9c1-efe135c0d19e",
   "metadata": {
    "tags": []
   },
   "outputs": [
    {
     "data": {
      "text/plain": [
       "\"# B3-3.1-09, Other Sources of Income (05/01/2024)\\n\\n## Alimony, Child Support, or Separate Maintenance\\n\\nNote: The lender may include alimony, child support, or separate maintenance as income only if the borrower discloses it on the Form 1003 and requests that it be considered in qualifying for the loan. If a borrower's alimony or child support income is validated by the DU validation service, DU will issue a message indicating the required documentation. This documentation may differ from the requirements described above for the verification of the borrower's regular receipt of the full payment and its use as stable qualifying income. See B3-2-02, DU Validation Service.\""
      ]
     },
     "execution_count": 114,
     "metadata": {},
     "output_type": "execute_result"
    }
   ],
   "source": [
    "# type(chunks) # list\n",
    "# dict_keys(['instance', 'predictions', 'status'])\n",
    "\n",
    "chunks[0]['instance']['content']"
   ]
  },
  {
   "cell_type": "code",
   "execution_count": 116,
   "id": "f76c5a04-4226-49b8-901e-9c964a8dc3dc",
   "metadata": {
    "tags": []
   },
   "outputs": [
    {
     "data": {
      "text/plain": [
       "{'file_chunk_id': 'c899',\n",
       " 'chunk_id': 'fannie_part_0_c899',\n",
       " 'filename': 'fannie_part_0',\n",
       " 'content': \"# B3-3.1-09, Other Sources of Income (05/01/2024)\\n\\n## Alimony, Child Support, or Separate Maintenance\\n\\nNote: The lender may include alimony, child support, or separate maintenance as income only if the borrower discloses it on the Form 1003 and requests that it be considered in qualifying for the loan. If a borrower's alimony or child support income is validated by the DU validation service, DU will issue a message indicating the required documentation. This documentation may differ from the requirements described above for the verification of the borrower's regular receipt of the full payment and its use as stable qualifying income. See B3-2-02, DU Validation Service.\",\n",
       " 'gse': 'fannie'}"
      ]
     },
     "execution_count": 116,
     "metadata": {},
     "output_type": "execute_result"
    }
   ],
   "source": [
    "chunks[0]['instance']"
   ]
  },
  {
   "cell_type": "markdown",
   "id": "804ff76d-76a0-4032-82d2-726ebdec0cc7",
   "metadata": {},
   "source": [
    "#### tmp - debugging - END"
   ]
  },
  {
   "cell_type": "code",
   "execution_count": 197,
   "id": "298dd3a7-c1cd-457e-a36e-42d4b106322e",
   "metadata": {
    "tags": []
   },
   "outputs": [],
   "source": [
    "from langchain_google_vertexai.embeddings import VertexAIEmbeddings\n",
    "from langchain_google_vertexai.vectorstores.vectorstores import VectorSearchVectorStore"
   ]
  },
  {
   "cell_type": "code",
   "execution_count": 198,
   "id": "db945258-5cb8-4a1e-9abf-6e24243b036a",
   "metadata": {
    "tags": []
   },
   "outputs": [],
   "source": [
    "embedding_model = VertexAIEmbeddings(model_name=EMBEDDINGS_MODEL_NAME)"
   ]
  },
  {
   "cell_type": "markdown",
   "id": "e04084ab-31a5-419f-a951-f8c5c7fb4031",
   "metadata": {},
   "source": [
    "**initialize vectorstore retreiver...**"
   ]
  },
  {
   "cell_type": "code",
   "execution_count": 199,
   "id": "91d1f584-1fa9-4077-a448-81927a618047",
   "metadata": {
    "tags": []
   },
   "outputs": [
    {
     "data": {
      "text/plain": [
       "'projects/934903580331/locations/us-central1/indexes/3805572471453646848'"
      ]
     },
     "execution_count": 199,
     "metadata": {},
     "output_type": "execute_result"
    }
   ],
   "source": [
    "vs_index_brute_force.resource_name"
   ]
  },
  {
   "cell_type": "code",
   "execution_count": 200,
   "id": "ab13bfa6-df4b-47d4-8f70-70db770f839d",
   "metadata": {
    "tags": []
   },
   "outputs": [],
   "source": [
    "from langchain_google_vertexai.vectorstores.vectorstores import VectorSearchVectorStore\n",
    "\n",
    "# ANN index vectorstore\n",
    "vector_store = VectorSearchVectorStore.from_components(\n",
    "    project_id=PROJECT_ID,\n",
    "    region=REGION,\n",
    "    gcs_bucket_name=GCS_BUCKET_NAME,\n",
    "    index_id=vs_index.resource_name,\n",
    "    endpoint_id=vs_endpoint.resource_name,\n",
    "    embedding=embedding_model,\n",
    "    stream_update=True,\n",
    ")"
   ]
  },
  {
   "cell_type": "code",
   "execution_count": 201,
   "id": "3e47f877-91bb-458a-9997-baa7950197cd",
   "metadata": {},
   "outputs": [],
   "source": [
    "# brute-force index vectorstore\n",
    "bf_vector_store = VectorSearchVectorStore.from_components(\n",
    "    project_id=PROJECT_ID,\n",
    "    region=REGION,\n",
    "    gcs_bucket_name=GCS_BUCKET_NAME,\n",
    "    index_id=vs_index_brute_force.resource_name,\n",
    "    endpoint_id=vs_endpoint.resource_name,\n",
    "    embedding=embedding_model,\n",
    "    stream_update=True,\n",
    ")"
   ]
  },
  {
   "cell_type": "markdown",
   "id": "23ab9292-b5e3-4e04-b9a1-2f555db27608",
   "metadata": {},
   "source": [
    "**Store chunks as embeddings in the Vector Search index and raw texts in the Cloud Storage bucket**\n",
    "\n",
    "`docs[0]`:\n",
    "\n",
    "```\n",
    "Document(metadata={'chunk_id': 'c1', 'source': 'gs://cloud-samples-data/gen-app-builder/search/alphabet-investor-pdfs/2021Q1_alphabet_earnings_release.pdf'}, page_content='# Alphabet Announces First Quarter 2021 Results\\n\\nMOUNTAIN VIEW, Calif. – April 27, 2021 – Alphabet Inc. (NASDAQ: GOOG, GOOGL) today announced financial results for the quarter ended March 31, 2021. Sundar Pichai, CEO of Google and Alphabet, said: \"Over the last year, people have turned to Google Search and many online services to stay informed, connected and entertained. We\\'ve continued our focus on delivering...\n",
    "```"
   ]
  },
  {
   "cell_type": "code",
   "execution_count": 203,
   "id": "3bfa4f24-dae5-469b-9c55-e7432829d69a",
   "metadata": {},
   "outputs": [],
   "source": [
    "# add_data(vector_store, docs)"
   ]
  },
  {
   "cell_type": "code",
   "execution_count": null,
   "id": "4fa9ffd0-40f6-4a5c-b6d2-fd302b6feacd",
   "metadata": {},
   "outputs": [],
   "source": [
    "# add_data(bf_vector_store, docs)"
   ]
  },
  {
   "cell_type": "markdown",
   "id": "b7295d54-0145-4665-b7ba-372ff5542539",
   "metadata": {
    "tags": []
   },
   "source": [
    "## Query Endpoint\n",
    "\n",
    "> Use the endpoint to query for data and matches"
   ]
  },
  {
   "cell_type": "markdown",
   "id": "489ebbbf-70db-4685-9b83-45f550d69f9e",
   "metadata": {},
   "source": [
    "### Retrieve: Embedding For Entity\n",
    "\n",
    "> Retrieve the index entry for a specific id:"
   ]
  },
  {
   "cell_type": "code",
   "execution_count": 163,
   "id": "f0f1c2e3-6b72-4c9e-b0de-d6024cc65f48",
   "metadata": {
    "tags": []
   },
   "outputs": [
    {
     "data": {
      "text/plain": [
       "'freddie_part_0_c40'"
      ]
     },
     "execution_count": 163,
     "metadata": {},
     "output_type": "execute_result"
    }
   ],
   "source": [
    "ANN_DEPLOYED_INDEX_ID = \"mortgage_ball_v1_index_c56d551518b5\"\n",
    "\n",
    "result = vs_endpoint.read_index_datapoints(\n",
    "    deployed_index_id = ANN_DEPLOYED_INDEX_ID, #.replace('-', '_'),\n",
    "    ids = ['freddie_part_0_c40'] # fannie_part_0_c899 | fannie_part_0_c40\n",
    ")\n",
    "result[0].datapoint_id"
   ]
  },
  {
   "cell_type": "code",
   "execution_count": 164,
   "id": "1df841d7-d351-4bf9-8e30-128a812e424a",
   "metadata": {
    "tags": []
   },
   "outputs": [
    {
     "data": {
      "text/plain": [
       "[0.006058377679437399,\n",
       " 0.03943474963307381,\n",
       " 0.05166151374578476,\n",
       " 0.042779989540576935,\n",
       " -0.01732536405324936]"
      ]
     },
     "execution_count": 164,
     "metadata": {},
     "output_type": "execute_result"
    }
   ],
   "source": [
    "result[0].feature_vector[0:5]"
   ]
  },
  {
   "cell_type": "code",
   "execution_count": 165,
   "id": "e7b3e2e7-999d-464b-8f54-b8433c55ee97",
   "metadata": {
    "tags": []
   },
   "outputs": [
    {
     "data": {
      "text/plain": [
       "[namespace: \"gse\"\n",
       "allow_list: \"freddie\"\n",
       "]"
      ]
     },
     "execution_count": 165,
     "metadata": {},
     "output_type": "execute_result"
    }
   ],
   "source": [
    "result[0].restricts"
   ]
  },
  {
   "cell_type": "markdown",
   "id": "ba6c35d6-5173-447a-973f-ca7c4e031f8e",
   "metadata": {},
   "source": [
    "### Retrieve: Embeddings For Entities\n",
    "\n",
    "> Retrieve the index entry for a list of specific ids:"
   ]
  },
  {
   "cell_type": "code",
   "execution_count": 166,
   "id": "1f6058a5-4f01-49a1-aaa6-fa3f008e0006",
   "metadata": {
    "tags": []
   },
   "outputs": [
    {
     "data": {
      "text/plain": [
       "'fannie_part_0_c40'"
      ]
     },
     "execution_count": 166,
     "metadata": {},
     "output_type": "execute_result"
    }
   ],
   "source": [
    "result = vs_endpoint.read_index_datapoints(\n",
    "    deployed_index_id = ANN_DEPLOYED_INDEX_ID, #vs_index.display_name.replace('-', '_'),\n",
    "    ids = ['fannie_part_0_c40', 'freddie_part_0_c40']\n",
    ")\n",
    "result[0].datapoint_id\n",
    "# result[0].feature_vector[0:5]"
   ]
  },
  {
   "cell_type": "code",
   "execution_count": 167,
   "id": "7a7f6c40-967f-42b7-8e66-8c9303a042ad",
   "metadata": {
    "tags": []
   },
   "outputs": [
    {
     "data": {
      "text/plain": [
       "[namespace: \"gse\"\n",
       "allow_list: \"fannie\"\n",
       "]"
      ]
     },
     "execution_count": 167,
     "metadata": {},
     "output_type": "execute_result"
    }
   ],
   "source": [
    "result[0].restricts"
   ]
  },
  {
   "cell_type": "markdown",
   "id": "5dece297-d3c4-405d-8b26-20ec1b1a05fd",
   "metadata": {},
   "source": [
    "## Get Matches\n",
    "\n",
    "> Return the embedding in the response by adding `return_full_datapoint = True`"
   ]
  },
  {
   "cell_type": "markdown",
   "id": "ab378ed6-9747-4355-b724-b119bd5325b8",
   "metadata": {},
   "source": [
    "### Match an Entity"
   ]
  },
  {
   "cell_type": "code",
   "execution_count": 168,
   "id": "1cd6f8b6-a17b-491f-b6be-39412703f287",
   "metadata": {
    "tags": []
   },
   "outputs": [
    {
     "data": {
      "text/plain": [
       "[[MatchNeighbor(id='fannie_part_0_c40', distance=0.9998153448104858, sparse_distance=None, feature_vector=[], crowding_tag='1074578924770667433', restricts=[], numeric_restricts=[], sparse_embedding_values=[], sparse_embedding_dimensions=[]),\n",
       "  MatchNeighbor(id='fannie_part_0_c39', distance=0.9385684728622437, sparse_distance=None, feature_vector=[], crowding_tag='1074578924770667433', restricts=[], numeric_restricts=[], sparse_embedding_values=[], sparse_embedding_dimensions=[])]]"
      ]
     },
     "execution_count": 168,
     "metadata": {},
     "output_type": "execute_result"
    }
   ],
   "source": [
    "results = vs_endpoint.find_neighbors(\n",
    "    deployed_index_id = ANN_DEPLOYED_INDEX_ID, # vs_index.display_name.replace('-', '_'),\n",
    "    num_neighbors = 2,\n",
    "    embedding_ids = ['fannie_part_0_c40']\n",
    ")\n",
    "results"
   ]
  },
  {
   "cell_type": "markdown",
   "id": "4b2e03c7-4c0e-4488-9745-ccf0d0558dd8",
   "metadata": {},
   "source": [
    "### Match Query Embedding\n",
    "\n",
    "> Return the embedding in the response by adding `return_full_datapoint = True`"
   ]
  },
  {
   "cell_type": "code",
   "execution_count": 169,
   "id": "01c0ae8b-2179-4750-9360-0cd94f6d411e",
   "metadata": {
    "tags": []
   },
   "outputs": [
    {
     "data": {
      "text/plain": [
       "[[MatchNeighbor(id='fannie_part_0_c352', distance=0.7099842429161072, sparse_distance=None, feature_vector=[], crowding_tag='1074578924770667433', restricts=[], numeric_restricts=[], sparse_embedding_values=[], sparse_embedding_dimensions=[]),\n",
       "  MatchNeighbor(id='freddie_part_4_c507', distance=0.680526077747345, sparse_distance=None, feature_vector=[], crowding_tag='-353579237037459606', restricts=[], numeric_restricts=[], sparse_embedding_values=[], sparse_embedding_dimensions=[])]]"
      ]
     },
     "execution_count": 169,
     "metadata": {},
     "output_type": "execute_result"
    }
   ],
   "source": [
    "results = vs_endpoint.find_neighbors(\n",
    "    deployed_index_id = ANN_DEPLOYED_INDEX_ID, #vs_index.display_name.replace('-', '_'),\n",
    "    queries = [question_embedding],\n",
    "    num_neighbors = 2\n",
    ")\n",
    "\n",
    "results"
   ]
  },
  {
   "cell_type": "code",
   "execution_count": 170,
   "id": "9faa2eab-37af-42e1-9b1e-0824d7b7ac40",
   "metadata": {
    "tags": []
   },
   "outputs": [
    {
     "data": {
      "text/plain": [
       "[('fannie_part_0_c352', 0.7099842429161072),\n",
       " ('freddie_part_4_c507', 0.680526077747345)]"
      ]
     },
     "execution_count": 170,
     "metadata": {},
     "output_type": "execute_result"
    }
   ],
   "source": [
    "[(match.id, match.distance) for match in results[0]]"
   ]
  },
  {
   "cell_type": "markdown",
   "id": "473e506a-1258-4064-8e89-1a4a08fd40cb",
   "metadata": {},
   "source": [
    "### Matches: compare ANN vs BF index\n",
    "\n",
    "Calculate recall by determining how many neighbors correctly retrieved as compared to the brute-force index\n",
    "\n",
    "> Return the embedding in the response by adding `return_full_datapoint = True`"
   ]
  },
  {
   "cell_type": "code",
   "execution_count": 216,
   "id": "f22252f4-b20b-4c33-a445-6fbdbbeae2c9",
   "metadata": {
    "tags": []
   },
   "outputs": [],
   "source": [
    "import time\n",
    "\n",
    "NUM_NIEGHBORS=100"
   ]
  },
  {
   "cell_type": "code",
   "execution_count": 250,
   "id": "a6def435-de42-4901-9b31-6f9df9f76dbe",
   "metadata": {
    "tags": []
   },
   "outputs": [
    {
     "name": "stdout",
     "output_type": "stream",
     "text": [
      "ANN latency: 0.0787 seconds\n"
     ]
    }
   ],
   "source": [
    "start = time.time()\n",
    "ANN_response = vs_endpoint.find_neighbors(\n",
    "    deployed_index_id = ANN_DEPLOYED_INDEX_ID, # vs_index_brute_force.display_name.replace('-', '_'),\n",
    "    queries = [question_embedding],\n",
    "    # return_full_datapoint = True,\n",
    "    num_neighbors = NUM_NIEGHBORS,\n",
    "    fraction_leaf_nodes_to_search_override = 0.5,\n",
    "    # per_crowding_attribute_neighbor_count = 2\n",
    "    \n",
    ")\n",
    "elapsed_ann_time = time.time() - start\n",
    "elapsed_ann_time = round(elapsed_ann_time, 4)\n",
    "print(f'ANN latency: {elapsed_ann_time} seconds')"
   ]
  },
  {
   "cell_type": "code",
   "execution_count": 251,
   "id": "136a91f2-20df-4119-bd8f-2f2bf9206142",
   "metadata": {
    "tags": []
   },
   "outputs": [
    {
     "data": {
      "text/plain": [
       "100"
      ]
     },
     "execution_count": 251,
     "metadata": {},
     "output_type": "execute_result"
    }
   ],
   "source": [
    "len(ANN_response[0])"
   ]
  },
  {
   "cell_type": "code",
   "execution_count": 252,
   "id": "a6eae42c-5ea2-45bb-a37d-c3be32fc0d88",
   "metadata": {},
   "outputs": [
    {
     "name": "stdout",
     "output_type": "stream",
     "text": [
      "BF latency: 0.0742 seconds\n"
     ]
    }
   ],
   "source": [
    "BF_DEPLOYED_INDEX_ID = \"mortgage_ball_v1_index_brute_force_e39a79f7dfc0\"\n",
    "\n",
    "start = time.time()\n",
    "BF_response = vs_endpoint.find_neighbors(\n",
    "    deployed_index_id = BF_DEPLOYED_INDEX_ID, # vs_index_brute_force.display_name.replace('-', '_'),\n",
    "    queries = [question_embedding],\n",
    "    # return_full_datapoint = True,\n",
    "    num_neighbors = NUM_NIEGHBORS,\n",
    "    fraction_leaf_nodes_to_search_override = 0.9,\n",
    "    # per_crowding_attribute_neighbor_count = 2\n",
    "    \n",
    ")\n",
    "elapsed_bf_time = time.time() - start\n",
    "elapsed_bf_time = round(elapsed_bf_time, 4)\n",
    "print(f'BF latency: {elapsed_bf_time} seconds')"
   ]
  },
  {
   "cell_type": "code",
   "execution_count": 253,
   "id": "6cee6f29-12da-482c-b591-3f94a68cd863",
   "metadata": {
    "tags": []
   },
   "outputs": [
    {
     "data": {
      "text/plain": [
       "100"
      ]
     },
     "execution_count": 253,
     "metadata": {},
     "output_type": "execute_result"
    }
   ],
   "source": [
    "len(BF_response[0])\n",
    "# BF_response[0][0]"
   ]
  },
  {
   "cell_type": "code",
   "execution_count": 254,
   "id": "51fe3de9-8c99-4b07-a38b-1d5029b24e52",
   "metadata": {
    "tags": []
   },
   "outputs": [
    {
     "name": "stdout",
     "output_type": "stream",
     "text": [
      "Recall: 100.0\n"
     ]
    }
   ],
   "source": [
    "recalled_neighbors = 0\n",
    "for tree_ah_neighbors, brute_force_neighbors in zip(\n",
    "    ANN_response, BF_response\n",
    "):\n",
    "    tree_ah_neighbor_ids = [neighbor.id for neighbor in tree_ah_neighbors]\n",
    "    brute_force_neighbor_ids = [neighbor.id for neighbor in brute_force_neighbors]\n",
    "\n",
    "    recalled_neighbors += len(\n",
    "        set(tree_ah_neighbor_ids).intersection(brute_force_neighbor_ids)\n",
    "    )\n",
    "\n",
    "recall = recalled_neighbors / len(\n",
    "    [neighbor for neighbors in BF_response for neighbor in neighbors]\n",
    ")\n",
    "print(\"Recall: {}\".format(recall * 100.0))"
   ]
  },
  {
   "cell_type": "markdown",
   "id": "a8f01abb-25d9-4ed4-8ccf-8266f4c422e8",
   "metadata": {
    "jp-MarkdownHeadingCollapsed": true,
    "tags": []
   },
   "source": [
    "### Matches: For Query Embedding - Expand Search Candidates\n",
    "\n",
    "> Return the embedding in the response by adding `return_full_datapoint = True.`"
   ]
  },
  {
   "cell_type": "code",
   "execution_count": 255,
   "id": "9c409dd1-95d4-44e9-957a-ff053b44b4a7",
   "metadata": {
    "tags": []
   },
   "outputs": [
    {
     "data": {
      "text/plain": [
       "[[MatchNeighbor(id='fannie_part_0_c352', distance=0.7099842429161072, sparse_distance=None, feature_vector=[], crowding_tag='1074578924770667433', restricts=[], numeric_restricts=[], sparse_embedding_values=[], sparse_embedding_dimensions=[]),\n",
       "  MatchNeighbor(id='freddie_part_4_c507', distance=0.680526077747345, sparse_distance=None, feature_vector=[], crowding_tag='-353579237037459606', restricts=[], numeric_restricts=[], sparse_embedding_values=[], sparse_embedding_dimensions=[]),\n",
       "  MatchNeighbor(id='freddie_part_4_c508', distance=0.6753297448158264, sparse_distance=None, feature_vector=[], crowding_tag='-353579237037459606', restricts=[], numeric_restricts=[], sparse_embedding_values=[], sparse_embedding_dimensions=[]),\n",
       "  MatchNeighbor(id='fannie_part_0_c353', distance=0.6723706722259521, sparse_distance=None, feature_vector=[], crowding_tag='1074578924770667433', restricts=[], numeric_restricts=[], sparse_embedding_values=[], sparse_embedding_dimensions=[])]]"
      ]
     },
     "execution_count": 255,
     "metadata": {},
     "output_type": "execute_result"
    }
   ],
   "source": [
    "results = vs_endpoint.find_neighbors(\n",
    "    deployed_index_id = ANN_DEPLOYED_INDEX_ID, #vs_index.display_name.replace('-', '_'),\n",
    "    queries = [question_embedding],\n",
    "    num_neighbors = 4,\n",
    "    fraction_leaf_nodes_to_search_override = 0.5\n",
    ")\n",
    "\n",
    "results"
   ]
  },
  {
   "cell_type": "code",
   "execution_count": 256,
   "id": "250a4d76-effa-4ea8-967b-ed9070b5a7c8",
   "metadata": {
    "tags": []
   },
   "outputs": [
    {
     "data": {
      "text/plain": [
       "[('fannie_part_0_c352', 0.7099842429161072, '1074578924770667433'),\n",
       " ('freddie_part_4_c507', 0.680526077747345, '-353579237037459606'),\n",
       " ('freddie_part_4_c508', 0.6753297448158264, '-353579237037459606'),\n",
       " ('fannie_part_0_c353', 0.6723706722259521, '1074578924770667433')]"
      ]
     },
     "execution_count": 256,
     "metadata": {},
     "output_type": "execute_result"
    }
   ],
   "source": [
    "[(match.id, match.distance, match.crowding_tag) for match in results[0]]"
   ]
  },
  {
   "cell_type": "markdown",
   "id": "34f171c8-2e80-455b-a02e-51c599206c41",
   "metadata": {
    "jp-MarkdownHeadingCollapsed": true,
    "tags": []
   },
   "source": [
    "### Matches: For Query Embedding - Diversity of Responses\n",
    "\n",
    "> Return the embedding in the response by adding `return_full_datapoint = True.`"
   ]
  },
  {
   "cell_type": "code",
   "execution_count": 257,
   "id": "8954491a-ea4d-4787-944d-0e914eb8f3a7",
   "metadata": {
    "tags": []
   },
   "outputs": [
    {
     "data": {
      "text/plain": [
       "[[MatchNeighbor(id='fannie_part_0_c352', distance=0.7099842429161072, sparse_distance=None, feature_vector=[], crowding_tag='1074578924770667433', restricts=[], numeric_restricts=[], sparse_embedding_values=[], sparse_embedding_dimensions=[]),\n",
       "  MatchNeighbor(id='freddie_part_4_c507', distance=0.680526077747345, sparse_distance=None, feature_vector=[], crowding_tag='-353579237037459606', restricts=[], numeric_restricts=[], sparse_embedding_values=[], sparse_embedding_dimensions=[]),\n",
       "  MatchNeighbor(id='freddie_part_4_c508', distance=0.6753297448158264, sparse_distance=None, feature_vector=[], crowding_tag='-353579237037459606', restricts=[], numeric_restricts=[], sparse_embedding_values=[], sparse_embedding_dimensions=[]),\n",
       "  MatchNeighbor(id='fannie_part_0_c353', distance=0.6723706722259521, sparse_distance=None, feature_vector=[], crowding_tag='1074578924770667433', restricts=[], numeric_restricts=[], sparse_embedding_values=[], sparse_embedding_dimensions=[])]]"
      ]
     },
     "execution_count": 257,
     "metadata": {},
     "output_type": "execute_result"
    }
   ],
   "source": [
    "results = vs_endpoint.find_neighbors(\n",
    "    deployed_index_id = ANN_DEPLOYED_INDEX_ID, #vs_index.display_name.replace('-', '_'),\n",
    "    queries = [question_embedding],\n",
    "    num_neighbors = 4,\n",
    "    per_crowding_attribute_neighbor_count = 2\n",
    ")\n",
    "\n",
    "results"
   ]
  },
  {
   "cell_type": "code",
   "execution_count": 258,
   "id": "96ae4c99-a1ba-4dd6-8f38-28fd3ddbf183",
   "metadata": {
    "tags": []
   },
   "outputs": [
    {
     "data": {
      "text/plain": [
       "[('fannie_part_0_c352', 0.7099842429161072, '1074578924770667433'),\n",
       " ('freddie_part_4_c507', 0.680526077747345, '-353579237037459606'),\n",
       " ('freddie_part_4_c508', 0.6753297448158264, '-353579237037459606'),\n",
       " ('fannie_part_0_c353', 0.6723706722259521, '1074578924770667433')]"
      ]
     },
     "execution_count": 258,
     "metadata": {},
     "output_type": "execute_result"
    }
   ],
   "source": [
    "[(match.id, match.distance, match.crowding_tag) for match in results[0]]"
   ]
  },
  {
   "cell_type": "markdown",
   "id": "5509169b-72bb-4aa4-93d1-4afa27592fb5",
   "metadata": {
    "jp-MarkdownHeadingCollapsed": true,
    "tags": []
   },
   "source": [
    "### Matches: For Query Embedding - Limit Search Area With Allowlist"
   ]
  },
  {
   "cell_type": "code",
   "execution_count": 259,
   "id": "0cd47807-5295-42e9-bb30-92333b2c5f09",
   "metadata": {
    "tags": []
   },
   "outputs": [
    {
     "data": {
      "text/plain": [
       "[[MatchNeighbor(id='fannie_part_0_c352', distance=0.7099842429161072, sparse_distance=None, feature_vector=[], crowding_tag='1074578924770667433', restricts=[], numeric_restricts=[], sparse_embedding_values=[], sparse_embedding_dimensions=[]),\n",
       "  MatchNeighbor(id='fannie_part_0_c353', distance=0.6723706722259521, sparse_distance=None, feature_vector=[], crowding_tag='1074578924770667433', restricts=[], numeric_restricts=[], sparse_embedding_values=[], sparse_embedding_dimensions=[]),\n",
       "  MatchNeighbor(id='fannie_part_0_c326', distance=0.6683496832847595, sparse_distance=None, feature_vector=[], crowding_tag='1074578924770667433', restricts=[], numeric_restricts=[], sparse_embedding_values=[], sparse_embedding_dimensions=[]),\n",
       "  MatchNeighbor(id='fannie_part_0_c93', distance=0.661433756351471, sparse_distance=None, feature_vector=[], crowding_tag='1074578924770667433', restricts=[], numeric_restricts=[], sparse_embedding_values=[], sparse_embedding_dimensions=[])]]"
      ]
     },
     "execution_count": 259,
     "metadata": {},
     "output_type": "execute_result"
    }
   ],
   "source": [
    "results = vs_endpoint.find_neighbors(\n",
    "    deployed_index_id = ANN_DEPLOYED_INDEX_ID, #vs_index.display_name.replace('-', '_'),\n",
    "    queries = [question_embedding],\n",
    "    num_neighbors = 4,\n",
    "    filter = [\n",
    "        aiplatform.matching_engine.matching_engine_index_endpoint.Namespace('gse', ['fannie'], []) # Namespece, allow list, deny list\n",
    "    ]\n",
    ")\n",
    "\n",
    "results"
   ]
  },
  {
   "cell_type": "code",
   "execution_count": 260,
   "id": "ac64e7af-fc0a-40ad-b80c-262d8f0b2654",
   "metadata": {
    "tags": []
   },
   "outputs": [
    {
     "data": {
      "text/plain": [
       "[('fannie_part_0_c352', 0.7099842429161072, '1074578924770667433'),\n",
       " ('fannie_part_0_c353', 0.6723706722259521, '1074578924770667433'),\n",
       " ('fannie_part_0_c326', 0.6683496832847595, '1074578924770667433'),\n",
       " ('fannie_part_0_c93', 0.661433756351471, '1074578924770667433')]"
      ]
     },
     "execution_count": 260,
     "metadata": {},
     "output_type": "execute_result"
    }
   ],
   "source": [
    "[(match.id, match.distance, match.crowding_tag) for match in results[0]]"
   ]
  },
  {
   "cell_type": "markdown",
   "id": "d5f180ac-dfd2-44a3-a3bc-0d5be69c5612",
   "metadata": {
    "jp-MarkdownHeadingCollapsed": true,
    "tags": []
   },
   "source": [
    "### Matches: For Query Embedding - Limit Search Area With Denylist"
   ]
  },
  {
   "cell_type": "code",
   "execution_count": 261,
   "id": "00907831-758b-4f43-848e-4c47658f048c",
   "metadata": {
    "tags": []
   },
   "outputs": [
    {
     "data": {
      "text/plain": [
       "[[MatchNeighbor(id='freddie_part_4_c507', distance=0.680526077747345, sparse_distance=None, feature_vector=[], crowding_tag='-353579237037459606', restricts=[], numeric_restricts=[], sparse_embedding_values=[], sparse_embedding_dimensions=[]),\n",
       "  MatchNeighbor(id='freddie_part_4_c508', distance=0.6753297448158264, sparse_distance=None, feature_vector=[], crowding_tag='-353579237037459606', restricts=[], numeric_restricts=[], sparse_embedding_values=[], sparse_embedding_dimensions=[]),\n",
       "  MatchNeighbor(id='freddie_part_4_c470', distance=0.6619843244552612, sparse_distance=None, feature_vector=[], crowding_tag='-353579237037459606', restricts=[], numeric_restricts=[], sparse_embedding_values=[], sparse_embedding_dimensions=[]),\n",
       "  MatchNeighbor(id='freddie_part_6_c439', distance=0.6604534983634949, sparse_distance=None, feature_vector=[], crowding_tag='-353579237037459606', restricts=[], numeric_restricts=[], sparse_embedding_values=[], sparse_embedding_dimensions=[]),\n",
       "  MatchNeighbor(id='freddie_part_4_c556', distance=0.6575403809547424, sparse_distance=None, feature_vector=[], crowding_tag='-353579237037459606', restricts=[], numeric_restricts=[], sparse_embedding_values=[], sparse_embedding_dimensions=[]),\n",
       "  MatchNeighbor(id='freddie_part_6_c410', distance=0.6573532819747925, sparse_distance=None, feature_vector=[], crowding_tag='-353579237037459606', restricts=[], numeric_restricts=[], sparse_embedding_values=[], sparse_embedding_dimensions=[]),\n",
       "  MatchNeighbor(id='freddie_part_5_c360', distance=0.6557324528694153, sparse_distance=None, feature_vector=[], crowding_tag='-353579237037459606', restricts=[], numeric_restricts=[], sparse_embedding_values=[], sparse_embedding_dimensions=[]),\n",
       "  MatchNeighbor(id='freddie_part_4_c506', distance=0.6519314050674438, sparse_distance=None, feature_vector=[], crowding_tag='-353579237037459606', restricts=[], numeric_restricts=[], sparse_embedding_values=[], sparse_embedding_dimensions=[])]]"
      ]
     },
     "execution_count": 261,
     "metadata": {},
     "output_type": "execute_result"
    }
   ],
   "source": [
    "results = vs_endpoint.find_neighbors(\n",
    "    deployed_index_id = ANN_DEPLOYED_INDEX_ID, #vs_index.display_name.replace('-', '_'),\n",
    "    queries = [question_embedding],\n",
    "    num_neighbors = 8,\n",
    "    filter = [\n",
    "        aiplatform.matching_engine.matching_engine_index_endpoint.Namespace('gse', [], ['fannie']) # Namespece, allow list, deny list\n",
    "    ]\n",
    ")\n",
    "\n",
    "results"
   ]
  },
  {
   "cell_type": "code",
   "execution_count": 262,
   "id": "1fefb59b-a639-4663-b16a-fd9994809931",
   "metadata": {
    "tags": []
   },
   "outputs": [
    {
     "data": {
      "text/plain": [
       "[('freddie_part_4_c507', 0.680526077747345, '-353579237037459606'),\n",
       " ('freddie_part_4_c508', 0.6753297448158264, '-353579237037459606'),\n",
       " ('freddie_part_4_c470', 0.6619843244552612, '-353579237037459606'),\n",
       " ('freddie_part_6_c439', 0.6604534983634949, '-353579237037459606'),\n",
       " ('freddie_part_4_c556', 0.6575403809547424, '-353579237037459606'),\n",
       " ('freddie_part_6_c410', 0.6573532819747925, '-353579237037459606'),\n",
       " ('freddie_part_5_c360', 0.6557324528694153, '-353579237037459606'),\n",
       " ('freddie_part_4_c506', 0.6519314050674438, '-353579237037459606')]"
      ]
     },
     "execution_count": 262,
     "metadata": {},
     "output_type": "execute_result"
    }
   ],
   "source": [
    "[(match.id, match.distance, match.crowding_tag) for match in results[0]]"
   ]
  },
  {
   "cell_type": "markdown",
   "id": "d88b5554-2739-4162-a2dd-329e17b5d33b",
   "metadata": {},
   "source": [
    "# Simple RAG Using Vertex AI Vector Search For Retrieval\n",
    "\n",
    "Vertex AI Vector Search returns the id's of matching entities. The text content for these matches need be retrieved as a next step. In the data preparation above the content of the text was stored in a dictionary locally for easy lookup:\n",
    "\n",
    "* `outside_vs_data = {'id': 'content', ...}`"
   ]
  },
  {
   "cell_type": "code",
   "execution_count": 263,
   "id": "e2ba3191-76db-4aba-9aba-980d1d0f8b46",
   "metadata": {
    "tags": []
   },
   "outputs": [],
   "source": [
    "# prompt building function...\n",
    "def get_prompt(question, top_n = 5):\n",
    "    # get embedding for question\n",
    "    question_embedding = embedder.get_embeddings([question])[0].values\n",
    "    \n",
    "    # get top_n matches:\n",
    "    results = vs_endpoint.find_neighbors(\n",
    "        deployed_index_id = ANN_DEPLOYED_INDEX_ID, #vs_index.display_name.replace('-', '_'),\n",
    "        queries = [question_embedding],\n",
    "        num_neighbors = top_n\n",
    "    ) \n",
    "    matches = [(match.id, match.distance) for match in results[0]]\n",
    "\n",
    "    # construct prompt:\n",
    "    prompt = ''\n",
    "    for m, match in enumerate(matches):\n",
    "        prompt += f\"Context {m+1}:\\n{outside_vs_data[match[0]]}\\n\\n\"\n",
    "    prompt += f'Answer the following question using the provided contexts:\\n{question}'\n",
    "    \n",
    "    return matches, prompt"
   ]
  },
  {
   "cell_type": "code",
   "execution_count": 264,
   "id": "ce5c4e9b-1bf1-49be-ac19-2fc72eb2289f",
   "metadata": {
    "tags": []
   },
   "outputs": [
    {
     "name": "stdout",
     "output_type": "stream",
     "text": [
      "Context 1:\n",
      "# A3-3-03, Other Servicing Arrangements (12/15/2015)\n",
      "\n",
      "Introduction This topic provides an overview of other servicing arrangements, including: • Subservicing • General Requirements for Subservicing Arrangements • Pledge of Servicing Rights and Transfer of Interest in Servicing Income\n",
      "\n",
      "## Subservicing\n",
      "\n",
      "A lender may use other organizations to perform some or all of its servicing functions. Fannie Mae refers to these arrangements as “subservicing” arrangements, meaning that a servicer (the “subservicer”) other than the contractually responsible servicer (the “master” servicer) is performing the servicing functions. The following are not considered to be subservicing arrangements: • when a computer service bureau is used to perform accounting and reporting functions; • when the originating lender sells and assigns servicing to another lender, unless the originating lender continues to be the contractually responsible servicer.\n",
      "\n",
      "Context 2:\n",
      "# (1) Notice requirements\n",
      "\n",
      "The notice must advise the Borrower of the following: 1. The date the new Servicing Agent or Master Servicer undertakes the performance of the Servicing obligations 2. The name and address of the Servicer undertaking the performance of the Servicing obligations 3. The names and telephone numbers of the contact persons or departments where the Borrowers' inquiries relating to the transfer should be directed. (If toll-free numbers are not available, the letter must indicate that collect calls will be accepted.) Such names and telephone numbers must be provided for the party previously performing the Servicing obligations as well as the new Servicing Agent or Master Servicer undertaking the performance of the Servicing obligations. 4. The date when the party previously performing the Servicing obligation will no longer collect the Borrowers' payments and when the new Servicing Agent or Master Servicer undertaking the performance of the Servicing obligations will begin to collect them 5. Procedures for maintenance of automatic draft payments, if applicable. Every effort must be made to continue, without interruption, electronic payments on the Borrower's Mortgage, to the extent permitted by applicable law.\n",
      "\n",
      "Context 3:\n",
      "# (1) Notice requirements\n",
      "\n",
      "The notice may not amend the terms of a Mortgage other than those relating to where to send payments. The Master Servicer and any Servicing Agent must ensure that their staff and facilities are adequately prepared to process Servicing and accounting transactions and to respond to Borrower inquiries during the transfer transition period. The Servicing Agent or Master Servicer undertaking the performance of the Servicing obligations must assume responsibility for responding to Borrower inquiries received after the date of such undertaking. If any Servicing or accounting problem cannot be resolved without the involvement of the Servicer that was performing the Servicing obligations, the new Servicing Agent or Master Servicer undertaking the performance of the Servicing obligations, and not the Borrower, should initiate the contact with the prior Servicer.\n",
      "\n",
      "Context 4:\n",
      "# A3-3-03, Other Servicing Arrangements (12/15/2015)\n",
      "\n",
      "## General Requirements for Subservicing Arrangements\n",
      "\n",
      "A servicer may use a subservicer only if it will not interfere with the servicer's ability to meet Fannie Mae's remitting and reporting requirements. A master servicer may not enter into new subservicing arrangements—or extend existing arrangements to include newly originated mortgages-unless both the master servicer and the subservicer are Fannie Mae- approved servicers in good standing who are able to perform the duties associated with the master servicer/subservicer arrangement. The master servicer must ensure that its written agreement with the subservicer acknowledges Fannie Mae's right to rescind its recognition of the subservicing arrangement if Fannie Mae decides to transfer the master servicer's portfolio for any reason. 114 The master servicer must confirm its existing subservicing arrangements when it submits the Lender Record Information (Form 582) each year. For additional information concerning subservicer and master servicer duties, responsibilities, and other requirements, see the Servicing Guide on Fannie Mae's website.\n",
      "\n",
      "Context 5:\n",
      "# Chapter A3-3, Third-Party Lending Functions and Servicing Arrangements\n",
      "\n",
      "Introduction This chapter explains Fannie Mae's requirements regarding the outsourcing of mortgage origination and servicing functions. It also addresses other servicing arrangements as well as the requirements related to document custody and document custodians. 105\n",
      "\n",
      "Answer the following question using the provided contexts:\n",
      "Does a lender have to perform servicing functions directly?\n"
     ]
    }
   ],
   "source": [
    "matches, prompt = get_prompt(question) \n",
    "print(prompt)"
   ]
  },
  {
   "cell_type": "markdown",
   "id": "84e8b1c1-c470-46c9-835e-d4bd3b0cfaf6",
   "metadata": {},
   "source": [
    "# Grounded Generation"
   ]
  },
  {
   "cell_type": "code",
   "execution_count": 265,
   "id": "b2d1e6ad-48a8-4cc9-a80b-51da7972b3dc",
   "metadata": {
    "tags": []
   },
   "outputs": [
    {
     "name": "stdout",
     "output_type": "stream",
     "text": [
      "No, a lender does not have to perform servicing functions directly.  Context 1 explicitly states that a lender \"may use other organizations to perform some or all of its servicing functions,\" referring to this as \"subservicing.\"  The documents further detail the requirements and regulations surrounding such arrangements, including the roles of master servicers and subservicers.\n",
      "\n"
     ]
    }
   ],
   "source": [
    "llm = vertexai.generative_models.GenerativeModel(\"gemini-1.5-flash-002\")\n",
    "\n",
    "answer = llm.generate_content(prompt).text\n",
    "print(answer)"
   ]
  }
 ],
 "metadata": {
  "environment": {
   "kernel": "conda-base-py",
   "name": "workbench-notebooks.m125",
   "type": "gcloud",
   "uri": "us-docker.pkg.dev/deeplearning-platform-release/gcr.io/workbench-notebooks:m125"
  },
  "kernelspec": {
   "display_name": "Python 3 (ipykernel) (Local)",
   "language": "python",
   "name": "conda-base-py"
  },
  "language_info": {
   "codemirror_mode": {
    "name": "ipython",
    "version": 3
   },
   "file_extension": ".py",
   "mimetype": "text/x-python",
   "name": "python",
   "nbconvert_exporter": "python",
   "pygments_lexer": "ipython3",
   "version": "3.10.15"
  }
 },
 "nbformat": 4,
 "nbformat_minor": 5
}
