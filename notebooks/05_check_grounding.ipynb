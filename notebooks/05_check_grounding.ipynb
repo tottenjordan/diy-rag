{
 "cells": [
  {
   "cell_type": "markdown",
   "id": "975c28e4-55e8-4e47-bd97-df078e2d967e",
   "metadata": {},
   "source": [
    "# Generate grounded answers\n",
    "\n",
    "> use LangChain and Google Cloud + LangChain integrations to orchestrate RAG pipeline"
   ]
  },
  {
   "cell_type": "code",
   "execution_count": 2,
   "id": "6294c025-2e91-47c7-bbbc-20ef76a246dc",
   "metadata": {
    "tags": []
   },
   "outputs": [],
   "source": [
    "# ! cd .. && tree"
   ]
  },
  {
   "cell_type": "markdown",
   "id": "32c73d95-004f-45af-a671-c52a89cb7d26",
   "metadata": {},
   "source": [
    "## imports"
   ]
  },
  {
   "cell_type": "code",
   "execution_count": 3,
   "id": "ea30d0e3-a9ed-49aa-bd3a-7a394701f1d4",
   "metadata": {
    "tags": []
   },
   "outputs": [
    {
     "name": "stdout",
     "output_type": "stream",
     "text": [
      "vertexai SDK version = 1.71.1\n",
      "AI Platform SDK version = 1.71.1\n",
      "Discovery Engine API version = 0.12.2\n"
     ]
    }
   ],
   "source": [
    "import os, shutil, json\n",
    "\n",
    "import numpy as np\n",
    "import matplotlib.pyplot as plt\n",
    "from matplotlib.patches import Rectangle\n",
    "from IPython.display import Markdown\n",
    "\n",
    "from google.cloud import aiplatform\n",
    "import vertexai.generative_models\n",
    "import vertexai.language_models\n",
    "import google.cloud.discoveryengine_v1 as discoveryengine\n",
    "\n",
    "print(f\"vertexai SDK version = {vertexai.__version__}\")\n",
    "print(f\"AI Platform SDK version = {aiplatform.__version__}\")\n",
    "print(f\"Discovery Engine API version = {discoveryengine.__version__}\")"
   ]
  },
  {
   "cell_type": "markdown",
   "id": "38626e9c-f46f-4840-9c64-81b55ca511d3",
   "metadata": {},
   "source": [
    "## config"
   ]
  },
  {
   "cell_type": "code",
   "execution_count": 4,
   "id": "d53d0732-0041-40d3-b60a-0820d5b72284",
   "metadata": {
    "tags": []
   },
   "outputs": [],
   "source": [
    "PREFIX=\"mortgage-ball\""
   ]
  },
  {
   "cell_type": "code",
   "execution_count": 5,
   "id": "be79618e-3cd4-414d-b26a-2603f15c16c4",
   "metadata": {
    "tags": []
   },
   "outputs": [],
   "source": [
    "PROJECT_ID = \"hybrid-vertex\"\n",
    "REGION = \"us-central1\"\n",
    "LOCATION = REGION.split('-')[0]\n",
    "\n",
    "EXPERIMENT_1 = \"mlb\"\n",
    "EXPERIMENT_2 = \"lending\"\n",
    "\n",
    "SERIES = \"ranking-api\"\n",
    "\n",
    "# Cloud storage buckets\n",
    "GCS_BUCKET_URI = f\"gs://{PREFIX}-central-bucket\"\n",
    "GCS_BUCKET = GCS_BUCKET_URI.replace(\"gs://\", \"\")"
   ]
  },
  {
   "cell_type": "code",
   "execution_count": 6,
   "id": "f051bb5c-791f-4b77-815d-9ca042b552e6",
   "metadata": {
    "tags": []
   },
   "outputs": [],
   "source": [
    "# Vertex AI\n",
    "vertexai.init(project = PROJECT_ID, location = REGION)\n",
    "\n",
    "# Vertex AI Agent Builder APIs\n",
    "check_grounding_client = discoveryengine.GroundedGenerationServiceClient()"
   ]
  },
  {
   "cell_type": "markdown",
   "id": "6e3ec474-c12a-480a-a91b-54117bfbc858",
   "metadata": {},
   "source": [
    "## Get chunked documents"
   ]
  },
  {
   "cell_type": "code",
   "execution_count": 7,
   "id": "f9a56352-33da-43ab-a0c2-bd422eb1e28d",
   "metadata": {
    "tags": []
   },
   "outputs": [],
   "source": [
    "local_dir = \"files/embeddings-api\"\n",
    "\n",
    "with open(local_dir+'/chunk-embeddings.jsonl', 'r') as f:\n",
    "    chunks = [json.loads(line) for line in f]"
   ]
  },
  {
   "cell_type": "markdown",
   "id": "5c3fd4c5-4444-4e74-85f7-a42bc96ebe4b",
   "metadata": {},
   "source": [
    "### Review a chunk"
   ]
  },
  {
   "cell_type": "code",
   "execution_count": 8,
   "id": "eff32860-f030-4527-b914-e6dae0dd186f",
   "metadata": {
    "tags": []
   },
   "outputs": [
    {
     "data": {
      "text/plain": [
       "dict_keys(['instance', 'predictions', 'status'])"
      ]
     },
     "execution_count": 8,
     "metadata": {},
     "output_type": "execute_result"
    }
   ],
   "source": [
    "chunks[0].keys()"
   ]
  },
  {
   "cell_type": "code",
   "execution_count": 9,
   "id": "46ceb808-1390-40e7-8078-6ea02a32e095",
   "metadata": {
    "tags": []
   },
   "outputs": [
    {
     "data": {
      "text/plain": [
       "'c2'"
      ]
     },
     "execution_count": 9,
     "metadata": {},
     "output_type": "execute_result"
    }
   ],
   "source": [
    "chunks[0]['instance']['chunk_id']"
   ]
  },
  {
   "cell_type": "code",
   "execution_count": 10,
   "id": "5857384a-ae17-4c3a-900d-a02991812340",
   "metadata": {
    "tags": []
   },
   "outputs": [
    {
     "name": "stdout",
     "output_type": "stream",
     "text": [
      "# OFFICIAL BASEBALL RULES\n",
      "\n",
      "## Official Baseball Rules 2023 Edition\n",
      "\n",
      "### JOINT COMPETITION COMMITTEE\n",
      "\n",
      "|-|-|-|\n",
      "| Bill DeWitt | Whit Merrifield | Austin Slater |\n",
      "| Jack Flaherty | Bill Miller | John Stanton, Chair |\n",
      "| Tyler Glasnow | Dick Monfort | Tom Werner |\n",
      "| Greg Johnson | Mark Shapiro |  |\n",
      "\n",
      "Committee Secretary Paul V. Mifsud, Jr. Copyright © 2023 by the Office of the Commissioner of Baseball\n"
     ]
    }
   ],
   "source": [
    "print(chunks[0]['instance']['content'])"
   ]
  },
  {
   "cell_type": "code",
   "execution_count": 11,
   "id": "131ddb13-0e82-4b20-9290-6f0094886c55",
   "metadata": {
    "tags": []
   },
   "outputs": [
    {
     "data": {
      "text/plain": [
       "[0.008681542240083218,\n",
       " 0.06999468058347702,\n",
       " 0.003673204220831394,\n",
       " 0.019888797774910927,\n",
       " 0.016285404562950134,\n",
       " 0.035664502531290054,\n",
       " 0.06200747936964035,\n",
       " 0.05597030743956566,\n",
       " 0.0034793149679899216,\n",
       " -0.024485772475600243]"
      ]
     },
     "execution_count": 11,
     "metadata": {},
     "output_type": "execute_result"
    }
   ],
   "source": [
    "chunks[0]['predictions'][0]['embeddings']['values'][0:10]"
   ]
  },
  {
   "cell_type": "markdown",
   "id": "87e45e0c-8b7f-493b-9e0f-4d3ecbaba3e4",
   "metadata": {},
   "source": [
    "### prep content chunks for simple RAG"
   ]
  },
  {
   "cell_type": "code",
   "execution_count": 12,
   "id": "5e38dc9d-2316-4485-bade-8f7cb42bc89a",
   "metadata": {
    "tags": []
   },
   "outputs": [],
   "source": [
    "content_chunks = {}\n",
    "for chunk in chunks:\n",
    "    content_chunks[chunk['instance']['chunk_id']] = chunk['instance']['content']"
   ]
  },
  {
   "cell_type": "code",
   "execution_count": 13,
   "id": "9826954c-1c54-49da-b3c4-c2838fbd80e0",
   "metadata": {
    "tags": []
   },
   "outputs": [
    {
     "data": {
      "text/plain": [
       "'# OFFICIAL BASEBALL RULES\\n\\n## Official Baseball Rules 2023 Edition\\n\\n### JOINT COMPETITION COMMITTEE\\n\\n|-|-|-|\\n| Bill DeWitt | Whit Merrifield | Austin Slater |\\n| Jack Flaherty | Bill Miller | John Stanton, Chair |\\n| Tyler Glasnow | Dick Monfort | Tom Werner |\\n| Greg Johnson | Mark Shapiro |  |\\n\\nCommittee Secretary Paul V. Mifsud, Jr. Copyright © 2023 by the Office of the Commissioner of Baseball'"
      ]
     },
     "execution_count": 13,
     "metadata": {},
     "output_type": "execute_result"
    }
   ],
   "source": [
    "content_chunks['c2']"
   ]
  },
  {
   "cell_type": "markdown",
   "id": "aa83e1fa-bd73-4b4b-8d9a-40a35d6e4c3c",
   "metadata": {},
   "source": [
    "## Vector DB With Numpy\n",
    "\n",
    "> retreiving from local numpy DB for simplicity"
   ]
  },
  {
   "cell_type": "code",
   "execution_count": 14,
   "id": "504a1e87-fd50-475c-aeca-bf9bb39334c2",
   "metadata": {
    "tags": []
   },
   "outputs": [],
   "source": [
    "vector_db = [\n",
    "    [\n",
    "        chunk['instance']['chunk_id'],\n",
    "        chunk['predictions'][0]['embeddings']['values'],\n",
    "    ]\n",
    "    for chunk in chunks\n",
    "]\n",
    "vector_index = np.array([row[1] for row in vector_db])"
   ]
  },
  {
   "cell_type": "markdown",
   "id": "0d038cca-980d-4c07-b8a7-36771f9c265f",
   "metadata": {},
   "source": [
    "## Models: Embeddings, Generation"
   ]
  },
  {
   "cell_type": "code",
   "execution_count": 43,
   "id": "86fd09a6-2e42-4aaa-8f78-20fa903518b3",
   "metadata": {
    "tags": []
   },
   "outputs": [],
   "source": [
    "embedder = vertexai.language_models.TextEmbeddingModel.from_pretrained('text-embedding-004')\n",
    "llm = vertexai.generative_models.GenerativeModel(\"gemini-1.5-flash-001\")"
   ]
  },
  {
   "cell_type": "code",
   "execution_count": 44,
   "id": "6cc7c150-1966-4020-9498-1fc57030e0d6",
   "metadata": {
    "tags": []
   },
   "outputs": [
    {
     "data": {
      "text/markdown": [
       "The term \"base\" is quite ambiguous and can refer to different things depending on the context. To answer your question, I need more information. Please tell me:\n",
       "\n",
       "**What kind of base are you asking about?**\n",
       "\n",
       "For example, are you asking about:\n",
       "\n",
       "* **A base in geometry?** (like the base of a triangle or rectangle)\n",
       "* **A base in chemistry?** (like a base in an acid-base reaction)\n",
       "* **A base in a military context?** (like a military base)\n",
       "* **The base of a number system?** (like base 10, base 2, etc.) \n",
       "\n",
       "Once you provide more context, I can give you the specific dimensions you need. \n"
      ],
      "text/plain": [
       "<IPython.core.display.Markdown object>"
      ]
     },
     "execution_count": 44,
     "metadata": {},
     "output_type": "execute_result"
    }
   ],
   "source": [
    "question = \"What are the dimensions of a base?\"\n",
    "\n",
    "Markdown(llm.generate_content(question).text)"
   ]
  },
  {
   "cell_type": "markdown",
   "id": "e653f0a4-8d13-4b00-833b-3a70c3bd770d",
   "metadata": {},
   "source": [
    "### get embedding for question"
   ]
  },
  {
   "cell_type": "code",
   "execution_count": 17,
   "id": "cde19448-04e5-4dbd-b5f5-03629bb9736f",
   "metadata": {
    "tags": []
   },
   "outputs": [
    {
     "data": {
      "text/plain": [
       "[-0.026682045310735703,\n",
       " 0.011593513190746307,\n",
       " 0.028523651883006096,\n",
       " -0.0017065361607819796,\n",
       " 0.01946176588535309,\n",
       " 0.0031198114156723022,\n",
       " 0.07915323227643967,\n",
       " -0.005078596994280815,\n",
       " -0.006295712199062109,\n",
       " 0.04943541809916496]"
      ]
     },
     "execution_count": 17,
     "metadata": {},
     "output_type": "execute_result"
    }
   ],
   "source": [
    "question_embedding = embedder.get_embeddings([question])[0].values\n",
    "question_embedding[0:10]"
   ]
  },
  {
   "cell_type": "markdown",
   "id": "7fa83d85-3050-415f-a2de-611c1776c831",
   "metadata": {},
   "source": [
    "### Retrieval: Matching With Numpy"
   ]
  },
  {
   "cell_type": "code",
   "execution_count": 18,
   "id": "808df63a-9a35-4785-9ae9-428744893529",
   "metadata": {
    "tags": []
   },
   "outputs": [
    {
     "data": {
      "text/plain": [
       "[(38, 0.5843799337008113),\n",
       " (34, 0.5724333016720691),\n",
       " (835, 0.5244194362041271),\n",
       " (40, 0.5126844935129918),\n",
       " (26, 0.5033481946111171)]"
      ]
     },
     "execution_count": 18,
     "metadata": {},
     "output_type": "execute_result"
    }
   ],
   "source": [
    "similarity = np.dot(question_embedding, vector_index.T)\n",
    "#matches = np.argsort(similarity)[::-1][:5].tolist()\n",
    "matches = np.argsort(similarity)[-5:].tolist()\n",
    "matches = [(match, similarity[match]) for match in matches]\n",
    "matches.reverse()\n",
    "matches"
   ]
  },
  {
   "cell_type": "code",
   "execution_count": 19,
   "id": "36abb7e6-4622-4bb0-9580-e792096ecb52",
   "metadata": {
    "tags": []
   },
   "outputs": [
    {
     "name": "stdout",
     "output_type": "stream",
     "text": [
      "Match 1 (0.58) is chunk c38:\n",
      "# 2.00-THE PLAYING FIELD\n",
      "\n",
      "## 2.02 Home Base\n",
      "\n",
      "Home base shall be marked by a five-sided slab of whitened rubber. It shall be a 17-inch square with two of the corners removed so that one edge is 17 inches long, two adjacent sides are 8\\frac{1}{2} inches and the remaining two sides are 12 inches and set at an angle to make a point.\n",
      "###################################################\n",
      "Match 2 (0.57) is chunk c39:\n",
      "# 2.00-THE PLAYING FIELD\n",
      "\n",
      "## 2.02 Home Base\n",
      "\n",
      "It shall be set in the ground with the point at the intersection of the lines extending from home base to first base and to third base; with the 17-inch edge facing the pitcher's plate, and the two 12-inch edges coinciding with the first and third base lines. The top edges of home base shall be beveled and the base shall be fixed in the ground level with the ground surface. (See drawing D in Appendix 2.) 3\n",
      "###################################################\n",
      "Match 3 (0.52) is chunk c837:\n",
      "# APPENDICES\n",
      "\n",
      "## Appendix 2\n",
      "\n",
      "Diagram No. 2 Layout at Home Plate, 1st, 2nd, and 3rd Bases 18\" A 18\" 90° LAYOUT AT SECOND BASE FOR LAYOUT AT PITCHER'S PLATE SEE DIAGRAM NO. 3 90° 6\" 17\" 6\" D E 3'0\" 3'0\" 4'0\" 4 C 43\" LAYOUT AT HOME BASE DIAGRAM NO. 2 LEGEND A 1st, 2nd, 3rd BASES BATTER'S BOX B B C CATCHER'S BOX D HOME BASE E PITCHER'S PLATE Rev2023RW 161 90° 4 FOUL LINE LAYOUT AT FIRST BASE\n",
      "###################################################\n",
      "Match 4 (0.51) is chunk c40:\n",
      "# Rule 2.03 to 2.05\n",
      "\n",
      "## 2.03 The Bases\n",
      "\n",
      "First, second and third bases shall be marked by white canvas or rubber-covered bags, securely attached to the ground as indicated in Diagram 2. The first and third base bags shall be entirely within the infield. The second base bag shall be centered on second base. The bags shall be 18 inches square, not less than three nor more than five inches thick, and filled with soft material.\n",
      "###################################################\n",
      "Match 5 (0.50) is chunk c31:\n",
      "# 2.00-THE PLAYING FIELD\n",
      "\n",
      "## 2.01 Layout of the Field\n",
      "\n",
      "When location of home base is determined, with a steel tape measure 127 feet, 3\\frac{3}{8} inches in desired direction to establish second base. From home base, measure 90 feet toward first base; from second base, measure 90 feet toward first base; the intersection of these lines establishes first base. From home base, measure 90 feet toward third base; from second base, measure 90 feet toward third base; the intersection of these lines establishes third base.\n",
      "###################################################\n"
     ]
    }
   ],
   "source": [
    "for m, match in enumerate(matches):\n",
    "    print(f\"Match {m+1} ({match[1]:.2f}) is chunk {vector_db[match[0]][0]}:\\n{content_chunks[vector_db[match[0]][0]]}\\n###################################################\")"
   ]
  },
  {
   "cell_type": "markdown",
   "id": "ec35cf0c-215a-4b0a-b5a2-7646f363831a",
   "metadata": {},
   "source": [
    "# Generation: Q&A With Gemini Grounded With RAG\n",
    "\n",
    "> Provide the matched chunks of text along with the question as a prompt to a generative model for a grounded answe"
   ]
  },
  {
   "cell_type": "markdown",
   "id": "9247ac22-748e-4d30-b694-609deaac63cd",
   "metadata": {
    "jp-MarkdownHeadingCollapsed": true,
    "tags": []
   },
   "source": [
    "### Display Helper Function"
   ]
  },
  {
   "cell_type": "code",
   "execution_count": null,
   "id": "599a1315-40ea-47fc-8819-b77bf33c3701",
   "metadata": {},
   "outputs": [],
   "source": [
    "## TODO - abstract to file\n",
    "\n",
    "from IPython.display import Markdown, display\n",
    "from vertexai.generative_models import (\n",
    "    GenerationResponse,\n",
    "    GenerativeModel,\n",
    "    Tool,\n",
    "    grounding,\n",
    ")\n",
    "\n",
    "def print_grounding_response(response: GenerationResponse):\n",
    "    \"\"\"Prints Gemini response with grounding citations.\"\"\"\n",
    "    grounding_metadata = response.candidates[0].grounding_metadata\n",
    "\n",
    "    # Citation indices are in byte units\n",
    "    ENCODING = \"utf-8\"\n",
    "    text_bytes = response.text.encode(ENCODING)\n",
    "\n",
    "    prev_index = 0\n",
    "    markdown_text = \"\"\n",
    "\n",
    "    for grounding_support in grounding_metadata.grounding_supports:\n",
    "        text_segment = text_bytes[\n",
    "            prev_index : grounding_support.segment.end_index\n",
    "        ].decode(ENCODING)\n",
    "\n",
    "        footnotes_text = \"\"\n",
    "        for grounding_chunk_index in grounding_support.grounding_chunk_indices:\n",
    "            footnotes_text += f\"[{grounding_chunk_index + 1}]\"\n",
    "\n",
    "        markdown_text += f\"{text_segment} {footnotes_text}\\n\"\n",
    "        prev_index = grounding_support.segment.end_index\n",
    "\n",
    "    if prev_index < len(text_bytes):\n",
    "        markdown_text += str(text_bytes[prev_index:], encoding=ENCODING)\n",
    "\n",
    "    markdown_text += \"\\n----\\n## Grounding Sources\\n\"\n",
    "\n",
    "    if grounding_metadata.web_search_queries:\n",
    "        markdown_text += (\n",
    "            f\"\\n**Web Search Queries:** {grounding_metadata.web_search_queries}\\n\"\n",
    "        )\n",
    "        if grounding_metadata.search_entry_point:\n",
    "            markdown_text += f\"\\n**Search Entry Point:**\\n {grounding_metadata.search_entry_point.rendered_content}\\n\"\n",
    "    elif grounding_metadata.retrieval_queries:\n",
    "        markdown_text += (\n",
    "            f\"\\n**Retrieval Queries:** {grounding_metadata.retrieval_queries}\\n\"\n",
    "        )\n",
    "\n",
    "    markdown_text += \"### Grounding Chunks\\n\"\n",
    "\n",
    "    for index, grounding_chunk in enumerate(\n",
    "        grounding_metadata.grounding_chunks, start=1\n",
    "    ):\n",
    "        context = grounding_chunk.web or grounding_chunk.retrieved_context\n",
    "        if not context:\n",
    "            print(f\"Skipping Grounding Chunk {grounding_chunk}\")\n",
    "            continue\n",
    "\n",
    "        markdown_text += f\"{index}. [{context.title}]({context.uri})\\n\"\n",
    "\n",
    "    display(Markdown(markdown_text))"
   ]
  },
  {
   "cell_type": "markdown",
   "id": "f53f0664-8129-463c-b748-4684b289658c",
   "metadata": {
    "jp-MarkdownHeadingCollapsed": true,
    "tags": []
   },
   "source": [
    "### Prompt Building Function\n",
    "\n",
    "> Use the matching chunks as context for the prompt:"
   ]
  },
  {
   "cell_type": "code",
   "execution_count": 20,
   "id": "cb25709e-64d9-43e7-bb50-ce213a4466f5",
   "metadata": {
    "tags": []
   },
   "outputs": [],
   "source": [
    "def get_prompt(question, top_n = 5):\n",
    "    # get embedding for question\n",
    "    question_embedding = embedder.get_embeddings([question])[0].values\n",
    "    \n",
    "    # get top_n matches:\n",
    "    similarity = np.dot(question_embedding, vector_index.T)\n",
    "    matches = np.argsort(similarity)[-top_n:].tolist()\n",
    "    matches.reverse()\n",
    "    matches = [[match, similarity[match]] for match in matches]\n",
    "    \n",
    "    # construct prompt:\n",
    "    prompt = ''\n",
    "    for m, match in enumerate(matches):\n",
    "        prompt += f\"Context {m+1}:\\n{content_chunks[vector_db[match[0]][0]]}\\n\\n\"\n",
    "    prompt += f'Answer the following question using the provided contexts:\\n{question}'\n",
    "    \n",
    "    return matches, prompt"
   ]
  },
  {
   "cell_type": "code",
   "execution_count": 21,
   "id": "3e52ed45-68fe-4476-982c-c0fd2fe69d13",
   "metadata": {
    "tags": []
   },
   "outputs": [
    {
     "name": "stdout",
     "output_type": "stream",
     "text": [
      "Context 1:\n",
      "# 2.00-THE PLAYING FIELD\n",
      "\n",
      "## 2.02 Home Base\n",
      "\n",
      "Home base shall be marked by a five-sided slab of whitened rubber. It shall be a 17-inch square with two of the corners removed so that one edge is 17 inches long, two adjacent sides are 8\\frac{1}{2} inches and the remaining two sides are 12 inches and set at an angle to make a point.\n",
      "\n",
      "Context 2:\n",
      "# 2.00-THE PLAYING FIELD\n",
      "\n",
      "## 2.02 Home Base\n",
      "\n",
      "It shall be set in the ground with the point at the intersection of the lines extending from home base to first base and to third base; with the 17-inch edge facing the pitcher's plate, and the two 12-inch edges coinciding with the first and third base lines. The top edges of home base shall be beveled and the base shall be fixed in the ground level with the ground surface. (See drawing D in Appendix 2.) 3\n",
      "\n",
      "Context 3:\n",
      "# APPENDICES\n",
      "\n",
      "## Appendix 2\n",
      "\n",
      "Diagram No. 2 Layout at Home Plate, 1st, 2nd, and 3rd Bases 18\" A 18\" 90° LAYOUT AT SECOND BASE FOR LAYOUT AT PITCHER'S PLATE SEE DIAGRAM NO. 3 90° 6\" 17\" 6\" D E 3'0\" 3'0\" 4'0\" 4 C 43\" LAYOUT AT HOME BASE DIAGRAM NO. 2 LEGEND A 1st, 2nd, 3rd BASES BATTER'S BOX B B C CATCHER'S BOX D HOME BASE E PITCHER'S PLATE Rev2023RW 161 90° 4 FOUL LINE LAYOUT AT FIRST BASE\n",
      "\n",
      "Context 4:\n",
      "# Rule 2.03 to 2.05\n",
      "\n",
      "## 2.03 The Bases\n",
      "\n",
      "First, second and third bases shall be marked by white canvas or rubber-covered bags, securely attached to the ground as indicated in Diagram 2. The first and third base bags shall be entirely within the infield. The second base bag shall be centered on second base. The bags shall be 18 inches square, not less than three nor more than five inches thick, and filled with soft material.\n",
      "\n",
      "Context 5:\n",
      "# 2.00-THE PLAYING FIELD\n",
      "\n",
      "## 2.01 Layout of the Field\n",
      "\n",
      "When location of home base is determined, with a steel tape measure 127 feet, 3\\frac{3}{8} inches in desired direction to establish second base. From home base, measure 90 feet toward first base; from second base, measure 90 feet toward first base; the intersection of these lines establishes first base. From home base, measure 90 feet toward third base; from second base, measure 90 feet toward third base; the intersection of these lines establishes third base.\n",
      "\n",
      "Answer the following question using the provided contexts:\n",
      "What are the dimensions of a base?\n"
     ]
    }
   ],
   "source": [
    "matches, prompt = get_prompt(question) \n",
    "print(prompt)"
   ]
  },
  {
   "cell_type": "code",
   "execution_count": 46,
   "id": "4b520c39-0689-4f06-aefe-f113b6082bdc",
   "metadata": {
    "tags": []
   },
   "outputs": [],
   "source": [
    "# Markdown(prompt)"
   ]
  },
  {
   "cell_type": "markdown",
   "id": "cbc3fd89-1e2f-41aa-8b66-59965c189501",
   "metadata": {},
   "source": [
    "## Grounded Generation"
   ]
  },
  {
   "cell_type": "code",
   "execution_count": 22,
   "id": "4230bc1c-94f7-486a-9527-a5eb0589bba7",
   "metadata": {
    "tags": []
   },
   "outputs": [
    {
     "data": {
      "text/markdown": [
       "The dimensions of a base depend on whether it's home base or the other bases. \n",
       "\n",
       "* **Home Base:**  It is a five-sided slab with:\n",
       "    * One edge of 17 inches\n",
       "    * Two adjacent sides of 8 1/2 inches\n",
       "    * Two remaining sides of 12 inches.\n",
       "\n",
       "* **First, Second, and Third Base:** They are white canvas or rubber-covered bags that are:\n",
       "    * 18 inches square\n",
       "    * 3 to 5 inches thick. \n"
      ],
      "text/plain": [
       "<IPython.core.display.Markdown object>"
      ]
     },
     "execution_count": 22,
     "metadata": {},
     "output_type": "execute_result"
    }
   ],
   "source": [
    "answer = llm.generate_content(prompt).text\n",
    "Markdown(answer)"
   ]
  },
  {
   "cell_type": "markdown",
   "id": "ee7ae23a-a5fe-4674-8cf3-57e85b69aac1",
   "metadata": {
    "tags": []
   },
   "source": [
    "## Check Grounding API\n",
    "\n",
    "With this API you pass it the answer from an LLM along with chunks of context which all called facts in the API\n",
    "\n",
    "The response include an overall score, support_score, and a phrase by phrase breakdown of which chunk/fact is the citation for the phrase - if any.\n",
    "\n",
    "see [Discoveryengine Python Grounded Generation Service Client](https://cloud.google.com/python/docs/reference/discoveryengine/latest/google.cloud.discoveryengine_v1.services.grounded_generation_service) for details"
   ]
  },
  {
   "cell_type": "code",
   "execution_count": 23,
   "id": "22145142-0ec0-43bb-810d-775f0efeee9f",
   "metadata": {
    "tags": []
   },
   "outputs": [],
   "source": [
    "ground_check = check_grounding_client.check_grounding(\n",
    "    request = discoveryengine.CheckGroundingRequest(\n",
    "        grounding_config = check_grounding_client.grounding_config_path(\n",
    "            project = PROJECT_ID,\n",
    "            location = 'global',\n",
    "            grounding_config = \"default_grounding_config\",\n",
    "        ),\n",
    "        answer_candidate = answer,\n",
    "        facts = [\n",
    "            discoveryengine.GroundingFact(\n",
    "                fact_text = content_chunks[vector_db[match[0]][0]],\n",
    "                attributes = {'author': 'MLB', 'chunk_id': vector_db[match[0]][0]}\n",
    "            )\n",
    "            for match in matches\n",
    "        ],\n",
    "        grounding_spec = discoveryengine.CheckGroundingSpec(\n",
    "            citation_threshold = 0.6,\n",
    "            #enable_anti_citation = True,\n",
    "            #anti_citation_threshold = 0.75\n",
    "        ),\n",
    "    )\n",
    ")"
   ]
  },
  {
   "cell_type": "code",
   "execution_count": 24,
   "id": "746f2735-8315-4e4c-b4ca-caedcc26846e",
   "metadata": {
    "tags": []
   },
   "outputs": [
    {
     "data": {
      "text/plain": [
       "support_score: 0.826414347\n",
       "cited_chunks {\n",
       "  chunk_text: \"# 2.00-THE PLAYING FIELD\\n\\n## 2.02 Home Base\\n\\nHome base shall be marked by a five-sided slab of whitened rubber. It shall be a 17-inch square with two of the corners removed so that one edge is 17 inches long, two adjacent sides are 8\\\\frac{1}{2} inches and the remaining two sides are 12 inches and set at an angle to make a point.\"\n",
       "  source: \"0\"\n",
       "}\n",
       "cited_chunks {\n",
       "  chunk_text: \"# 2.00-THE PLAYING FIELD\\n\\n## 2.02 Home Base\\n\\nIt shall be set in the ground with the point at the intersection of the lines extending from home base to first base and to third base; with the 17-inch edge facing the pitcher\\'s plate, and the two 12-inch edges coinciding with the first and third base lines. The top edges of home base shall be beveled and the base shall be fixed in the ground level with the ground surface. (See drawing D in Appendix 2.) 3\"\n",
       "  source: \"1\"\n",
       "}\n",
       "cited_chunks {\n",
       "  chunk_text: \"# APPENDICES\\n\\n## Appendix 2\\n\\nDiagram No. 2 Layout at Home Plate, 1st, 2nd, and 3rd Bases 18\\\" A 18\\\" 90° LAYOUT AT SECOND BASE FOR LAYOUT AT PITCHER\\'S PLATE SEE DIAGRAM NO. 3 90° 6\\\" 17\\\" 6\\\" D E 3\\'0\\\" 3\\'0\\\" 4\\'0\\\" 4 C 43\\\" LAYOUT AT HOME BASE DIAGRAM NO. 2 LEGEND A 1st, 2nd, 3rd BASES BATTER\\'S BOX B B C CATCHER\\'S BOX D HOME BASE E PITCHER\\'S PLATE Rev2023RW 161 90° 4 FOUL LINE LAYOUT AT FIRST BASE\"\n",
       "  source: \"2\"\n",
       "}\n",
       "cited_chunks {\n",
       "  chunk_text: \"# Rule 2.03 to 2.05\\n\\n## 2.03 The Bases\\n\\nFirst, second and third bases shall be marked by white canvas or rubber-covered bags, securely attached to the ground as indicated in Diagram 2. The first and third base bags shall be entirely within the infield. The second base bag shall be centered on second base. The bags shall be 18 inches square, not less than three nor more than five inches thick, and filled with soft material.\"\n",
       "  source: \"3\"\n",
       "}\n",
       "claims {\n",
       "  start_pos: 0\n",
       "  end_pos: 77\n",
       "  claim_text: \"The dimensions of a base depend on whether it\\'s home base or the other bases.\"\n",
       "  grounding_check_required: true\n",
       "}\n",
       "claims {\n",
       "  start_pos: 80\n",
       "  end_pos: 127\n",
       "  claim_text: \"* **Home Base:**  It is a five-sided slab with:\"\n",
       "  grounding_check_required: false\n",
       "}\n",
       "claims {\n",
       "  start_pos: 132\n",
       "  end_pos: 155\n",
       "  claim_text: \"* One edge of 17 inches\"\n",
       "  citation_indices: 0\n",
       "  citation_indices: 1\n",
       "  citation_indices: 2\n",
       "  grounding_check_required: true\n",
       "}\n",
       "claims {\n",
       "  start_pos: 160\n",
       "  end_pos: 196\n",
       "  claim_text: \"* Two adjacent sides of 8 1/2 inches\"\n",
       "  citation_indices: 0\n",
       "  grounding_check_required: true\n",
       "}\n",
       "claims {\n",
       "  start_pos: 201\n",
       "  end_pos: 236\n",
       "  claim_text: \"* Two remaining sides of 12 inches.\"\n",
       "  citation_indices: 0\n",
       "  grounding_check_required: true\n",
       "}\n",
       "claims {\n",
       "  start_pos: 238\n",
       "  end_pos: 329\n",
       "  claim_text: \"* **First, Second, and Third Base:** They are white canvas or rubber-covered bags that are:\"\n",
       "  citation_indices: 3\n",
       "  grounding_check_required: true\n",
       "}\n",
       "claims {\n",
       "  start_pos: 334\n",
       "  end_pos: 352\n",
       "  claim_text: \"* 18 inches square\"\n",
       "  grounding_check_required: false\n",
       "}\n",
       "claims {\n",
       "  start_pos: 357\n",
       "  end_pos: 379\n",
       "  claim_text: \"* 3 to 5 inches thick.\"\n",
       "  citation_indices: 3\n",
       "  grounding_check_required: true\n",
       "}"
      ]
     },
     "execution_count": 24,
     "metadata": {},
     "output_type": "execute_result"
    }
   ],
   "source": [
    "ground_check"
   ]
  },
  {
   "cell_type": "markdown",
   "id": "10e0a6f0-5d34-4fea-a61c-7faa9eb7041b",
   "metadata": {
    "tags": []
   },
   "source": [
    "### Examine Check Grounding Results Phrase-by-Phrase"
   ]
  },
  {
   "cell_type": "code",
   "execution_count": 25,
   "id": "f5b6901c-2c45-4ed4-b788-a0e479cbf34f",
   "metadata": {
    "tags": []
   },
   "outputs": [
    {
     "data": {
      "text/markdown": [
       "**Grounding Support Score (0-1):** 0.83\n",
       "|Answer Phrases|Citations|\n",
       "|---|---|\n",
       "|The dimensions of a base depend on whether it's home base or the other bases.|[]|\n",
       "|* **Home Base:**  It is a five-sided slab with:|[]|\n",
       "|* One edge of 17 inches|['c38', 'c39', 'c837']|\n",
       "|* Two adjacent sides of 8 1/2 inches|['c38']|\n",
       "|* Two remaining sides of 12 inches.|['c38']|\n",
       "|* **First, Second, and Third Base:** They are white canvas or rubber-covered bags that are:|['c40']|\n",
       "|* 18 inches square|[]|\n",
       "|* 3 to 5 inches thick.|['c40']|\n",
       "--------------------------------------------------------------------------------\n",
       "**Chunk = c38:**\n",
       "\n",
       " 2.00-THE PLAYING FIELD\n",
       "\n",
       " 2.02 Home Base\n",
       "\n",
       "Home base shall be marked by a five-sided slab of whitened rubber. It shall be a 17-inch square with two of the corners removed so that one edge is 17 inches long, two adjacent sides are 8\\frac{1}{2} inches and the remaining two sides are 12 inches and set at an angle to make a point.\n",
       "\n",
       "--------------------------------------------------------------------------------\n",
       "**Chunk = c39:**\n",
       "\n",
       " 2.00-THE PLAYING FIELD\n",
       "\n",
       " 2.02 Home Base\n",
       "\n",
       "It shall be set in the ground with the point at the intersection of the lines extending from home base to first base and to third base; with the 17-inch edge facing the pitcher's plate, and the two 12-inch edges coinciding with the first and third base lines. The top edges of home base shall be beveled and the base shall be fixed in the ground level with the ground surface. (See drawing D in Appendix 2.) 3\n",
       "\n",
       "--------------------------------------------------------------------------------\n",
       "**Chunk = c40:**\n",
       "\n",
       " Rule 2.03 to 2.05\n",
       "\n",
       " 2.03 The Bases\n",
       "\n",
       "First, second and third bases shall be marked by white canvas or rubber-covered bags, securely attached to the ground as indicated in Diagram 2. The first and third base bags shall be entirely within the infield. The second base bag shall be centered on second base. The bags shall be 18 inches square, not less than three nor more than five inches thick, and filled with soft material.\n",
       "\n",
       "--------------------------------------------------------------------------------\n",
       "**Chunk = c837:**\n",
       "\n",
       " APPENDICES\n",
       "\n",
       " Appendix 2\n",
       "\n",
       "Diagram No. 2 Layout at Home Plate, 1st, 2nd, and 3rd Bases 18\" A 18\" 90° LAYOUT AT SECOND BASE FOR LAYOUT AT PITCHER'S PLATE SEE DIAGRAM NO. 3 90° 6\" 17\" 6\" D E 3'0\" 3'0\" 4'0\" 4 C 43\" LAYOUT AT HOME BASE DIAGRAM NO. 2 LEGEND A 1st, 2nd, 3rd BASES BATTER'S BOX B B C CATCHER'S BOX D HOME BASE E PITCHER'S PLATE Rev2023RW 161 90° 4 FOUL LINE LAYOUT AT FIRST BASE\n",
       "\n",
       "--------------------------------------------------------------------------------\n"
      ],
      "text/plain": [
       "<IPython.core.display.Markdown object>"
      ]
     },
     "execution_count": 25,
     "metadata": {},
     "output_type": "execute_result"
    }
   ],
   "source": [
    "overview = f\"**Grounding Support Score (0-1):** {ground_check.support_score:.2f}\\n|Answer Phrases|Citations|\\n|---|---|\\n\"\n",
    "all_ref_chunks = []\n",
    "for claim in ground_check.claims:\n",
    "    citations = [c for c in claim.citation_indices] if hasattr(claim, 'citation_indices') else []\n",
    "    sources = [ground_check.cited_chunks[citation].source for citation in citations]\n",
    "    ref_chunks = [vector_db[matches[int(source)][0]][0] for source in sources]\n",
    "    if ref_chunks: all_ref_chunks += ref_chunks\n",
    "    overview += f\"|{claim.claim_text}|{ref_chunks}|\\n\"\n",
    "overview += '-'*80 +'\\n'    \n",
    "for chunk_id in sorted(list(set(all_ref_chunks))):\n",
    "    overview += f\"**Chunk = {chunk_id}:**\\n\\n{content_chunks[chunk_id]}\\n\\n\" + '-'*80 +'\\n'\n",
    "\n",
    "Markdown(overview.replace('#', ''))"
   ]
  },
  {
   "cell_type": "markdown",
   "id": "5f3f3b9a-a9b9-4fb8-9f95-6a59218d528a",
   "metadata": {},
   "source": [
    "## Ground with Google Search\n",
    "\n",
    "Now you can add the `tools` keyword arg with a `grounding` tool of `grounding.GoogleSearchRetrieval()` to instruct the LLM to first perform a Google Search with the prompt, then construct an answer based on the web search results.\n",
    "\n",
    "The search queries and [Search Entry Point](https://cloud.google.com/vertex-ai/generative-ai/docs/multimodal/grounding-search-entry-points) are available for each `Candidate` in the response. The helper `function print_grounding_response()` prints the response text with citations."
   ]
  },
  {
   "cell_type": "markdown",
   "id": "29965f95-06bd-4ba6-bfdc-a35335e79df5",
   "metadata": {},
   "source": [
    "**Without grounding**"
   ]
  },
  {
   "cell_type": "code",
   "execution_count": 38,
   "id": "c89346f9-b6cc-4d85-947e-b1146c3d0212",
   "metadata": {
    "tags": []
   },
   "outputs": [
    {
     "data": {
      "text/markdown": [
       "The term \"base\" can refer to many things depending on the context. Please provide more information about what you're referring to, such as:\n",
       "\n",
       "* **Geometry:** Are you talking about the base of a triangle, rectangle, pyramid, or some other geometric shape?\n",
       "* **Construction:** Are you asking about the base of a building, a bridge, or some other structure?\n",
       "* **Other:** Is there another context for the term \"base\" that you have in mind?\n",
       "\n",
       "Once I have a better understanding of your question, I can give you a more specific answer about the dimensions of a base. \n"
      ],
      "text/plain": [
       "<IPython.core.display.Markdown object>"
      ]
     },
     "metadata": {},
     "output_type": "display_data"
    }
   ],
   "source": [
    "question = \"What are the dimensions of a base?\"\n",
    "\n",
    "response = llm.generate_content(question)\n",
    "\n",
    "display(Markdown(response.text))"
   ]
  },
  {
   "cell_type": "markdown",
   "id": "7db642e3-b5bd-4edd-be2c-f16788c26838",
   "metadata": {},
   "source": [
    "**Ground with Google Search**"
   ]
  },
  {
   "cell_type": "code",
   "execution_count": 41,
   "id": "cf50b0c1-02b2-4005-8f1f-ba4dfe4d2c7c",
   "metadata": {
    "tags": []
   },
   "outputs": [
    {
     "data": {
      "text/markdown": [
       "A baseball base is a square with dimensions of 15 inches by 15 inches (38.1 cm x 38.1 cm). [1]\n",
       " This has recently changed as of September 2022, where the bases were increased to 18 inches square. [2]\n",
       "  The height of a baseball base can vary from 3 to 5 inches (7.62-12.7 cm). [1]\n",
       " \n",
       "\n",
       "----\n",
       "## Grounding Sources\n",
       "\n",
       "**Web Search Queries:** ['what are the dimensions of a base']\n",
       "\n",
       "**Search Entry Point:**\n",
       " <style>\n",
       ".container {\n",
       "  align-items: center;\n",
       "  border-radius: 8px;\n",
       "  display: flex;\n",
       "  font-family: Google Sans, Roboto, sans-serif;\n",
       "  font-size: 14px;\n",
       "  line-height: 20px;\n",
       "  padding: 8px 12px;\n",
       "}\n",
       ".chip {\n",
       "  display: inline-block;\n",
       "  border: solid 1px;\n",
       "  border-radius: 16px;\n",
       "  min-width: 14px;\n",
       "  padding: 5px 16px;\n",
       "  text-align: center;\n",
       "  user-select: none;\n",
       "  margin: 0 8px;\n",
       "  -webkit-tap-highlight-color: transparent;\n",
       "}\n",
       ".carousel {\n",
       "  overflow: auto;\n",
       "  scrollbar-width: none;\n",
       "  white-space: nowrap;\n",
       "  margin-right: -12px;\n",
       "}\n",
       ".headline {\n",
       "  display: flex;\n",
       "  margin-right: 4px;\n",
       "}\n",
       ".gradient-container {\n",
       "  position: relative;\n",
       "}\n",
       ".gradient {\n",
       "  position: absolute;\n",
       "  transform: translate(3px, -9px);\n",
       "  height: 36px;\n",
       "  width: 9px;\n",
       "}\n",
       "@media (prefers-color-scheme: light) {\n",
       "  .container {\n",
       "    background-color: #fafafa;\n",
       "    box-shadow: 0 0 0 1px #0000000f;\n",
       "  }\n",
       "  .headline-label {\n",
       "    color: #1f1f1f;\n",
       "  }\n",
       "  .chip {\n",
       "    background-color: #ffffff;\n",
       "    border-color: #d2d2d2;\n",
       "    color: #5e5e5e;\n",
       "    text-decoration: none;\n",
       "  }\n",
       "  .chip:hover {\n",
       "    background-color: #f2f2f2;\n",
       "  }\n",
       "  .chip:focus {\n",
       "    background-color: #f2f2f2;\n",
       "  }\n",
       "  .chip:active {\n",
       "    background-color: #d8d8d8;\n",
       "    border-color: #b6b6b6;\n",
       "  }\n",
       "  .logo-dark {\n",
       "    display: none;\n",
       "  }\n",
       "  .gradient {\n",
       "    background: linear-gradient(90deg, #fafafa 15%, #fafafa00 100%);\n",
       "  }\n",
       "}\n",
       "@media (prefers-color-scheme: dark) {\n",
       "  .container {\n",
       "    background-color: #1f1f1f;\n",
       "    box-shadow: 0 0 0 1px #ffffff26;\n",
       "  }\n",
       "  .headline-label {\n",
       "    color: #fff;\n",
       "  }\n",
       "  .chip {\n",
       "    background-color: #2c2c2c;\n",
       "    border-color: #3c4043;\n",
       "    color: #fff;\n",
       "    text-decoration: none;\n",
       "  }\n",
       "  .chip:hover {\n",
       "    background-color: #353536;\n",
       "  }\n",
       "  .chip:focus {\n",
       "    background-color: #353536;\n",
       "  }\n",
       "  .chip:active {\n",
       "    background-color: #464849;\n",
       "    border-color: #53575b;\n",
       "  }\n",
       "  .logo-light {\n",
       "    display: none;\n",
       "  }\n",
       "  .gradient {\n",
       "    background: linear-gradient(90deg, #1f1f1f 15%, #1f1f1f00 100%);\n",
       "  }\n",
       "}\n",
       "</style>\n",
       "<div class=\"container\">\n",
       "  <div class=\"headline\">\n",
       "    <svg class=\"logo-light\" width=\"18\" height=\"18\" viewBox=\"9 9 35 35\" fill=\"none\" xmlns=\"http://www.w3.org/2000/svg\">\n",
       "      <path fill-rule=\"evenodd\" clip-rule=\"evenodd\" d=\"M42.8622 27.0064C42.8622 25.7839 42.7525 24.6084 42.5487 23.4799H26.3109V30.1568H35.5897C35.1821 32.3041 33.9596 34.1222 32.1258 35.3448V39.6864H37.7213C40.9814 36.677 42.8622 32.2571 42.8622 27.0064V27.0064Z\" fill=\"#4285F4\"/>\n",
       "      <path fill-rule=\"evenodd\" clip-rule=\"evenodd\" d=\"M26.3109 43.8555C30.9659 43.8555 34.8687 42.3195 37.7213 39.6863L32.1258 35.3447C30.5898 36.3792 28.6306 37.0061 26.3109 37.0061C21.8282 37.0061 18.0195 33.9811 16.6559 29.906H10.9194V34.3573C13.7563 39.9841 19.5712 43.8555 26.3109 43.8555V43.8555Z\" fill=\"#34A853\"/>\n",
       "      <path fill-rule=\"evenodd\" clip-rule=\"evenodd\" d=\"M16.6559 29.8904C16.3111 28.8559 16.1074 27.7588 16.1074 26.6146C16.1074 25.4704 16.3111 24.3733 16.6559 23.3388V18.8875H10.9194C9.74388 21.2072 9.06992 23.8247 9.06992 26.6146C9.06992 29.4045 9.74388 32.022 10.9194 34.3417L15.3864 30.8621L16.6559 29.8904V29.8904Z\" fill=\"#FBBC05\"/>\n",
       "      <path fill-rule=\"evenodd\" clip-rule=\"evenodd\" d=\"M26.3109 16.2386C28.85 16.2386 31.107 17.1164 32.9095 18.8091L37.8466 13.8719C34.853 11.082 30.9659 9.3736 26.3109 9.3736C19.5712 9.3736 13.7563 13.245 10.9194 18.8875L16.6559 23.3388C18.0195 19.2636 21.8282 16.2386 26.3109 16.2386V16.2386Z\" fill=\"#EA4335\"/>\n",
       "    </svg>\n",
       "    <svg class=\"logo-dark\" width=\"18\" height=\"18\" viewBox=\"0 0 48 48\" xmlns=\"http://www.w3.org/2000/svg\">\n",
       "      <circle cx=\"24\" cy=\"23\" fill=\"#FFF\" r=\"22\"/>\n",
       "      <path d=\"M33.76 34.26c2.75-2.56 4.49-6.37 4.49-11.26 0-.89-.08-1.84-.29-3H24.01v5.99h8.03c-.4 2.02-1.5 3.56-3.07 4.56v.75l3.91 2.97h.88z\" fill=\"#4285F4\"/>\n",
       "      <path d=\"M15.58 25.77A8.845 8.845 0 0 0 24 31.86c1.92 0 3.62-.46 4.97-1.31l4.79 3.71C31.14 36.7 27.65 38 24 38c-5.93 0-11.01-3.4-13.45-8.36l.17-1.01 4.06-2.85h.8z\" fill=\"#34A853\"/>\n",
       "      <path d=\"M15.59 20.21a8.864 8.864 0 0 0 0 5.58l-5.03 3.86c-.98-2-1.53-4.25-1.53-6.64 0-2.39.55-4.64 1.53-6.64l1-.22 3.81 2.98.22 1.08z\" fill=\"#FBBC05\"/>\n",
       "      <path d=\"M24 14.14c2.11 0 4.02.75 5.52 1.98l4.36-4.36C31.22 9.43 27.81 8 24 8c-5.93 0-11.01 3.4-13.45 8.36l5.03 3.85A8.86 8.86 0 0 1 24 14.14z\" fill=\"#EA4335\"/>\n",
       "    </svg>\n",
       "    <div class=\"gradient-container\"><div class=\"gradient\"></div></div>\n",
       "  </div>\n",
       "  <div class=\"carousel\">\n",
       "    <a class=\"chip\" href=\"https://vertexaisearch.cloud.google.com/grounding-api-redirect/AZnLMfxVUNeYD9nogVwDZy6w6UBPvSrYnlrjYMB5XOTCY4UJ2RChNfr84iqpzkl5Rvk6ZHzQLPwBBr4IIBduiyFTdCZXPjjK1uXuu8hhm-NoGWLYK-k0xljdh1UZXuqcDJ0Ybsnc8kLMs9q-fxRPpx5ihbVImPE_1_ubh0yIjhr9wOMcHGfNoPs2SHWZdIWQZC8lghlNc0QvEScxa20MmNBIu4yi3Hec\">what are the dimensions of a base</a>\n",
       "  </div>\n",
       "</div>\n",
       "\n",
       "### Grounding Chunks\n",
       "1. [dimensions.com](https://vertexaisearch.cloud.google.com/grounding-api-redirect/AZnLMfx3byHLb72knxQV1uBQnFR7X3mLKzQUXjZ3m3R_y2TWCTidbIbhcGh0Y65lgmsoBnsRrW0BvyN_kGOU5_SRUS42dLe2ARgD9YkSPsVhWSfd90T9d8P94RFsgT2cmAzW4vYwfQPRYEtRbeVRDQ==)\n",
       "2. [mlb.com](https://vertexaisearch.cloud.google.com/grounding-api-redirect/AZnLMfxYT_Swj0xd-KBMkjQGivYTOE7P3b6sWkYjfGwJjern6oivzHkjL8152ZLNc6deNkdAqL0bvRQu8KH6owgORv0J7EEUQfoovT_wmi-A2s_p5dLLTdFpgT7dG0NunkUKCtS-gGkL4Rlx)\n"
      ],
      "text/plain": [
       "<IPython.core.display.Markdown object>"
      ]
     },
     "metadata": {},
     "output_type": "display_data"
    }
   ],
   "source": [
    "tool = Tool.from_google_search_retrieval(grounding.GoogleSearchRetrieval())\n",
    "\n",
    "response = llm.generate_content(question, tools=[tool])\n",
    "\n",
    "print_grounding_response(response)"
   ]
  },
  {
   "cell_type": "code",
   "execution_count": 42,
   "id": "6c94e836-0ce2-417d-968a-cdd99fcb5166",
   "metadata": {
    "tags": []
   },
   "outputs": [
    {
     "data": {
      "text/plain": [
       "candidates {\n",
       "  content {\n",
       "    role: \"model\"\n",
       "    parts {\n",
       "      text: \"A baseball base is a square with dimensions of 15 inches by 15 inches (38.1 cm x 38.1 cm). This has recently changed as of September 2022, where the bases were increased to 18 inches square.  The height of a baseball base can vary from 3 to 5 inches (7.62-12.7 cm). \\n\"\n",
       "    }\n",
       "  }\n",
       "  avg_logprobs: -0.37520906294899425\n",
       "  finish_reason: STOP\n",
       "  safety_ratings {\n",
       "    category: HARM_CATEGORY_HATE_SPEECH\n",
       "    probability: NEGLIGIBLE\n",
       "    probability_score: 0.099609375\n",
       "    severity: HARM_SEVERITY_NEGLIGIBLE\n",
       "    severity_score: 0.114257812\n",
       "  }\n",
       "  safety_ratings {\n",
       "    category: HARM_CATEGORY_DANGEROUS_CONTENT\n",
       "    probability: NEGLIGIBLE\n",
       "    probability_score: 0.349609375\n",
       "    severity: HARM_SEVERITY_LOW\n",
       "    severity_score: 0.236328125\n",
       "  }\n",
       "  safety_ratings {\n",
       "    category: HARM_CATEGORY_HARASSMENT\n",
       "    probability: NEGLIGIBLE\n",
       "    probability_score: 0.129882812\n",
       "    severity: HARM_SEVERITY_NEGLIGIBLE\n",
       "    severity_score: 0.0727539062\n",
       "  }\n",
       "  safety_ratings {\n",
       "    category: HARM_CATEGORY_SEXUALLY_EXPLICIT\n",
       "    probability: NEGLIGIBLE\n",
       "    probability_score: 0.17578125\n",
       "    severity: HARM_SEVERITY_LOW\n",
       "    severity_score: 0.248046875\n",
       "  }\n",
       "  grounding_metadata {\n",
       "    web_search_queries: \"what are the dimensions of a base\"\n",
       "    search_entry_point {\n",
       "      rendered_content: \"<style>\\n.container {\\n  align-items: center;\\n  border-radius: 8px;\\n  display: flex;\\n  font-family: Google Sans, Roboto, sans-serif;\\n  font-size: 14px;\\n  line-height: 20px;\\n  padding: 8px 12px;\\n}\\n.chip {\\n  display: inline-block;\\n  border: solid 1px;\\n  border-radius: 16px;\\n  min-width: 14px;\\n  padding: 5px 16px;\\n  text-align: center;\\n  user-select: none;\\n  margin: 0 8px;\\n  -webkit-tap-highlight-color: transparent;\\n}\\n.carousel {\\n  overflow: auto;\\n  scrollbar-width: none;\\n  white-space: nowrap;\\n  margin-right: -12px;\\n}\\n.headline {\\n  display: flex;\\n  margin-right: 4px;\\n}\\n.gradient-container {\\n  position: relative;\\n}\\n.gradient {\\n  position: absolute;\\n  transform: translate(3px, -9px);\\n  height: 36px;\\n  width: 9px;\\n}\\n@media (prefers-color-scheme: light) {\\n  .container {\\n    background-color: #fafafa;\\n    box-shadow: 0 0 0 1px #0000000f;\\n  }\\n  .headline-label {\\n    color: #1f1f1f;\\n  }\\n  .chip {\\n    background-color: #ffffff;\\n    border-color: #d2d2d2;\\n    color: #5e5e5e;\\n    text-decoration: none;\\n  }\\n  .chip:hover {\\n    background-color: #f2f2f2;\\n  }\\n  .chip:focus {\\n    background-color: #f2f2f2;\\n  }\\n  .chip:active {\\n    background-color: #d8d8d8;\\n    border-color: #b6b6b6;\\n  }\\n  .logo-dark {\\n    display: none;\\n  }\\n  .gradient {\\n    background: linear-gradient(90deg, #fafafa 15%, #fafafa00 100%);\\n  }\\n}\\n@media (prefers-color-scheme: dark) {\\n  .container {\\n    background-color: #1f1f1f;\\n    box-shadow: 0 0 0 1px #ffffff26;\\n  }\\n  .headline-label {\\n    color: #fff;\\n  }\\n  .chip {\\n    background-color: #2c2c2c;\\n    border-color: #3c4043;\\n    color: #fff;\\n    text-decoration: none;\\n  }\\n  .chip:hover {\\n    background-color: #353536;\\n  }\\n  .chip:focus {\\n    background-color: #353536;\\n  }\\n  .chip:active {\\n    background-color: #464849;\\n    border-color: #53575b;\\n  }\\n  .logo-light {\\n    display: none;\\n  }\\n  .gradient {\\n    background: linear-gradient(90deg, #1f1f1f 15%, #1f1f1f00 100%);\\n  }\\n}\\n</style>\\n<div class=\\\"container\\\">\\n  <div class=\\\"headline\\\">\\n    <svg class=\\\"logo-light\\\" width=\\\"18\\\" height=\\\"18\\\" viewBox=\\\"9 9 35 35\\\" fill=\\\"none\\\" xmlns=\\\"http://www.w3.org/2000/svg\\\">\\n      <path fill-rule=\\\"evenodd\\\" clip-rule=\\\"evenodd\\\" d=\\\"M42.8622 27.0064C42.8622 25.7839 42.7525 24.6084 42.5487 23.4799H26.3109V30.1568H35.5897C35.1821 32.3041 33.9596 34.1222 32.1258 35.3448V39.6864H37.7213C40.9814 36.677 42.8622 32.2571 42.8622 27.0064V27.0064Z\\\" fill=\\\"#4285F4\\\"/>\\n      <path fill-rule=\\\"evenodd\\\" clip-rule=\\\"evenodd\\\" d=\\\"M26.3109 43.8555C30.9659 43.8555 34.8687 42.3195 37.7213 39.6863L32.1258 35.3447C30.5898 36.3792 28.6306 37.0061 26.3109 37.0061C21.8282 37.0061 18.0195 33.9811 16.6559 29.906H10.9194V34.3573C13.7563 39.9841 19.5712 43.8555 26.3109 43.8555V43.8555Z\\\" fill=\\\"#34A853\\\"/>\\n      <path fill-rule=\\\"evenodd\\\" clip-rule=\\\"evenodd\\\" d=\\\"M16.6559 29.8904C16.3111 28.8559 16.1074 27.7588 16.1074 26.6146C16.1074 25.4704 16.3111 24.3733 16.6559 23.3388V18.8875H10.9194C9.74388 21.2072 9.06992 23.8247 9.06992 26.6146C9.06992 29.4045 9.74388 32.022 10.9194 34.3417L15.3864 30.8621L16.6559 29.8904V29.8904Z\\\" fill=\\\"#FBBC05\\\"/>\\n      <path fill-rule=\\\"evenodd\\\" clip-rule=\\\"evenodd\\\" d=\\\"M26.3109 16.2386C28.85 16.2386 31.107 17.1164 32.9095 18.8091L37.8466 13.8719C34.853 11.082 30.9659 9.3736 26.3109 9.3736C19.5712 9.3736 13.7563 13.245 10.9194 18.8875L16.6559 23.3388C18.0195 19.2636 21.8282 16.2386 26.3109 16.2386V16.2386Z\\\" fill=\\\"#EA4335\\\"/>\\n    </svg>\\n    <svg class=\\\"logo-dark\\\" width=\\\"18\\\" height=\\\"18\\\" viewBox=\\\"0 0 48 48\\\" xmlns=\\\"http://www.w3.org/2000/svg\\\">\\n      <circle cx=\\\"24\\\" cy=\\\"23\\\" fill=\\\"#FFF\\\" r=\\\"22\\\"/>\\n      <path d=\\\"M33.76 34.26c2.75-2.56 4.49-6.37 4.49-11.26 0-.89-.08-1.84-.29-3H24.01v5.99h8.03c-.4 2.02-1.5 3.56-3.07 4.56v.75l3.91 2.97h.88z\\\" fill=\\\"#4285F4\\\"/>\\n      <path d=\\\"M15.58 25.77A8.845 8.845 0 0 0 24 31.86c1.92 0 3.62-.46 4.97-1.31l4.79 3.71C31.14 36.7 27.65 38 24 38c-5.93 0-11.01-3.4-13.45-8.36l.17-1.01 4.06-2.85h.8z\\\" fill=\\\"#34A853\\\"/>\\n      <path d=\\\"M15.59 20.21a8.864 8.864 0 0 0 0 5.58l-5.03 3.86c-.98-2-1.53-4.25-1.53-6.64 0-2.39.55-4.64 1.53-6.64l1-.22 3.81 2.98.22 1.08z\\\" fill=\\\"#FBBC05\\\"/>\\n      <path d=\\\"M24 14.14c2.11 0 4.02.75 5.52 1.98l4.36-4.36C31.22 9.43 27.81 8 24 8c-5.93 0-11.01 3.4-13.45 8.36l5.03 3.85A8.86 8.86 0 0 1 24 14.14z\\\" fill=\\\"#EA4335\\\"/>\\n    </svg>\\n    <div class=\\\"gradient-container\\\"><div class=\\\"gradient\\\"></div></div>\\n  </div>\\n  <div class=\\\"carousel\\\">\\n    <a class=\\\"chip\\\" href=\\\"https://vertexaisearch.cloud.google.com/grounding-api-redirect/AZnLMfxVUNeYD9nogVwDZy6w6UBPvSrYnlrjYMB5XOTCY4UJ2RChNfr84iqpzkl5Rvk6ZHzQLPwBBr4IIBduiyFTdCZXPjjK1uXuu8hhm-NoGWLYK-k0xljdh1UZXuqcDJ0Ybsnc8kLMs9q-fxRPpx5ihbVImPE_1_ubh0yIjhr9wOMcHGfNoPs2SHWZdIWQZC8lghlNc0QvEScxa20MmNBIu4yi3Hec\\\">what are the dimensions of a base</a>\\n  </div>\\n</div>\\n\"\n",
       "    }\n",
       "    grounding_chunks {\n",
       "      web {\n",
       "        uri: \"https://vertexaisearch.cloud.google.com/grounding-api-redirect/AZnLMfx3byHLb72knxQV1uBQnFR7X3mLKzQUXjZ3m3R_y2TWCTidbIbhcGh0Y65lgmsoBnsRrW0BvyN_kGOU5_SRUS42dLe2ARgD9YkSPsVhWSfd90T9d8P94RFsgT2cmAzW4vYwfQPRYEtRbeVRDQ==\"\n",
       "        title: \"dimensions.com\"\n",
       "      }\n",
       "    }\n",
       "    grounding_chunks {\n",
       "      web {\n",
       "        uri: \"https://vertexaisearch.cloud.google.com/grounding-api-redirect/AZnLMfxYT_Swj0xd-KBMkjQGivYTOE7P3b6sWkYjfGwJjern6oivzHkjL8152ZLNc6deNkdAqL0bvRQu8KH6owgORv0J7EEUQfoovT_wmi-A2s_p5dLLTdFpgT7dG0NunkUKCtS-gGkL4Rlx\"\n",
       "        title: \"mlb.com\"\n",
       "      }\n",
       "    }\n",
       "    grounding_supports {\n",
       "      segment {\n",
       "        end_index: 90\n",
       "        text: \"A baseball base is a square with dimensions of 15 inches by 15 inches (38.1 cm x 38.1 cm).\"\n",
       "      }\n",
       "      grounding_chunk_indices: 0\n",
       "      confidence_scores: 0.707844853\n",
       "    }\n",
       "    grounding_supports {\n",
       "      segment {\n",
       "        start_index: 91\n",
       "        end_index: 190\n",
       "        text: \"This has recently changed as of September 2022, where the bases were increased to 18 inches square.\"\n",
       "      }\n",
       "      grounding_chunk_indices: 1\n",
       "      confidence_scores: 0.809962094\n",
       "    }\n",
       "    grounding_supports {\n",
       "      segment {\n",
       "        start_index: 192\n",
       "        end_index: 265\n",
       "        text: \"The height of a baseball base can vary from 3 to 5 inches (7.62-12.7 cm).\"\n",
       "      }\n",
       "      grounding_chunk_indices: 0\n",
       "      confidence_scores: 0.95067811\n",
       "    }\n",
       "    retrieval_metadata {\n",
       "    }\n",
       "  }\n",
       "}\n",
       "model_version: \"gemini-1.5-flash-001\"\n",
       "usage_metadata {\n",
       "  prompt_token_count: 8\n",
       "  candidates_token_count: 87\n",
       "  total_token_count: 95\n",
       "}"
      ]
     },
     "execution_count": 42,
     "metadata": {},
     "output_type": "execute_result"
    }
   ],
   "source": [
    "response\n",
    "# response.to_dict()"
   ]
  }
 ],
 "metadata": {
  "environment": {
   "kernel": "conda-base-py",
   "name": "workbench-notebooks.m125",
   "type": "gcloud",
   "uri": "us-docker.pkg.dev/deeplearning-platform-release/gcr.io/workbench-notebooks:m125"
  },
  "kernelspec": {
   "display_name": "Python 3 (ipykernel) (Local)",
   "language": "python",
   "name": "conda-base-py"
  },
  "language_info": {
   "codemirror_mode": {
    "name": "ipython",
    "version": 3
   },
   "file_extension": ".py",
   "mimetype": "text/x-python",
   "name": "python",
   "nbconvert_exporter": "python",
   "pygments_lexer": "ipython3",
   "version": "3.10.15"
  }
 },
 "nbformat": 4,
 "nbformat_minor": 5
}
