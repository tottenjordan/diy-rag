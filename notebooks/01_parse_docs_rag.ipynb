{
 "cells": [
  {
   "cell_type": "markdown",
   "id": "9e5e5f2d-8c8f-4507-a4b1-d7b639378885",
   "metadata": {},
   "source": [
    "# DIY document processing for RAG system\n",
    "\n",
    "Docs used for this demonstration\n",
    "* The [official rules of baseball](https://img.mlbstatic.com/mlb-images/image/upload/mlb/wqn5ah4c3qtivwx3jatm.pdf)\n",
    "* Federal National Mortgage Association ([Fannie Mae](https://www.fanniemae.com/))\n",
    "* Federal Home Loan Mortgage Corporation ([Freddie Mac](https://www.freddiemac.com/))\n",
    "\n",
    "> use LangChain and Google Cloud + LangChain integrations to orchestrate RAG pipeline"
   ]
  },
  {
   "cell_type": "code",
   "execution_count": 2,
   "id": "e31a9e61-33cc-4e4c-9d36-d1f567e3b7be",
   "metadata": {
    "tags": []
   },
   "outputs": [
    {
     "name": "stdout",
     "output_type": "stream",
     "text": [
      "\u001b[01;34m.\u001b[00m\n",
      "├── README.md\n",
      "├── \u001b[01;34mnotebooks\u001b[00m\n",
      "│   ├── 01_ingest_rag.ipynb\n",
      "│   └── 02_grounded_rag.ipynb\n",
      "├── requirements.txt\n",
      "└── \u001b[01;34msrc\u001b[00m\n",
      "    ├── display_utils.py\n",
      "    ├── docai_utils.py\n",
      "    ├── gcs_loader.py\n",
      "    └── vvs_utils.py\n",
      "\n",
      "2 directories, 8 files\n"
     ]
    }
   ],
   "source": [
    "! cd .. && tree"
   ]
  },
  {
   "cell_type": "markdown",
   "id": "d60824d4-41e3-49e0-9eb6-b0a4b33f7cca",
   "metadata": {},
   "source": [
    "## pip & package"
   ]
  },
  {
   "cell_type": "code",
   "execution_count": 27,
   "id": "5392e14b-b7a9-4b99-98a2-789515643c35",
   "metadata": {
    "tags": []
   },
   "outputs": [],
   "source": [
    "# tuples of (import name, install name, min_version)\n",
    "# packages = [\n",
    "#     ('google.cloud.documentai', 'google-cloud-documentai', '2.31.0'),\n",
    "#     ('google.cloud.storage', 'google-cloud-storage'),\n",
    "#     ('fitz', 'pymupdf'),\n",
    "#     ('PIL', 'Pillow')\n",
    "# ]\n",
    "\n",
    "# import importlib\n",
    "# install = False\n",
    "# for package in packages:\n",
    "#     if not importlib.util.find_spec(package[0]):\n",
    "#         print(f'installing package {package[1]}')\n",
    "#         install = True\n",
    "#         !pip install {package[1]} -U -q --user\n",
    "#     elif len(package) == 3:\n",
    "#         if importlib.metadata.version(package[0]) < package[2]:\n",
    "#             print(f'updating package {package[1]}')\n",
    "#             install = True\n",
    "#             !pip install {package[1]} -U -q --user"
   ]
  },
  {
   "cell_type": "markdown",
   "id": "712ac600-1071-4ef1-a90d-5ba111e50992",
   "metadata": {},
   "source": [
    "## imports"
   ]
  },
  {
   "cell_type": "code",
   "execution_count": 140,
   "id": "c4d1d170-8af9-44a1-9c93-2565f1230ad2",
   "metadata": {
    "tags": []
   },
   "outputs": [
    {
     "name": "stdout",
     "output_type": "stream",
     "text": [
      "Vertex AI SDK version = 1.71.0\n",
      "Document AI API version = 2.35.0\n",
      "Discovery Engine API version = 0.11.14\n"
     ]
    }
   ],
   "source": [
    "import vertexai\n",
    "from google.cloud import storage\n",
    "from google.cloud import documentai\n",
    "from google.cloud import aiplatform\n",
    "from google.cloud import discoveryengine\n",
    "from typing import TYPE_CHECKING, Iterator, List, Optional, Sequence\n",
    "\n",
    "import os\n",
    "import re\n",
    "import IPython.display\n",
    "import io\n",
    "import json\n",
    "import base64\n",
    "import requests\n",
    "import concurrent.futures\n",
    "import asyncio\n",
    "import fitz #pymupdf\n",
    "import PIL.Image\n",
    "\n",
    "print(f\"Vertex AI SDK version = {vertexai.__version__}\")\n",
    "print(f\"Document AI API version = {documentai.__version__}\")\n",
    "print(f\"Discovery Engine API version = {discoveryengine.__version__}\")\n",
    "\n",
    "# this repo\n",
    "import sys\n",
    "sys.path.append(\"..\")\n",
    "from src import display_utils, docai_utils, gcs_loader, vvs_utils"
   ]
  },
  {
   "cell_type": "markdown",
   "id": "311dabd2-f853-4c32-bed2-97aa7fea8fd1",
   "metadata": {},
   "source": [
    "## config"
   ]
  },
  {
   "cell_type": "code",
   "execution_count": 4,
   "id": "e037b45c-f1ed-4eba-82a5-9d2775acfbc4",
   "metadata": {
    "tags": []
   },
   "outputs": [],
   "source": [
    "PREFIX=\"mortgage-ball\""
   ]
  },
  {
   "cell_type": "code",
   "execution_count": 51,
   "id": "aa6e7c0b-b358-41d7-a2cf-7e052ef96b2b",
   "metadata": {
    "tags": []
   },
   "outputs": [
    {
     "name": "stdout",
     "output_type": "stream",
     "text": [
      "Vertex AI SDK initialized.\n",
      "GCS_BUCKET_URI         : gs://mortgage-ball-bucket\n",
      "VS_INDEX_NAME          : mortgage-ball-v1-index\n",
      "DOCAI_PROCESSOR_NAME   : mortgage-ball-v1\n",
      "VS_INDEX_ENDPOINT_NAME : mortgage-ball-v1-index-endpoint\n"
     ]
    }
   ],
   "source": [
    "PROJECT_ID = \"hybrid-vertex\"\n",
    "REGION = \"us-central1\"\n",
    "LOCATION = REGION.split('-')[0]\n",
    "GCS_BUCKET_URI = f\"gs://{PREFIX}-bucket\"\n",
    "\n",
    "vertexai.init(project=PROJECT_ID, location=REGION)\n",
    "print(f\"Vertex AI SDK initialized.\")\n",
    "\n",
    "# Cloud storage buckets\n",
    "GCS_OUTPUT_PATH = f\"{GCS_BUCKET_URI}\"  # DocAI Layout Parser Output Path\n",
    "GCS_BUCKET_NAME = GCS_BUCKET_URI.replace(\"gs://\", \"\")\n",
    "\n",
    "# Vertex AI Vector Search\n",
    "VS_INDEX_NAME = f\"{PREFIX}-v1-index\"  # @param {type:\"string\"}\n",
    "VS_INDEX_ENDPOINT_NAME = f\"{VS_INDEX_NAME}-endpoint\"  # @param {type:\"string\"}\n",
    "VS_CONTENTS_DELTA_URI = f\"{GCS_BUCKET_URI}/index/embeddings\"\n",
    "VS_DIMENSIONS = 768\n",
    "VS_APPROX_NEIGHBORS = 150\n",
    "VS_INDEX_UPDATE_METHOD = \"STREAM_UPDATE\"\n",
    "VS_INDEX_SHARD_SIZE = \"SHARD_SIZE_SMALL\"\n",
    "VS_LEAF_NODE_EMB_COUNT = 500\n",
    "VS_LEAF_SEARCH_PERCENT = 80\n",
    "VS_DISTANCE_MEASURE_TYPE = \"DOT_PRODUCT_DISTANCE\"\n",
    "VS_MACHINE_TYPE = \"e2-standard-16\"\n",
    "VS_MIN_REPLICAS = 1\n",
    "VS_MAX_REPLICAS = 1\n",
    "VS_DESCRIPTION = \"Index for DIY RAG with Vertex AI APIs\"  # @param {type:\"string\"}\n",
    "\n",
    "# Models\n",
    "EMBEDDINGS_MODEL_NAME = \"text-embedding-004\"\n",
    "LLM_MODEL_NAME = \"gemini-1.5-pro\"\n",
    "\n",
    "# DocumentAI Processor\n",
    "DOCAI_LOCATION = \"us\"  # @param [\"us\", \"eu\"]\n",
    "DOCAI_PROCESSOR_NAME = f\"{PREFIX}-v1\"  # @param {type:\"string\"}\n",
    "\n",
    "print(f\"GCS_BUCKET_URI         : {GCS_BUCKET_URI}\")\n",
    "print(f\"VS_INDEX_NAME          : {VS_INDEX_NAME}\")\n",
    "print(f\"DOCAI_PROCESSOR_NAME   : {DOCAI_PROCESSOR_NAME}\")\n",
    "print(f\"VS_INDEX_ENDPOINT_NAME : {VS_INDEX_ENDPOINT_NAME}\")"
   ]
  },
  {
   "cell_type": "markdown",
   "id": "418f55c9-0875-4437-bfd5-eb527d274dc1",
   "metadata": {},
   "source": [
    "### Enable / Disable flags"
   ]
  },
  {
   "cell_type": "code",
   "execution_count": 6,
   "id": "4ebb21f9-9316-4793-9fd6-ff7e385fec07",
   "metadata": {
    "tags": []
   },
   "outputs": [],
   "source": [
    "# Enable/disable flags\n",
    "# flag to create Google Cloud resources configured above\n",
    "# refer to the notes before this cell\n",
    "CREATE_RESOURCES = True  # @param {type:\"boolean\"}\n",
    "# flag to run data ingestion\n",
    "RUN_INGESTION = True  # @param {type:\"boolean\"}"
   ]
  },
  {
   "cell_type": "markdown",
   "id": "7b7ae971-0a0c-4143-a96e-fa61f4b8006a",
   "metadata": {},
   "source": [
    "### helper functions"
   ]
  },
  {
   "cell_type": "code",
   "execution_count": 7,
   "id": "a92d8e2e-d8fe-4bc7-bf3c-68fabf5bd14f",
   "metadata": {
    "tags": []
   },
   "outputs": [],
   "source": [
    "# @title Utility methods for adding index to Vertex AI Vector Search\n",
    "def get_batches(items: List, n: int = 1000) -> List[List]:\n",
    "    n = max(1, n)\n",
    "    return [items[i : i + n] for i in range(0, len(items), n)]\n",
    "\n",
    "\n",
    "def add_data(vector_store, chunks) -> None:\n",
    "    if RUN_INGESTION:\n",
    "        batch_size = 1000\n",
    "        texts = get_batches([chunk.page_content for chunk in chunks], n=batch_size)\n",
    "        metadatas = get_batches([chunk.metadata for chunk in chunks], n=batch_size)\n",
    "\n",
    "        for i, (b_texts, b_metadatas) in enumerate(zip(texts, metadatas)):\n",
    "            print(f\"Adding {len(b_texts)} data points to index\")\n",
    "            is_complete_overwrite = bool(i == 0)\n",
    "            vector_store.add_texts(\n",
    "                texts=b_texts,\n",
    "                metadatas=b_metadatas,\n",
    "                is_complete_overwrite=is_complete_overwrite,\n",
    "            )\n",
    "    else:\n",
    "        print(\"Skipping ingestion. Enable `RUN_INGESTION` flag\")"
   ]
  },
  {
   "cell_type": "markdown",
   "id": "cd8cab66-b535-4032-8fee-2638a4ff99ef",
   "metadata": {
    "tags": [],
    "toc-hr-collapsed": true
   },
   "source": [
    "# Create or initialize resources"
   ]
  },
  {
   "cell_type": "markdown",
   "id": "f45924fe-3b45-4423-9b47-8641ab4feca1",
   "metadata": {},
   "source": [
    "## create Cloud Storage bucket"
   ]
  },
  {
   "cell_type": "code",
   "execution_count": 8,
   "id": "3aff599a-d7df-496d-bc77-74fb1710632d",
   "metadata": {
    "tags": []
   },
   "outputs": [
    {
     "name": "stdout",
     "output_type": "stream",
     "text": [
      "Creating new resources.\n",
      "Bucket mortgage-ball-bucket created\n"
     ]
    }
   ],
   "source": [
    "if CREATE_RESOURCES:\n",
    "    print(\"Creating new resources.\")\n",
    "else:\n",
    "    print(\"Resource creation is skipped.\")\n",
    "\n",
    "bucket = vvs_utils.create_bucket(\n",
    "    bucket_name = GCS_BUCKET_NAME, \n",
    "    create_resources=CREATE_RESOURCES\n",
    ")"
   ]
  },
  {
   "cell_type": "markdown",
   "id": "393b1b7c-9fb5-49a8-b50a-c7108bceda39",
   "metadata": {},
   "source": [
    "## Vector Search index"
   ]
  },
  {
   "cell_type": "code",
   "execution_count": 10,
   "id": "bd150ed6-381c-48ce-88da-3e0fcd146a79",
   "metadata": {
    "tags": []
   },
   "outputs": [
    {
     "name": "stdout",
     "output_type": "stream",
     "text": [
      "Creating Vector Search index mortgage-ball-v1-index ...\n",
      "Creating MatchingEngineIndex\n",
      "Create MatchingEngineIndex backing LRO: projects/934903580331/locations/us-central1/indexes/1202439110275366912/operations/5957923279472689152\n",
      "MatchingEngineIndex created. Resource name: projects/934903580331/locations/us-central1/indexes/1202439110275366912\n",
      "To use this MatchingEngineIndex in another session:\n",
      "index = aiplatform.MatchingEngineIndex('projects/934903580331/locations/us-central1/indexes/1202439110275366912')\n",
      "Vector Search index mortgage-ball-v1-index created with resource name projects/934903580331/locations/us-central1/indexes/1202439110275366912\n"
     ]
    },
    {
     "data": {
      "text/plain": [
       "{'name': 'projects/934903580331/locations/us-central1/indexes/1202439110275366912',\n",
       " 'displayName': 'mortgage-ball-v1-index',\n",
       " 'description': 'Index for DIY RAG with Vertex AI APIs',\n",
       " 'metadataSchemaUri': 'gs://google-cloud-aiplatform/schema/matchingengine/metadata/nearest_neighbor_search_1.0.0.yaml',\n",
       " 'metadata': {'config': {'dimensions': 768.0,\n",
       "   'approximateNeighborsCount': 150.0,\n",
       "   'distanceMeasureType': 'DOT_PRODUCT_DISTANCE',\n",
       "   'algorithmConfig': {'treeAhConfig': {'leafNodeEmbeddingCount': '500',\n",
       "     'leafNodesToSearchPercent': 80.0}},\n",
       "   'shardSize': 'SHARD_SIZE_SMALL'}},\n",
       " 'etag': 'AMEw9yOgBDmZoBM_GiUSJcfGw8iveOjvVS_lm8t8t1UE1Wp-7SS3iUi0D_XqBo080Oc=',\n",
       " 'createTime': '2024-11-06T05:03:23.500281Z',\n",
       " 'updateTime': '2024-11-06T05:03:50.196807Z',\n",
       " 'indexStats': {'shardsCount': 1},\n",
       " 'indexUpdateMethod': 'STREAM_UPDATE',\n",
       " 'encryptionSpec': {}}"
      ]
     },
     "execution_count": 10,
     "metadata": {},
     "output_type": "execute_result"
    }
   ],
   "source": [
    "# Create vector search index if not exists else return index resource name\n",
    "vs_index = vvs_utils.create_index(\n",
    "    project_id=PROJECT_ID,\n",
    "    region=REGION,\n",
    "    sync_job=True,\n",
    "    create_resources=CREATE_RESOURCES, # bool, \n",
    "    vs_index_name=VS_INDEX_NAME, # str,\n",
    "    vs_dimensions=VS_DIMENSIONS, # int,\n",
    "    vs_approx_neghbors=VS_APPROX_NEIGHBORS, # int,\n",
    "    distance_measure_type=VS_DISTANCE_MEASURE_TYPE, # str,\n",
    "    vs_leaf_node_emb_count=VS_LEAF_NODE_EMB_COUNT, # int,\n",
    "    vs_leaf_search_percent=VS_LEAF_SEARCH_PERCENT, # int,\n",
    "    vs_description=VS_DESCRIPTION, # str,\n",
    "    vs_index_shard_size=VS_INDEX_SHARD_SIZE, # str,\n",
    "    vs_index_update_method=VS_INDEX_UPDATE_METHOD, # str,\n",
    ")\n",
    "vs_index.to_dict()"
   ]
  },
  {
   "cell_type": "markdown",
   "id": "83e8db77-1ca2-437d-9a13-0cc83234e145",
   "metadata": {},
   "source": [
    "## Vector Search index endpoint"
   ]
  },
  {
   "cell_type": "code",
   "execution_count": 15,
   "id": "447ac01e-1064-44a4-871c-072b84bc8c99",
   "metadata": {
    "tags": []
   },
   "outputs": [
    {
     "name": "stdout",
     "output_type": "stream",
     "text": [
      "Creating Vector Search index endpoint mortgage-ball-v1-index-endpoint ...\n",
      "Creating MatchingEngineIndexEndpoint\n",
      "Create MatchingEngineIndexEndpoint backing LRO: projects/934903580331/locations/us-central1/indexEndpoints/3307168248629297152/operations/216678179505438720\n",
      "MatchingEngineIndexEndpoint created. Resource name: projects/934903580331/locations/us-central1/indexEndpoints/3307168248629297152\n",
      "To use this MatchingEngineIndexEndpoint in another session:\n",
      "index_endpoint = aiplatform.MatchingEngineIndexEndpoint('projects/934903580331/locations/us-central1/indexEndpoints/3307168248629297152')\n",
      "Vector Search index endpoint mortgage-ball-v1-index-endpoint created with resource name projects/934903580331/locations/us-central1/indexEndpoints/3307168248629297152\n"
     ]
    }
   ],
   "source": [
    "# Create vector search index endpoint if not exists else return index endpoint resource name\n",
    "vs_endpoint = vvs_utils.create_index_endpoint(\n",
    "    project_id=PROJECT_ID,\n",
    "    region=REGION,\n",
    "    sync_job=True,\n",
    "    vs_description=VS_DESCRIPTION,\n",
    "    create_resources=CREATE_RESOURCES,\n",
    "    vs_index_endpoint_name=VS_INDEX_ENDPOINT_NAME,\n",
    ")"
   ]
  },
  {
   "cell_type": "code",
   "execution_count": 17,
   "id": "41c30963-6655-48a4-a9e3-d9ae344458ba",
   "metadata": {
    "tags": []
   },
   "outputs": [
    {
     "data": {
      "text/plain": [
       "{'name': 'projects/934903580331/locations/us-central1/indexEndpoints/3307168248629297152',\n",
       " 'displayName': 'mortgage-ball-v1-index-endpoint',\n",
       " 'description': 'Index for DIY RAG with Vertex AI APIs',\n",
       " 'deployedIndexes': [{'id': 'mortgage_ball_v1_index_c56d551518b5',\n",
       "   'index': 'projects/934903580331/locations/us-central1/indexes/1202439110275366912',\n",
       "   'displayName': 'mortgage-ball-v1-index',\n",
       "   'createTime': '2024-11-06T05:06:52.996253Z',\n",
       "   'indexSyncTime': '2024-11-06T05:32:33.342806Z',\n",
       "   'deploymentGroup': 'default',\n",
       "   'dedicatedResources': {'machineSpec': {'machineType': 'e2-standard-16'},\n",
       "    'minReplicaCount': 1,\n",
       "    'maxReplicaCount': 1}}],\n",
       " 'etag': 'AMEw9yMe3E90G_fUJVjbuYYT5LJl3JBwKzaQ7E4q-ArY2R-R2tcgNXqosIeW0epOPLvg',\n",
       " 'createTime': '2024-11-06T05:05:59.137518Z',\n",
       " 'updateTime': '2024-11-06T05:05:59.715595Z',\n",
       " 'publicEndpointDomainName': '1694631553.us-central1-934903580331.vdb.vertexai.goog',\n",
       " 'encryptionSpec': {}}"
      ]
     },
     "execution_count": 17,
     "metadata": {},
     "output_type": "execute_result"
    }
   ],
   "source": [
    "vs_endpoint.to_dict()"
   ]
  },
  {
   "cell_type": "markdown",
   "id": "18103c4c-168e-4ad2-a669-3fe5b8d71f3c",
   "metadata": {},
   "source": [
    "## Deploy Vector Search index to endpoint"
   ]
  },
  {
   "cell_type": "code",
   "execution_count": 16,
   "id": "5d0add80-7824-4ff3-8840-ecad5c23ee58",
   "metadata": {
    "tags": []
   },
   "outputs": [
    {
     "name": "stdout",
     "output_type": "stream",
     "text": [
      "Deploying Vector Search index mortgage-ball-v1-index at endpoint mortgage-ball-v1-index-endpoint ...\n",
      "Deploying index MatchingEngineIndexEndpoint index_endpoint: projects/934903580331/locations/us-central1/indexEndpoints/3307168248629297152\n",
      "Deploy index MatchingEngineIndexEndpoint index_endpoint backing LRO: projects/934903580331/locations/us-central1/indexEndpoints/3307168248629297152/operations/7187405977744834560\n",
      "MatchingEngineIndexEndpoint index_endpoint Deployed index. Resource name: projects/934903580331/locations/us-central1/indexEndpoints/3307168248629297152\n",
      "Vector Search index mortgage-ball-v1-index is deployed at endpoint mortgage-ball-v1-index-endpoint\n"
     ]
    },
    {
     "data": {
      "text/plain": [
       "<google.cloud.aiplatform.matching_engine.matching_engine_index_endpoint.MatchingEngineIndexEndpoint object at 0x7fb651089fc0> \n",
       "resource name: projects/934903580331/locations/us-central1/indexEndpoints/3307168248629297152"
      ]
     },
     "execution_count": 16,
     "metadata": {},
     "output_type": "execute_result"
    }
   ],
   "source": [
    "# Deploy index to the index endpoint\n",
    "vvs_utils.deploy_index(\n",
    "    index=vs_index, \n",
    "    endpoint=vs_endpoint,\n",
    "    create_resources=CREATE_RESOURCES,\n",
    "    vs_index_name=VS_INDEX_NAME,\n",
    "    vs_machine_type=VS_MACHINE_TYPE,\n",
    "    vs_min_replicas=VS_MIN_REPLICAS,\n",
    "    vs_max_replicas=VS_MAX_REPLICAS,\n",
    ")"
   ]
  },
  {
   "cell_type": "markdown",
   "id": "36e2f8ce-7077-4561-adb5-eac204ced18f",
   "metadata": {},
   "source": [
    "### Inspect VVS"
   ]
  },
  {
   "cell_type": "code",
   "execution_count": 138,
   "id": "4c27133d-b690-4afa-92d0-8b5f8f9b49c9",
   "metadata": {
    "tags": []
   },
   "outputs": [
    {
     "data": {
      "text/plain": [
       "{'name': 'projects/934903580331/locations/us-central1/indexes/1202439110275366912',\n",
       " 'displayName': 'mortgage-ball-v1-index',\n",
       " 'description': 'Index for DIY RAG with Vertex AI APIs',\n",
       " 'metadataSchemaUri': 'gs://google-cloud-aiplatform/schema/matchingengine/metadata/nearest_neighbor_search_1.0.0.yaml',\n",
       " 'metadata': {'config': {'dimensions': 768.0,\n",
       "   'approximateNeighborsCount': 150.0,\n",
       "   'distanceMeasureType': 'DOT_PRODUCT_DISTANCE',\n",
       "   'algorithmConfig': {'treeAhConfig': {'leafNodeEmbeddingCount': '500',\n",
       "     'leafNodesToSearchPercent': 80.0}},\n",
       "   'shardSize': 'SHARD_SIZE_SMALL'}},\n",
       " 'etag': 'AMEw9yOgBDmZoBM_GiUSJcfGw8iveOjvVS_lm8t8t1UE1Wp-7SS3iUi0D_XqBo080Oc=',\n",
       " 'createTime': '2024-11-06T05:03:23.500281Z',\n",
       " 'updateTime': '2024-11-06T05:03:50.196807Z',\n",
       " 'indexStats': {'shardsCount': 1},\n",
       " 'indexUpdateMethod': 'STREAM_UPDATE',\n",
       " 'encryptionSpec': {}}"
      ]
     },
     "execution_count": 138,
     "metadata": {},
     "output_type": "execute_result"
    }
   ],
   "source": [
    "vs_index.to_dict() #['indexStats']"
   ]
  },
  {
   "cell_type": "markdown",
   "id": "eb9ee766-1ab8-41b6-a1f3-d19a5c75e36a",
   "metadata": {},
   "source": [
    "## Create DocAI Layout processor"
   ]
  },
  {
   "cell_type": "code",
   "execution_count": 22,
   "id": "6fd15170-e88c-4ac1-9dfa-975d49447b84",
   "metadata": {
    "tags": []
   },
   "outputs": [
    {
     "name": "stdout",
     "output_type": "stream",
     "text": [
      "Creating Document AI processor mortgage-ball-v1 of type LAYOUT_PARSER_PROCESSOR ...\n",
      "Document AI processor mortgage-ball-v1 of type LAYOUT_PARSER_PROCESSOR is created.\n",
      "PROCESSOR_NAME: projects/934903580331/locations/us/processors/215ad0e7fce70f3e\n"
     ]
    }
   ],
   "source": [
    "# Create Document Layout Processor\n",
    "docai_processor = vvs_utils.create_docai_processor(\n",
    "    project_id=PROJECT_ID,\n",
    "    region=REGION, # str,\n",
    "    create_resources=CREATE_RESOURCES,\n",
    "    docai_location=DOCAI_LOCATION,\n",
    "    processor_display_name=DOCAI_PROCESSOR_NAME,\n",
    "    processor_type=\"LAYOUT_PARSER_PROCESSOR\",\n",
    "    processor_version=\"pretrained-layout-parser-v1.0-2024-06-03\"\n",
    ")\n",
    "PROCESSOR_NAME = docai_processor.name  # DocAI Layout Parser Processor Name\n",
    "\n",
    "print(f\"PROCESSOR_NAME: {PROCESSOR_NAME}\")"
   ]
  },
  {
   "cell_type": "code",
   "execution_count": 52,
   "id": "7ec2a005-54f4-4e3b-98bc-5f29df5064c8",
   "metadata": {
    "tags": []
   },
   "outputs": [],
   "source": [
    "# # document AI client\n",
    "docai_client = documentai.DocumentProcessorServiceClient(\n",
    "    client_options = dict(api_endpoint = f\"{LOCATION}-documentai.googleapis.com\")\n",
    ")\n",
    "docai_async_client = documentai.DocumentProcessorServiceAsyncClient(\n",
    "    client_options = dict(api_endpoint = f\"{LOCATION}-documentai.googleapis.com\")\n",
    ")"
   ]
  },
  {
   "cell_type": "markdown",
   "id": "a00d7b65-6ab7-420a-8cf5-3b1f8226eb59",
   "metadata": {},
   "source": [
    "# Content processing and annotation - chunking\n",
    "\n",
    "> *This steps reads documents from Cloud Storage bucket, parses them using Document AI layout processor, and extracts chunks from the parsed document. Later these chunks will be generate emebeddings using Vertex AI Embeddings API and add them to the Vertex AI Vector Search index.*\n",
    "\n",
    "**steps**\n",
    "* ingest documents from Cloud Storage bucket to [Vertex AI Vector Search](https://cloud.google.com/vertex-ai/docs/vector-search/overview) (VVS)\n",
    "* use DocAI to parse documents and convert raw text to chunks\n",
    "\n",
    "\n",
    "see [here](https://cloud.google.com/generative-ai-app-builder/docs/prepare-data#storage-unstructured) are some sample public datasets available in GCS for usage."
   ]
  },
  {
   "cell_type": "markdown",
   "id": "daf2fc70-e128-4e92-ab23-07ba88abb279",
   "metadata": {},
   "source": [
    "## Step 1. Process Documents\n",
    "\n",
    "see guides here:\n",
    "* [Large Document Parsing](https://github.com/statmike/vertex-ai-mlops/blob/main/Applied%20GenAI/Chunking/Large%20Document%20Processing%20-%20Document%20AI%20Layout%20Parser.ipynb) - for mortgage pdfs\n",
    "* [Process Documents with DocAI Layout Parser](https://github.com/statmike/vertex-ai-mlops/blob/main/Applied%20GenAI/Chunking/Process%20Documents%20-%20Document%20AI%20Layout%20Parser.ipynb)"
   ]
  },
  {
   "cell_type": "markdown",
   "id": "81811bea-be6f-47dd-8f66-ea12addd7f87",
   "metadata": {},
   "source": [
    "### 1.1 Load MLB rules\n",
    "\n",
    "> see [example](https://github.com/statmike/vertex-ai-mlops/blob/main/Applied%20GenAI/Chunking/Process%20Documents%20-%20Document%20AI%20Layout%20Parser.ipynb)"
   ]
  },
  {
   "cell_type": "code",
   "execution_count": 43,
   "id": "8b25756e-da7e-4a5b-afe8-7ae1942b179e",
   "metadata": {
    "tags": []
   },
   "outputs": [
    {
     "name": "stdout",
     "output_type": "stream",
     "text": [
      "EXPERIMENT    = mlb\n",
      "SERIES        = diyrag-v1\n",
      "REGION        = us-central1\n",
      "LOCATION      = us\n",
      "bucket        = <Bucket: mortgage-ball-bucket>\n",
      "mlb_rules_pdf = https://img.mlbstatic.com/mlb-images/image/upload/mlb/wqn5ah4c3qtivwx3jatm.pdf\n"
     ]
    }
   ],
   "source": [
    "EXPERIMENT=\"mlb\"\n",
    "SERIES = 'diyrag-v1'\n",
    "REGION = 'us-central1'\n",
    "LOCATION = REGION.split('-')[0]\n",
    "mlb_rules_pdf = \"https://img.mlbstatic.com/mlb-images/image/upload/mlb/wqn5ah4c3qtivwx3jatm.pdf\"\n",
    "\n",
    "# gcs client: assumes bucket already exists\n",
    "gcs = storage.Client(project = PROJECT_ID)\n",
    "bucket = gcs.bucket(GCS_BUCKET_NAME)\n",
    "\n",
    "print(f\"EXPERIMENT    = {EXPERIMENT}\")\n",
    "print(f\"SERIES        = {SERIES}\")\n",
    "print(f\"REGION        = {REGION}\")\n",
    "print(f\"PREFIX        = {PREFIX}\")\n",
    "print(f\"LOCATION      = {LOCATION}\")\n",
    "print(f\"bucket        = {bucket}\")\n",
    "print(f\"mlb_rules_pdf = {mlb_rules_pdf}\")"
   ]
  },
  {
   "cell_type": "code",
   "execution_count": 44,
   "id": "f204fe96-9ccf-4ff0-bace-edd2b62a30dd",
   "metadata": {
    "tags": []
   },
   "outputs": [
    {
     "data": {
      "text/plain": [
       "192"
      ]
     },
     "execution_count": 44,
     "metadata": {},
     "output_type": "execute_result"
    }
   ],
   "source": [
    "response = requests.get(mlb_rules_pdf).content\n",
    "document = fitz.open(stream = response, filetype = \"pdf\")\n",
    "\n",
    "document.page_count"
   ]
  },
  {
   "cell_type": "markdown",
   "id": "d756745a-9869-4b33-b9f3-43500d7fd818",
   "metadata": {},
   "source": [
    "#### Get Text From Pages"
   ]
  },
  {
   "cell_type": "code",
   "execution_count": 30,
   "id": "9cdead6a-281d-45ca-908e-79464f22ae75",
   "metadata": {
    "tags": []
   },
   "outputs": [
    {
     "data": {
      "image/jpeg": "[encoded data removed]",
      "image/png": "[encoded data removed]",
      "text/plain": [
       "<PIL.Image.Image image mode=RGB size=396x612>"
      ]
     },
     "execution_count": 30,
     "metadata": {},
     "output_type": "execute_result"
    }
   ],
   "source": [
    "# view pages\n",
    "\n",
    "def get_image(page):\n",
    "    pix = page.get_pixmap()\n",
    "    image = PIL.Image.frombytes(\"RGB\", [pix.width, pix.height], pix.samples)\n",
    "    return image\n",
    "page_images = [get_image(page) for page in document]\n",
    "    \n",
    "page_images[0]"
   ]
  },
  {
   "cell_type": "code",
   "execution_count": 31,
   "id": "28df7c12-07ef-48d9-9bf4-457c80649661",
   "metadata": {
    "tags": []
   },
   "outputs": [
    {
     "data": {
      "text/plain": [
       "'OFFICIAL BASEBALL RULES\\n2023 Edition\\n'"
      ]
     },
     "execution_count": 31,
     "metadata": {},
     "output_type": "execute_result"
    }
   ],
   "source": [
    "pages = [page.get_text() for page in document]\n",
    "pages[0]"
   ]
  },
  {
   "cell_type": "code",
   "execution_count": 144,
   "id": "8ee9d06c-4d75-4b7f-90eb-e0eacbadc1c1",
   "metadata": {
    "tags": []
   },
   "outputs": [
    {
     "data": {
      "image/jpeg": "[encoded data removed]",
      "image/png": "[encoded data removed]",
      "text/plain": [
       "<PIL.Image.Image image mode=RGB size=396x612>"
      ]
     },
     "execution_count": 144,
     "metadata": {},
     "output_type": "execute_result"
    }
   ],
   "source": [
    "page_images[20]"
   ]
  },
  {
   "cell_type": "code",
   "execution_count": 145,
   "id": "52277947-66b3-4439-8647-da08bab893dd",
   "metadata": {
    "tags": []
   },
   "outputs": [
    {
     "data": {
      "text/plain": [
       "'9\\n Rule 3.06 to 3.08(e)\\nmore than 5¾ inches deep, and shall be 3½ inches wide at its bottom. \\nThe opening of the crotch shall not be more than 4½ inches at any \\npoint below its top. The webbing shall be secured at each side, and at \\ntop and bottom of crotch. The attachment is to be made with leather \\nlacing, these connections to be secured. If they stretch or become \\nloose, they shall be adjusted to their proper condition. The glove can \\nbe of any weight. See Appendix 4 for diagram of glove dimensions.\\n3.07\\u2002 Pitcher’s Glove\\n(a)\\u2002 \\x07The pitcher’s glove may not, exclusive of piping, be white, \\ngray, nor, in the judgment of an umpire, distracting in any \\nmanner. No fielder, regardless of position, may use a fielding \\nglove that falls within a PANTONE® color set lighter than the \\ncurrent 14-series.\\n(b)\\u2002 \\x07No pitcher shall attach to his glove any foreign material of a \\ncolor different from the glove.\\n(c)\\u2002 \\x07The umpire-in-chief shall cause a glove that violates Rules \\n3.07(a) or (b) to be removed from the game, either on his own \\ninitiative, at the recommendation of another umpire or upon \\ncomplaint of the opposing manager that the umpire-in-chief \\nagrees has merit.\\n3.08\\u2002 Helmets\\nA Professional League shall adopt the following rule pertaining to \\nthe use of helmets:\\n(a)\\u2002 \\x07All players shall use some type of protective helmet while at bat \\nand while running the bases.\\n(b)\\u2002 \\x07All players in the Minor Leagues shall wear a double ear-flap \\nhelmet while at bat.\\n(c)\\u2002 \\x07All Major League players must wear a single ear-flap helmet (or \\nat the player’s option, a double ear-flap helmet).\\n(d)\\u2002 \\x07All catchers shall wear a catcher’s protective helmet and face \\nmask while receiving a pitch.\\n(e)\\u2002 \\x07All base coaches shall wear a protective helmet while performing \\ntheir duties.\\n'"
      ]
     },
     "execution_count": 145,
     "metadata": {},
     "output_type": "execute_result"
    }
   ],
   "source": [
    "pages[20]"
   ]
  },
  {
   "cell_type": "markdown",
   "id": "205ca5ae-614d-4f90-8ca2-2fa9593b3c24",
   "metadata": {},
   "source": [
    "#### Create small PDF with first 5 pages"
   ]
  },
  {
   "cell_type": "code",
   "execution_count": 32,
   "id": "87e0df13-3348-47fa-81d5-278e9f2b1401",
   "metadata": {
    "tags": []
   },
   "outputs": [
    {
     "data": {
      "text/plain": [
       "5"
      ]
     },
     "execution_count": 32,
     "metadata": {},
     "output_type": "execute_result"
    }
   ],
   "source": [
    "small_document = fitz.open()\n",
    "small_document.insert_pdf(document, from_page=0, to_page=4)\n",
    "small_document.page_count"
   ]
  },
  {
   "cell_type": "markdown",
   "id": "4a919469-345f-4529-b24d-58f81d9fb991",
   "metadata": {},
   "source": [
    "**Documents As Byte Strings**"
   ]
  },
  {
   "cell_type": "code",
   "execution_count": 33,
   "id": "785118dd-dba2-4c9b-a2da-10a3704d2db7",
   "metadata": {
    "tags": []
   },
   "outputs": [],
   "source": [
    "buffer = io.BytesIO()\n",
    "document.save(buffer)\n",
    "document_bytes = base64.b64encode(buffer.getvalue()).decode('utf-8')\n",
    "\n",
    "buffer = io.BytesIO()\n",
    "small_document.save(buffer)\n",
    "small_document_bytes = base64.b64encode(buffer.getvalue()).decode('utf-8')"
   ]
  },
  {
   "cell_type": "markdown",
   "id": "a3cc23bb-7543-4534-bf03-5062f4d7f2dc",
   "metadata": {},
   "source": [
    "**Documents as local files**"
   ]
  },
  {
   "cell_type": "code",
   "execution_count": 36,
   "id": "e8d53b80-0729-492c-bc13-8f44da203604",
   "metadata": {
    "tags": []
   },
   "outputs": [],
   "source": [
    "LOCAL_DIR = f\"files/{EXPERIMENT}\"\n",
    "\n",
    "if not os.path.exists(LOCAL_DIR):\n",
    "    os.makedirs(LOCAL_DIR)"
   ]
  },
  {
   "cell_type": "code",
   "execution_count": 38,
   "id": "d43123fb-39d4-461a-b7f3-0c1e6e7424f6",
   "metadata": {
    "tags": []
   },
   "outputs": [
    {
     "data": {
      "text/plain": [
       "['small_document.pdf', 'document.pdf']"
      ]
     },
     "execution_count": 38,
     "metadata": {},
     "output_type": "execute_result"
    }
   ],
   "source": [
    "document.save(f\"{LOCAL_DIR}/document.pdf\")\n",
    "small_document.save(f\"{LOCAL_DIR}/small_document.pdf\")\n",
    "\n",
    "os.listdir(LOCAL_DIR)"
   ]
  },
  {
   "cell_type": "markdown",
   "id": "19319677-e0ea-4625-8e2c-d74cb62f62bd",
   "metadata": {},
   "source": [
    "#### Upload documents to GCS objects"
   ]
  },
  {
   "cell_type": "code",
   "execution_count": 49,
   "id": "a21e2c32-5c26-4339-aa65-6b4d2e208b22",
   "metadata": {
    "tags": []
   },
   "outputs": [
    {
     "data": {
      "text/plain": [
       "[<Blob: mortgage-ball-bucket, mortgage-ball/mlb/files/document.pdf, 1730872602822592>,\n",
       " <Blob: mortgage-ball-bucket, mortgage-ball/mlb/files/small_document.pdf, 1730872602958306>]"
      ]
     },
     "execution_count": 49,
     "metadata": {},
     "output_type": "execute_result"
    }
   ],
   "source": [
    "blob = bucket.blob(f'{PREFIX}/{EXPERIMENT}/files/document.pdf')\n",
    "blob.upload_from_string(base64.b64decode(document_bytes), content_type = 'application/pdf')\n",
    "\n",
    "blob = bucket.blob(f'{PREFIX}/{EXPERIMENT}/files/small_document.pdf')\n",
    "blob.upload_from_string(base64.b64decode(small_document_bytes), content_type = 'application/pdf')\n",
    "\n",
    "list(bucket.list_blobs(prefix = f'{PREFIX}/{EXPERIMENT}/files'))"
   ]
  },
  {
   "cell_type": "markdown",
   "id": "bccfd55d-bd95-4c99-b008-b9e73ab44184",
   "metadata": {},
   "source": [
    "#### Online processing..."
   ]
  },
  {
   "cell_type": "markdown",
   "id": "d3075830-0640-4e5a-8b3f-5fea4d0d2e9c",
   "metadata": {
    "jp-MarkdownHeadingCollapsed": true,
    "tags": []
   },
   "source": [
    "##### Inline Document"
   ]
  },
  {
   "cell_type": "markdown",
   "id": "2b886724-db28-4fa1-b6f3-a77c00439ef2",
   "metadata": {},
   "source": [
    "References:\n",
    "* [documentai.ProcessRequest()](https://cloud.google.com/python/docs/reference/documentai/latest/google.cloud.documentai_v1.types.ProcessRequest)\n",
    "* inline_document = [documentai.Document()](https://cloud.google.com/python/docs/reference/documentai/latest/google.cloud.documentai_v1.types.Document)\n",
    "* process_options = [documentai.ProcessOptions()](https://cloud.google.com/python/docs/reference/documentai/latest/google.cloud.documentai_v1.types.ProcessOptions)\n",
    "* layout_config = [documentai.ProcessOptions.LayoutConfig()](https://cloud.google.com/python/docs/reference/documentai/latest/google.cloud.documentai_v1.types.ProcessOptions.LayoutConfig)"
   ]
  },
  {
   "cell_type": "code",
   "execution_count": null,
   "id": "a2ec761d-42d7-42c1-bde4-737925cb5d42",
   "metadata": {},
   "outputs": [],
   "source": [
    "PARSER_DISPLAY_NAME = 'my_layout_processor'\n",
    "PARSER_TYPE = 'LAYOUT_PARSER_PROCESSOR'\n",
    "PARSER_VERSION = 'pretrained-layout-parser-v1.0-2024-06-03'\n",
    "\n",
    "# for p in docai_client.list_processors(parent = f'projects/{PROJECT_ID}/locations/{LOCATION}'):\n",
    "#     if p.display_name == PARSER_DISPLAY_NAME:\n",
    "#         parser = p\n",
    "# try:\n",
    "#     print('Retrieved existing parser: ', parser.name)\n",
    "# except Exception:\n",
    "#     parser = docai_client.create_processor(\n",
    "#         parent = f'projects/{PROJECT_ID}/locations/{LOCATION}',\n",
    "#         processor = dict(display_name = PARSER_DISPLAY_NAME, type_ = PARSER_TYPE, default_processor_version = PARSER_VERSION)\n",
    "#     )\n",
    "#     print('Created New Parser: ', parser.name)"
   ]
  },
  {
   "cell_type": "code",
   "execution_count": 54,
   "id": "9eabc60e-56c7-4f16-8008-91e7b403c3b2",
   "metadata": {
    "tags": []
   },
   "outputs": [],
   "source": [
    "# docai_processor\n",
    "online_inline_response = docai_client.process_document(\n",
    "    request = documentai.ProcessRequest(\n",
    "        name = docai_processor.name,\n",
    "        inline_document = documentai.Document(\n",
    "            content = small_document_bytes,\n",
    "            mime_type = 'application/pdf'\n",
    "        ),\n",
    "        process_options = documentai.ProcessOptions(\n",
    "            from_start = 5,\n",
    "            layout_config = documentai.ProcessOptions.LayoutConfig(\n",
    "                chunking_config = documentai.ProcessOptions.LayoutConfig.ChunkingConfig(\n",
    "                    chunk_size = 100,\n",
    "                    include_ancestor_headings = True,\n",
    "                )\n",
    "            )\n",
    "        ),\n",
    "    )\n",
    ")"
   ]
  },
  {
   "cell_type": "markdown",
   "id": "b3cc6cd8-81d9-45f4-89bb-a90151caf9cd",
   "metadata": {},
   "source": [
    "**Review response for:**`document_layout.blocks` & `chunked_document.chunks`"
   ]
  },
  {
   "cell_type": "code",
   "execution_count": 57,
   "id": "54bf3270-5437-4f3f-9c55-deb698a29f61",
   "metadata": {
    "tags": []
   },
   "outputs": [],
   "source": [
    "# online_inline_response.document.document_layout.blocks[0].text_block.text"
   ]
  },
  {
   "cell_type": "code",
   "execution_count": 58,
   "id": "49323dee-e335-48ce-9263-c9bc415b7e52",
   "metadata": {
    "tags": []
   },
   "outputs": [],
   "source": [
    "# len(online_inline_response.document.chunked_document.chunks)"
   ]
  },
  {
   "cell_type": "code",
   "execution_count": 59,
   "id": "b1511d99-1599-434f-9c5d-8d20191d120a",
   "metadata": {
    "tags": []
   },
   "outputs": [],
   "source": [
    "# online_inline_response.document.chunked_document.chunks[0]"
   ]
  },
  {
   "cell_type": "markdown",
   "id": "f01a3b24-7dcf-40a3-bd4d-de84829303f3",
   "metadata": {
    "jp-MarkdownHeadingCollapsed": true,
    "tags": []
   },
   "source": [
    "##### Raw Document"
   ]
  },
  {
   "cell_type": "code",
   "execution_count": 60,
   "id": "dafe66eb-5187-4db2-aa19-fa89e6ccc4fa",
   "metadata": {
    "tags": []
   },
   "outputs": [],
   "source": [
    "online_raw_response = docai_client.process_document(\n",
    "    request = documentai.ProcessRequest(\n",
    "        name = docai_processor.name,\n",
    "        raw_document = documentai.RawDocument(\n",
    "            content = small_document_bytes,\n",
    "            mime_type = 'application/pdf'\n",
    "        ),\n",
    "        process_options = documentai.ProcessOptions(\n",
    "            from_start = 5,\n",
    "            layout_config = documentai.ProcessOptions.LayoutConfig(\n",
    "                chunking_config = documentai.ProcessOptions.LayoutConfig.ChunkingConfig(\n",
    "                    chunk_size = 100,\n",
    "                    include_ancestor_headings = True,\n",
    "                )\n",
    "            )\n",
    "        )\n",
    "    )\n",
    ")"
   ]
  },
  {
   "cell_type": "markdown",
   "id": "4d655dd6-6c8e-4548-809b-bac76d1d48b0",
   "metadata": {},
   "source": [
    "**Review response for:**`document_layout.blocks` & `chunked_document.chunks`"
   ]
  },
  {
   "cell_type": "code",
   "execution_count": 61,
   "id": "809ec2ae-42a5-4d45-a90d-d833db336ef2",
   "metadata": {
    "tags": []
   },
   "outputs": [],
   "source": [
    "# online_raw_response.document.document_layout.blocks[0].text_block.text"
   ]
  },
  {
   "cell_type": "code",
   "execution_count": 62,
   "id": "040b79fd-c097-4e8b-8810-98be0dce8366",
   "metadata": {
    "tags": []
   },
   "outputs": [],
   "source": [
    "# len(online_raw_response.document.chunked_document.chunks)"
   ]
  },
  {
   "cell_type": "code",
   "execution_count": 63,
   "id": "a1c3edbc-d322-4d9e-ba1f-f93ee151c74d",
   "metadata": {
    "tags": []
   },
   "outputs": [],
   "source": [
    "# online_raw_response.document.chunked_document.chunks[0]"
   ]
  },
  {
   "cell_type": "markdown",
   "id": "f8d3aba1-2f9e-4874-b60a-5945cbb424e5",
   "metadata": {
    "jp-MarkdownHeadingCollapsed": true,
    "tags": []
   },
   "source": [
    "##### GCS Document"
   ]
  },
  {
   "cell_type": "code",
   "execution_count": 65,
   "id": "fcc8b457-78cf-4949-8a65-7f4b32b3afcf",
   "metadata": {
    "tags": []
   },
   "outputs": [],
   "source": [
    "online_gcs_response = docai_client.process_document(\n",
    "    request = documentai.ProcessRequest(\n",
    "        name = docai_processor.name,\n",
    "        gcs_document = documentai.GcsDocument(\n",
    "            gcs_uri = f'gs://{bucket.name}/{PREFIX}/{EXPERIMENT}/files/small_document.pdf',\n",
    "            mime_type = 'application/pdf'\n",
    "        ),\n",
    "        process_options = documentai.ProcessOptions(\n",
    "            from_start = 5,\n",
    "            layout_config = documentai.ProcessOptions.LayoutConfig(\n",
    "                chunking_config = documentai.ProcessOptions.LayoutConfig.ChunkingConfig(\n",
    "                    chunk_size = 100,\n",
    "                    include_ancestor_headings = True,\n",
    "                )\n",
    "            )\n",
    "        )\n",
    "    )\n",
    ")\n",
    "# gs://mortgage-ball-bucket/mortgage-ball/mlb/files/small_document.pdf\n",
    "# gs://mortgage-ball-bucket/mlb/files/small_document.pdf"
   ]
  },
  {
   "cell_type": "markdown",
   "id": "5161a1e9-598c-40a9-9527-53e511a494b7",
   "metadata": {},
   "source": [
    "**Review response for:**`document_layout.blocks` & `chunked_document.chunks`"
   ]
  },
  {
   "cell_type": "code",
   "execution_count": 66,
   "id": "bf814dc2-94ac-48f5-85df-896c602201a8",
   "metadata": {
    "tags": []
   },
   "outputs": [],
   "source": [
    "# online_gcs_response.document.document_layout.blocks[0].text_block.text"
   ]
  },
  {
   "cell_type": "code",
   "execution_count": 67,
   "id": "5880ddc9-731d-45cb-81de-4845f3fd4b09",
   "metadata": {
    "tags": []
   },
   "outputs": [],
   "source": [
    "# len(online_gcs_response.document.chunked_document.chunks)"
   ]
  },
  {
   "cell_type": "code",
   "execution_count": 68,
   "id": "72216276-4f49-4ebb-a99d-d24eb91ca7c6",
   "metadata": {
    "tags": []
   },
   "outputs": [],
   "source": [
    "# online_gcs_response.document.chunked_document.chunks[0]"
   ]
  },
  {
   "cell_type": "markdown",
   "id": "ee95cb87-56a2-4c0f-8471-5474096603c5",
   "metadata": {
    "tags": []
   },
   "source": [
    "#### Batch Processing: Multiple Documents and/or Larger Documents"
   ]
  },
  {
   "cell_type": "code",
   "execution_count": 69,
   "id": "14a7c0f6-f3f3-4938-8892-25947fed7d40",
   "metadata": {
    "tags": []
   },
   "outputs": [
    {
     "name": "stdout",
     "output_type": "stream",
     "text": [
      "Waiting on batch job to complete: projects/934903580331/locations/us/operations/16614205516256981526\n",
      "State.SUCCEEDED\n"
     ]
    }
   ],
   "source": [
    "batch_job = docai_client.batch_process_documents(\n",
    "    request = documentai.BatchProcessRequest(\n",
    "        name = docai_processor.name,\n",
    "        input_documents = documentai.BatchDocumentsInputConfig(\n",
    "            gcs_prefix = documentai.GcsPrefix(\n",
    "                gcs_uri_prefix = f'gs://{bucket.name}/{PREFIX}/{EXPERIMENT}/files/'\n",
    "            )\n",
    "        ),\n",
    "        document_output_config = documentai.DocumentOutputConfig(\n",
    "            gcs_output_config = documentai.DocumentOutputConfig.GcsOutputConfig(\n",
    "                gcs_uri = f'gs://{bucket.name}/{PREFIX}/{EXPERIMENT}/parsing'\n",
    "            )\n",
    "        ),\n",
    "        process_options = documentai.ProcessOptions(\n",
    "            layout_config = documentai.ProcessOptions.LayoutConfig(\n",
    "                chunking_config = documentai.ProcessOptions.LayoutConfig.ChunkingConfig(\n",
    "                    chunk_size = 100,\n",
    "                    include_ancestor_headings = True,\n",
    "                )\n",
    "            )\n",
    "        )\n",
    "    )\n",
    ")\n",
    "\n",
    "print(f'Waiting on batch job to complete: {batch_job.operation.name}')\n",
    "batch_job.result()\n",
    "\n",
    "print(documentai.BatchProcessMetadata(batch_job.metadata).state)"
   ]
  },
  {
   "cell_type": "code",
   "execution_count": 70,
   "id": "799af467-35a0-4dde-af7b-21f08a0c23f8",
   "metadata": {
    "tags": []
   },
   "outputs": [
    {
     "data": {
      "text/plain": [
       "2"
      ]
     },
     "execution_count": 70,
     "metadata": {},
     "output_type": "execute_result"
    }
   ],
   "source": [
    "# Retrieve Document Parsing Results\n",
    "\n",
    "batch_responses = []\n",
    "\n",
    "for process in documentai.BatchProcessMetadata(batch_job.metadata).individual_process_statuses:\n",
    "    matches = re.match(r\"gs://(.*?)/(.*)\", process.output_gcs_destination)\n",
    "    output_bucket, output_prefix = matches.groups()\n",
    "    output_blobs = bucket.list_blobs(prefix = output_prefix)\n",
    "    for blob in output_blobs:\n",
    "        response = documentai.Document.from_json(blob.download_as_bytes(), ignore_unknown_fields = True)\n",
    "        batch_responses.append((blob.name.split('/')[-1], response))\n",
    "        \n",
    "        \n",
    "len(batch_responses)"
   ]
  },
  {
   "cell_type": "code",
   "execution_count": 71,
   "id": "28e627fe-6a08-4b83-a184-85fd2c73207b",
   "metadata": {
    "tags": []
   },
   "outputs": [],
   "source": [
    "# batch_responses[0][0], batch_responses[1][0]"
   ]
  },
  {
   "cell_type": "code",
   "execution_count": 72,
   "id": "35c5a4df-932b-4b54-b8f4-42ec1084b30a",
   "metadata": {
    "tags": []
   },
   "outputs": [],
   "source": [
    "# batch_responses[0][1].chunked_document.chunks[0]"
   ]
  },
  {
   "cell_type": "code",
   "execution_count": 73,
   "id": "39027dac-fda7-4f77-b2a3-b15ec1670acd",
   "metadata": {
    "tags": []
   },
   "outputs": [],
   "source": [
    "# batch_responses[1][1].chunked_document.chunks[0]"
   ]
  },
  {
   "cell_type": "markdown",
   "id": "75a230e8-cb5c-40cf-8b09-42c41261eaee",
   "metadata": {},
   "source": [
    "#### Online Async Processing: \n",
    "\n",
    "> Multiple Parallel Requests For Different Pages"
   ]
  },
  {
   "cell_type": "markdown",
   "id": "b7c6b0fa-0f21-44d6-9eca-4de190d81854",
   "metadata": {},
   "source": [
    "**Determine The Number of Document Segments**\n",
    "\n",
    "A single request for online processing can handle 15 pages. Determine the number of 15 page segments with a little math:\n",
    "\n",
    "* how many full 15 page segments: document.page_count // 15\n",
    "* is there a partial segment at the end?: 1 * min(1, document.page_count % 15)\n",
    "* add these together"
   ]
  },
  {
   "cell_type": "code",
   "execution_count": 74,
   "id": "9e2fa030-e560-47d2-adad-672638be306d",
   "metadata": {
    "tags": []
   },
   "outputs": [
    {
     "data": {
      "text/plain": [
       "192"
      ]
     },
     "execution_count": 74,
     "metadata": {},
     "output_type": "execute_result"
    }
   ],
   "source": [
    "document.page_count"
   ]
  },
  {
   "cell_type": "code",
   "execution_count": 75,
   "id": "de200387-a310-4758-9974-88c600d35569",
   "metadata": {
    "tags": []
   },
   "outputs": [
    {
     "data": {
      "text/plain": [
       "13"
      ]
     },
     "execution_count": 75,
     "metadata": {},
     "output_type": "execute_result"
    }
   ],
   "source": [
    "num_segments = document.page_count // 15 + 1 * min(1, document.page_count % 15)\n",
    "num_segments"
   ]
  },
  {
   "cell_type": "code",
   "execution_count": 76,
   "id": "f5160808-7a97-48f0-ad55-128eee485fb3",
   "metadata": {
    "tags": []
   },
   "outputs": [
    {
     "name": "stdout",
     "output_type": "stream",
     "text": [
      "Number of segments:  13 \n",
      "Pages in first segment:  [1, 2, 3, 4, 5, 6, 7, 8, 9, 10, 11, 12, 13, 14, 15] \n",
      "Pages in last segment:  [181, 182, 183, 184, 185, 186, 187, 188, 189, 190, 191, 192]\n"
     ]
    }
   ],
   "source": [
    "page_segments = []\n",
    "\n",
    "for segment in range(num_segments):\n",
    "    page_segments.append(\n",
    "        [i+1 for i in range(15*segment, min(document.page_count, 15*(segment + 1)))]\n",
    "    )\n",
    "\n",
    "print(\n",
    "    'Number of segments: ', len(page_segments),\n",
    "    '\\nPages in first segment: ', page_segments[0],\n",
    "    '\\nPages in last segment: ', page_segments[-1]\n",
    ")"
   ]
  },
  {
   "cell_type": "markdown",
   "id": "c10a5d9d-0013-40a1-861b-a254ba9cb702",
   "metadata": {},
   "source": [
    "##### Async Requests For Each Segment:"
   ]
  },
  {
   "cell_type": "code",
   "execution_count": 78,
   "id": "6bfde8f5-f5f2-4715-ac16-aea32861eccd",
   "metadata": {
    "tags": []
   },
   "outputs": [],
   "source": [
    "online_async_responses = await asyncio.gather(\n",
    "    *[\n",
    "        docai_async_client.process_document(\n",
    "            request = documentai.ProcessRequest(\n",
    "                name = docai_processor.name,\n",
    "                inline_document = documentai.Document(\n",
    "                    content = document_bytes,\n",
    "                    mime_type = 'application/pdf'\n",
    "                ),\n",
    "                process_options = documentai.ProcessOptions(\n",
    "                    individual_page_selector = documentai.ProcessOptions.IndividualPageSelector(\n",
    "                        pages = segment\n",
    "                    ),\n",
    "                    layout_config = documentai.ProcessOptions.LayoutConfig(\n",
    "                        chunking_config = documentai.ProcessOptions.LayoutConfig.ChunkingConfig(\n",
    "                            chunk_size = 100,\n",
    "                            include_ancestor_headings = True,\n",
    "                        )\n",
    "                    )\n",
    "                ),\n",
    "            )\n",
    "        ) for segment in page_segments\n",
    "    ]\n",
    ")"
   ]
  },
  {
   "cell_type": "markdown",
   "id": "4c081170-87da-4a68-b04b-f6acf10c2ccf",
   "metadata": {},
   "source": [
    "How many chunks were created for each segment?\n",
    "\n",
    "> note: (to confirm) It appears the full document is being processe rather than the page range even though it exceed the 15 page max"
   ]
  },
  {
   "cell_type": "code",
   "execution_count": 79,
   "id": "ac42dfd3-1b3a-4a33-bc6b-d45a14328c87",
   "metadata": {
    "collapsed": true,
    "jupyter": {
     "outputs_hidden": true
    },
    "tags": []
   },
   "outputs": [
    {
     "name": "stdout",
     "output_type": "stream",
     "text": [
      "866\n",
      "866\n",
      "866\n",
      "866\n",
      "866\n",
      "866\n",
      "866\n",
      "866\n",
      "866\n",
      "866\n",
      "866\n",
      "866\n",
      "866\n"
     ]
    }
   ],
   "source": [
    "for response in online_async_responses:\n",
    "    print(len(response.document.chunked_document.chunks))"
   ]
  },
  {
   "cell_type": "markdown",
   "id": "8205386c-cf70-4612-89ac-305786d627f2",
   "metadata": {},
   "source": [
    "##### Examine A Chunk"
   ]
  },
  {
   "cell_type": "code",
   "execution_count": 81,
   "id": "82521c44-e6e9-4ae2-a9a8-f7ec67c40bfa",
   "metadata": {
    "tags": []
   },
   "outputs": [
    {
     "data": {
      "text/plain": [
       "'document-0.json'"
      ]
     },
     "execution_count": 81,
     "metadata": {},
     "output_type": "execute_result"
    }
   ],
   "source": [
    "batch_responses[0][0]"
   ]
  },
  {
   "cell_type": "code",
   "execution_count": 82,
   "id": "6c2998f0-2004-4a31-99f7-97db45a3e7a7",
   "metadata": {
    "tags": []
   },
   "outputs": [
    {
     "data": {
      "text/plain": [
       "google.cloud.documentai_v1.types.document.Document"
      ]
     },
     "execution_count": 82,
     "metadata": {},
     "output_type": "execute_result"
    }
   ],
   "source": [
    "response = batch_responses[0][1]\n",
    "type(response)"
   ]
  },
  {
   "cell_type": "code",
   "execution_count": 83,
   "id": "e1e40792-a75a-49e5-a3b8-baf54d24f5e0",
   "metadata": {
    "tags": []
   },
   "outputs": [
    {
     "data": {
      "text/plain": [
       "chunk_id: \"c2\"\n",
       "content: \"# OFFICIAL BASEBALL RULES\\n\\n## Official Baseball Rules 2023 Edition\\n\\n### JOINT COMPETITION COMMITTEE\\n\\n|-|-|-|\\n| Bill DeWitt | Whit Merrifield | Austin Slater |\\n| Jack Flaherty | Bill Miller | John Stanton, Chair |\\n| Tyler Glasnow | Dick Monfort | Tom Werner |\\n| Greg Johnson | Mark Shapiro |  |\\n\\nCommittee Secretary Paul V. Mifsud, Jr. Copyright © 2023 by the Office of the Commissioner of Baseball\"\n",
       "page_span {\n",
       "  page_start: 2\n",
       "  page_end: 3\n",
       "}"
      ]
     },
     "execution_count": 83,
     "metadata": {},
     "output_type": "execute_result"
    }
   ],
   "source": [
    "response.chunked_document.chunks[1]"
   ]
  },
  {
   "cell_type": "code",
   "execution_count": 84,
   "id": "abd4dbfe-23d9-4e43-8395-ce1c8a1221c7",
   "metadata": {
    "tags": []
   },
   "outputs": [
    {
     "data": {
      "text/plain": [
       "'c2'"
      ]
     },
     "execution_count": 84,
     "metadata": {},
     "output_type": "execute_result"
    }
   ],
   "source": [
    "response.chunked_document.chunks[1].chunk_id"
   ]
  },
  {
   "cell_type": "code",
   "execution_count": 85,
   "id": "b5ba6cc4-5778-4a28-901e-ee56ffb26935",
   "metadata": {
    "tags": []
   },
   "outputs": [
    {
     "data": {
      "text/plain": [
       "'# OFFICIAL BASEBALL RULES\\n\\n## Official Baseball Rules 2023 Edition\\n\\n### JOINT COMPETITION COMMITTEE\\n\\n|-|-|-|\\n| Bill DeWitt | Whit Merrifield | Austin Slater |\\n| Jack Flaherty | Bill Miller | John Stanton, Chair |\\n| Tyler Glasnow | Dick Monfort | Tom Werner |\\n| Greg Johnson | Mark Shapiro |  |\\n\\nCommittee Secretary Paul V. Mifsud, Jr. Copyright © 2023 by the Office of the Commissioner of Baseball'"
      ]
     },
     "execution_count": 85,
     "metadata": {},
     "output_type": "execute_result"
    }
   ],
   "source": [
    "response.chunked_document.chunks[1].content"
   ]
  },
  {
   "cell_type": "code",
   "execution_count": 86,
   "id": "c87074b3-7d1e-4d51-aa54-08867f12eb4a",
   "metadata": {
    "tags": []
   },
   "outputs": [
    {
     "name": "stdout",
     "output_type": "stream",
     "text": [
      "# OFFICIAL BASEBALL RULES\n",
      "\n",
      "## Official Baseball Rules 2023 Edition\n",
      "\n",
      "### JOINT COMPETITION COMMITTEE\n",
      "\n",
      "|-|-|-|\n",
      "| Bill DeWitt | Whit Merrifield | Austin Slater |\n",
      "| Jack Flaherty | Bill Miller | John Stanton, Chair |\n",
      "| Tyler Glasnow | Dick Monfort | Tom Werner |\n",
      "| Greg Johnson | Mark Shapiro |  |\n",
      "\n",
      "Committee Secretary Paul V. Mifsud, Jr. Copyright © 2023 by the Office of the Commissioner of Baseball\n"
     ]
    }
   ],
   "source": [
    "print(response.chunked_document.chunks[1].content)"
   ]
  },
  {
   "cell_type": "code",
   "execution_count": 87,
   "id": "c98d1175-8420-48fa-bbf2-a20ba0b36ece",
   "metadata": {
    "tags": []
   },
   "outputs": [
    {
     "data": {
      "image/jpeg": "[encoded data removed]",
      "image/png": "[encoded data removed]",
      "text/plain": [
       "<PIL.Image.Image image mode=RGB size=792x612>"
      ]
     },
     "execution_count": 87,
     "metadata": {},
     "output_type": "execute_result"
    }
   ],
   "source": [
    "show = PIL.Image.new('RGB', (page_images[0].size[0]+page_images[1].size[0], page_images[0].size[1]))\n",
    "show.paste(page_images[0], (0,0))\n",
    "show.paste(page_images[1], (page_images[0].size[0], 0))\n",
    "show"
   ]
  },
  {
   "cell_type": "markdown",
   "id": "dc414406-a049-441e-a42d-d70377cfc15f",
   "metadata": {},
   "source": [
    "#### Process and Store Chunks\n",
    "\n",
    "* convert chunks to a Python dictionary\n",
    "* store the chunks in a JSONL file in this repository"
   ]
  },
  {
   "cell_type": "code",
   "execution_count": 88,
   "id": "b6f22c48-0e49-4fb8-89da-1bae21a90407",
   "metadata": {
    "tags": []
   },
   "outputs": [
    {
     "data": {
      "text/plain": [
       "dict"
      ]
     },
     "execution_count": 88,
     "metadata": {},
     "output_type": "execute_result"
    }
   ],
   "source": [
    "chunks = documentai.Document.to_dict(response, use_integers_for_enums = False)['chunked_document']['chunks']\n",
    "\n",
    "type(chunks[0])"
   ]
  },
  {
   "cell_type": "code",
   "execution_count": 89,
   "id": "5cb66b24-f8c0-46dd-a4f4-9f9b24afab01",
   "metadata": {
    "tags": []
   },
   "outputs": [
    {
     "data": {
      "text/plain": [
       "{'chunk_id': 'c1',\n",
       " 'content': '# OFFICIAL BASEBALL RULES\\n\\n2023 Edition TM TM',\n",
       " 'page_span': {'page_start': 1, 'page_end': 7},\n",
       " 'page_footers': [{'text': 'V1',\n",
       "   'page_span': {'page_start': 6, 'page_end': 6}},\n",
       "  {'text': 'vii', 'page_span': {'page_start': 7, 'page_end': 7}}],\n",
       " 'source_block_ids': [],\n",
       " 'page_headers': []}"
      ]
     },
     "execution_count": 89,
     "metadata": {},
     "output_type": "execute_result"
    }
   ],
   "source": [
    "chunks[0]"
   ]
  },
  {
   "cell_type": "code",
   "execution_count": 90,
   "id": "13dcb100-2a02-42a2-aeef-8f62b17a5144",
   "metadata": {
    "tags": []
   },
   "outputs": [
    {
     "data": {
      "text/plain": [
       "866"
      ]
     },
     "execution_count": 90,
     "metadata": {},
     "output_type": "execute_result"
    }
   ],
   "source": [
    "len(chunks)"
   ]
  },
  {
   "cell_type": "markdown",
   "id": "433a136d-a416-4caf-af41-78f7fa1181b8",
   "metadata": {},
   "source": [
    "Create A local file of JSONL from the list of chunk dictionaries:"
   ]
  },
  {
   "cell_type": "code",
   "execution_count": 91,
   "id": "7bda8c82-e550-4a87-a97c-40569268baaa",
   "metadata": {
    "tags": []
   },
   "outputs": [],
   "source": [
    "with open(f'{LOCAL_DIR}/document-chunks.jsonl', 'w') as f:\n",
    "    for chunk in chunks:\n",
    "        f.write(json.dumps(chunk)+ '\\n')"
   ]
  },
  {
   "cell_type": "code",
   "execution_count": 93,
   "id": "1bad6757-278e-4036-908f-1a16e6b509d3",
   "metadata": {
    "tags": []
   },
   "outputs": [
    {
     "data": {
      "text/plain": [
       "['document-chunks.jsonl', 'small_document.pdf', 'document.pdf']"
      ]
     },
     "execution_count": 93,
     "metadata": {},
     "output_type": "execute_result"
    }
   ],
   "source": [
    "os.listdir(LOCAL_DIR)"
   ]
  },
  {
   "cell_type": "markdown",
   "id": "a12b1fbc-3a13-48ff-94fb-41aa9d105cb5",
   "metadata": {},
   "source": [
    "#### Review The Document.DocumentLayout Parts"
   ]
  },
  {
   "cell_type": "code",
   "execution_count": 125,
   "id": "f223a97c-7551-45e5-ad08-611a368d9335",
   "metadata": {
    "tags": []
   },
   "outputs": [
    {
     "data": {
      "text/plain": [
       "'1'"
      ]
     },
     "execution_count": 125,
     "metadata": {},
     "output_type": "execute_result"
    }
   ],
   "source": [
    "#response.document_layout.blocks[0]\n",
    "response.document_layout.blocks[0].block_id"
   ]
  },
  {
   "cell_type": "code",
   "execution_count": 126,
   "id": "0e2072d4-0d51-415b-bbaf-b0505b5eb1f9",
   "metadata": {
    "tags": []
   },
   "outputs": [
    {
     "data": {
      "text/plain": [
       "page_start: 1\n",
       "page_end: 1"
      ]
     },
     "execution_count": 126,
     "metadata": {},
     "output_type": "execute_result"
    }
   ],
   "source": [
    "response.document_layout.blocks[0].page_span"
   ]
  },
  {
   "cell_type": "code",
   "execution_count": 127,
   "id": "08591fa6-56e6-4c01-9e30-cc426338083c",
   "metadata": {
    "tags": []
   },
   "outputs": [
    {
     "data": {
      "text/plain": [
       "'(b) How to obtain a short sale property value and minimum net proceeds'"
      ]
     },
     "execution_count": 127,
     "metadata": {},
     "output_type": "execute_result"
    }
   ],
   "source": [
    "response.document_layout.blocks[0].text_block.text"
   ]
  },
  {
   "cell_type": "code",
   "execution_count": 128,
   "id": "32e750f6-adf0-4dc1-89d9-a09bce2cbe58",
   "metadata": {
    "tags": []
   },
   "outputs": [
    {
     "data": {
      "text/plain": [
       "'heading-1'"
      ]
     },
     "execution_count": 128,
     "metadata": {},
     "output_type": "execute_result"
    }
   ],
   "source": [
    "response.document_layout.blocks[0].text_block.type_"
   ]
  },
  {
   "cell_type": "code",
   "execution_count": 129,
   "id": "baa62ec8-9764-46b7-b24f-87094278460b",
   "metadata": {
    "tags": []
   },
   "outputs": [],
   "source": [
    "# examine blocks\n",
    "blocks = documentai.Document.to_dict(response, use_integers_for_enums = False)['document_layout']['blocks']"
   ]
  },
  {
   "cell_type": "markdown",
   "id": "3746382c-25b6-43c7-9927-773f1f2f8647",
   "metadata": {},
   "source": [
    "**Blocks are structured representations of sections of the document that the parser detected based on heading levels and titles.**"
   ]
  },
  {
   "cell_type": "code",
   "execution_count": 130,
   "id": "7dbdf671-155b-4548-8a6d-a4956950f149",
   "metadata": {
    "tags": []
   },
   "outputs": [
    {
     "data": {
      "text/plain": [
       "{'page_start': 1, 'page_end': 1}"
      ]
     },
     "execution_count": 130,
     "metadata": {},
     "output_type": "execute_result"
    }
   ],
   "source": [
    "blocks[0]['page_span']\n",
    "# blocks[1]['page_span']\n",
    "# blocks[2]['page_span']\n",
    "# blocks[3]['page_span']\n",
    "# blocks[-2]['page_span']\n",
    "# blocks[-1]['page_span']"
   ]
  },
  {
   "cell_type": "markdown",
   "id": "8fb41a38-2601-4cd6-b881-d2c1d27ff37a",
   "metadata": {},
   "source": [
    "#### Sumarize a block: This function will summarize a block and print out the details:"
   ]
  },
  {
   "cell_type": "code",
   "execution_count": 131,
   "id": "7941ec4e-ce1a-4739-853c-cda97ac3b883",
   "metadata": {
    "tags": []
   },
   "outputs": [
    {
     "name": "stdout",
     "output_type": "stream",
     "text": [
      "- Text block (heading-1): (b) How to obtain a short sale property value and ...\n",
      "  Nested blocks:\n",
      "- Text block (paragraph): With the exception of Mortgages secured by propert...\n",
      "- Text block (paragraph): The Servicer must advise the Borrower that the per...\n",
      "- Text block (paragraph): An “estimated market value” of the Mortgaged Premi...\n",
      "- Text block (paragraph): Refer to Chapter 2404 for terms and requirements f...\n",
      "\n"
     ]
    }
   ],
   "source": [
    "def summarize_blocks(blocks):\n",
    "    \"\"\"Provides a descriptive summary of a list of dictionaries with nested block structures.\n",
    "\n",
    "    Args:\n",
    "        blocks: A list of dictionaries representing content blocks.\n",
    "\n",
    "    Returns:\n",
    "        A string with a summary of the block structure.\n",
    "    \"\"\"\n",
    "    summary = \"\"\n",
    "    for block in blocks:\n",
    "        for key, value in block.items():\n",
    "            if key == \"text_block\":\n",
    "                text_type = value.get('type_', 'unknown type')\n",
    "                summary += f\"- Text block ({text_type}): {value.get('text', '')[:50]}...\\n\"\n",
    "                if value.get(\"blocks\"):\n",
    "                    summary += \"  Nested blocks:\\n\"\n",
    "                    summary += summarize_blocks(value[\"blocks\"])  # Recursive call\n",
    "            elif key == \"table_block\":\n",
    "                summary += \"- Table block\\n\"\n",
    "                if value.get(\"header_rows\"):\n",
    "                    summary += f\"  Header rows: {len(value['header_rows'])}\\n\"\n",
    "                if value.get(\"body_rows\"):\n",
    "                    summary += f\"  Body rows: {len(value['body_rows'])}\\n\"\n",
    "                if value.get(\"caption\"):\n",
    "                    summary += f\"  Caption: {value['caption']}\\n\"\n",
    "            elif key == \"list_block\":\n",
    "                summary += \"- List block\\n\"\n",
    "                if value.get(\"list_entries\"):\n",
    "                    summary += f\"  List entries: {len(value['list_entries'])}\\n\"\n",
    "\n",
    "    return summary\n",
    "\n",
    "# Example usage with your provided data\n",
    "summary = summarize_blocks(blocks[0:1])\n",
    "print(summary)"
   ]
  },
  {
   "cell_type": "markdown",
   "id": "04054408-11ee-4106-82af-831749fc2758",
   "metadata": {},
   "source": [
    "#### Process and Store Blocks"
   ]
  },
  {
   "cell_type": "code",
   "execution_count": 132,
   "id": "cf4040e4-5d15-4b67-bcca-00b889cec48d",
   "metadata": {
    "tags": []
   },
   "outputs": [
    {
     "data": {
      "text/plain": [
       "['document-chunks.jsonl',\n",
       " 'small_document.pdf',\n",
       " 'document-blocks.jsonl',\n",
       " 'document.pdf']"
      ]
     },
     "execution_count": 132,
     "metadata": {},
     "output_type": "execute_result"
    }
   ],
   "source": [
    "with open(f'{LOCAL_DIR}/document-blocks.jsonl', 'w') as f:\n",
    "    for block in blocks:\n",
    "        f.write(json.dumps(block)+ '\\n')\n",
    "        \n",
    "os.listdir(LOCAL_DIR)"
   ]
  },
  {
   "cell_type": "markdown",
   "id": "e2130e0a-2e7d-4ef3-be6f-e3489166099a",
   "metadata": {},
   "source": [
    "## 1.2 Load mortgage guides\n",
    "\n",
    "> see [example](https://github.com/statmike/vertex-ai-mlops/blob/main/Applied%20GenAI/Chunking/Large%20Document%20Processing%20-%20Document%20AI%20Layout%20Parser.ipynb)"
   ]
  },
  {
   "cell_type": "code",
   "execution_count": 106,
   "id": "2deb7353-56ee-4110-87c0-f20779491f44",
   "metadata": {
    "tags": []
   },
   "outputs": [],
   "source": [
    "import os, time, io, re, json\n",
    "\n",
    "import requests\n",
    "import fitz #pymupdf\n",
    "import PIL.Image\n",
    "\n",
    "EXPERIMENT_L=\"lending\"\n",
    "LOCAL_LENDER_DIR = f\"files/{EXPERIMENT_L}\"\n",
    "\n",
    "freddie_url = \"https://guide.freddiemac.com/ci/okcsFattach/get/1002095_2\"\n",
    "fannie_url = \"https://singlefamily.fanniemae.com/media/39861/display\""
   ]
  },
  {
   "cell_type": "code",
   "execution_count": null,
   "id": "c62a27bb-c279-415b-9f9f-68808ad8bb63",
   "metadata": {},
   "outputs": [],
   "source": [
    "if not os.path.exists(LOCAL_LENDER_DIR):\n",
    "    os.makedirs(LOCAL_LENDER_DIR)"
   ]
  },
  {
   "cell_type": "code",
   "execution_count": 95,
   "id": "81a40421-d2d1-4da3-9a30-29b99074c82a",
   "metadata": {
    "tags": []
   },
   "outputs": [
    {
     "data": {
      "text/plain": [
       "(2641, 1180)"
      ]
     },
     "execution_count": 95,
     "metadata": {},
     "output_type": "execute_result"
    }
   ],
   "source": [
    "freddie_retrieve = requests.get(freddie_url).content\n",
    "fannie_retrieve = requests.get(fannie_url).content\n",
    "\n",
    "freddie_doc = fitz.open(stream = freddie_retrieve, filetype = 'pdf')\n",
    "fannie_doc = fitz.open(stream = fannie_retrieve, filetype = 'pdf')\n",
    "\n",
    "freddie_doc.page_count, fannie_doc.page_count"
   ]
  },
  {
   "cell_type": "markdown",
   "id": "fc1f213a-ff1d-44be-8a0c-f6d4daa97ff0",
   "metadata": {},
   "source": [
    "### Split Documents\n",
    "\n",
    "> The layout parser has a maximum page size per document of 500 pages and can handle 5,000 files. Here the pdf is split into parts of no more \n",
    "than 400 pages.\n",
    "\n",
    "see [Layout Parser Limits](https://cloud.google.com/document-ai/docs/layout-parse-chunk#limitations)"
   ]
  },
  {
   "cell_type": "code",
   "execution_count": 96,
   "id": "47fbe784-bc6b-4d65-8445-df413949b901",
   "metadata": {
    "tags": []
   },
   "outputs": [],
   "source": [
    "def doc_parts(doc):\n",
    "    start_page = 0\n",
    "    max_pages = 400\n",
    "    n_pages = doc.page_count\n",
    "    \n",
    "    doc_list = []\n",
    "    while start_page < n_pages:\n",
    "        end_page = min(start_page + max_pages - 1, n_pages)\n",
    "        new_doc = fitz.open()\n",
    "        new_doc.insert_pdf(doc, from_page = start_page, to_page = end_page)\n",
    "        doc_list.append(new_doc)\n",
    "        start_page = end_page + 1\n",
    "    \n",
    "    PRINT_STRINGS_1 = f\"document has {n_pages} pages and has been split into\"\n",
    "    PRINT_STRINGS_2 = f\"parts with page counts: {[p.page_count for p in doc_list]}\"\n",
    "    \n",
    "    print(f\"{PRINT_STRINGS_1} {PRINT_STRINGS_2}\")\n",
    "    # print(f\"document has {n_pages} pages and has been split into parts with page counts: {[p.page_count for p in doc_list]}\")\n",
    "    \n",
    "    return doc_list"
   ]
  },
  {
   "cell_type": "code",
   "execution_count": 97,
   "id": "650c2704-3d01-40fe-89c2-b687d35f081b",
   "metadata": {
    "tags": []
   },
   "outputs": [
    {
     "name": "stdout",
     "output_type": "stream",
     "text": [
      "document has 2641 pages and has been split into parts with page counts: [400, 400, 400, 400, 400, 400, 241]\n"
     ]
    }
   ],
   "source": [
    "freddie_parts = doc_parts(freddie_doc)"
   ]
  },
  {
   "cell_type": "code",
   "execution_count": 98,
   "id": "9c4d2a24-c526-46ce-8f44-5f9ae3357bb1",
   "metadata": {
    "tags": []
   },
   "outputs": [
    {
     "name": "stdout",
     "output_type": "stream",
     "text": [
      "document has 1180 pages and has been split into parts with page counts: [400, 400, 380]\n"
     ]
    }
   ],
   "source": [
    "fannie_parts = doc_parts(fannie_doc)"
   ]
  },
  {
   "cell_type": "markdown",
   "id": "705b272b-1be7-465c-b638-5ce0169fea3c",
   "metadata": {},
   "source": [
    "### Documents as GCS Files"
   ]
  },
  {
   "cell_type": "code",
   "execution_count": 99,
   "id": "a07653dd-2ddb-4faa-8ad9-2a62b2f1d74b",
   "metadata": {
    "tags": []
   },
   "outputs": [],
   "source": [
    "def doc_to_gcs(document, name):\n",
    "    buffer = io.BytesIO()\n",
    "    document.save(buffer)\n",
    "    buffer.seek(0) # reset the position to the beginning\n",
    "    blob = bucket.blob(f\"{PREFIX}/{EXPERIMENT_L}/{name}.pdf\")\n",
    "    blob.upload_from_file(buffer, content_type = 'application/pdf')\n",
    "    print(f\"The file 'gs://{bucket.name}/{blob.name}' is {(blob.size / (1024*1024)):.2f} MB\")\n",
    "    return blob"
   ]
  },
  {
   "cell_type": "code",
   "execution_count": 100,
   "id": "e7963f8d-7d6d-4b8b-8e18-901a9ba1bcd6",
   "metadata": {
    "tags": []
   },
   "outputs": [
    {
     "name": "stdout",
     "output_type": "stream",
     "text": [
      "The file 'gs://mortgage-ball-bucket/mortgage-ball/lending/full/freddie.pdf' is 21.44 MB\n"
     ]
    }
   ],
   "source": [
    "freddie_blob = doc_to_gcs(freddie_doc, 'full/freddie')"
   ]
  },
  {
   "cell_type": "code",
   "execution_count": 101,
   "id": "86a52662-3c16-4a1e-9711-475ec3511f92",
   "metadata": {
    "tags": []
   },
   "outputs": [
    {
     "name": "stdout",
     "output_type": "stream",
     "text": [
      "The file 'gs://mortgage-ball-bucket/mortgage-ball/lending/full/fannie.pdf' is 4.55 MB\n"
     ]
    }
   ],
   "source": [
    "fannie_blob = doc_to_gcs(fannie_doc, 'full/fannie')"
   ]
  },
  {
   "cell_type": "markdown",
   "id": "e2fec449-3b92-4994-859d-b6e9f479694e",
   "metadata": {},
   "source": [
    "### Document Parts to GCS Files"
   ]
  },
  {
   "cell_type": "code",
   "execution_count": 102,
   "id": "c732930a-d31d-496d-ae9a-36d57f4c6ca0",
   "metadata": {
    "tags": []
   },
   "outputs": [
    {
     "name": "stdout",
     "output_type": "stream",
     "text": [
      "The file 'gs://mortgage-ball-bucket/mortgage-ball/lending/parts/freddie_part_0.pdf' is 3.17 MB\n",
      "The file 'gs://mortgage-ball-bucket/mortgage-ball/lending/parts/freddie_part_1.pdf' is 4.44 MB\n",
      "The file 'gs://mortgage-ball-bucket/mortgage-ball/lending/parts/freddie_part_2.pdf' is 3.32 MB\n",
      "The file 'gs://mortgage-ball-bucket/mortgage-ball/lending/parts/freddie_part_3.pdf' is 3.43 MB\n",
      "The file 'gs://mortgage-ball-bucket/mortgage-ball/lending/parts/freddie_part_4.pdf' is 3.38 MB\n",
      "The file 'gs://mortgage-ball-bucket/mortgage-ball/lending/parts/freddie_part_5.pdf' is 2.89 MB\n",
      "The file 'gs://mortgage-ball-bucket/mortgage-ball/lending/parts/freddie_part_6.pdf' is 2.22 MB\n"
     ]
    }
   ],
   "source": [
    "freddie_blobs = [doc_to_gcs(doc, f'parts/freddie_part_{d}') for d, doc in enumerate(freddie_parts)]"
   ]
  },
  {
   "cell_type": "code",
   "execution_count": 103,
   "id": "d7709ca4-9dcd-4e21-ae4b-561aecf18ea8",
   "metadata": {
    "tags": []
   },
   "outputs": [
    {
     "name": "stdout",
     "output_type": "stream",
     "text": [
      "The file 'gs://mortgage-ball-bucket/mortgage-ball/lending/parts/fannie_part_0.pdf' is 1.43 MB\n",
      "The file 'gs://mortgage-ball-bucket/mortgage-ball/lending/parts/fannie_part_1.pdf' is 1.40 MB\n",
      "The file 'gs://mortgage-ball-bucket/mortgage-ball/lending/parts/fannie_part_2.pdf' is 1.23 MB\n"
     ]
    }
   ],
   "source": [
    "fannie_blobs = [doc_to_gcs(doc, f'parts/fannie_part_{d}') for d, doc in enumerate(fannie_parts)]"
   ]
  },
  {
   "cell_type": "markdown",
   "id": "33ba47d1-cff0-4e78-9eba-6867dede2ef5",
   "metadata": {},
   "source": [
    "### Batch processing: Multiple and/or Large Documents\n",
    "\n",
    "> NOTE: This could take awhile (15-30 minutes). The next cell with continually check on the progress and hold up execution until the batch job is complete."
   ]
  },
  {
   "cell_type": "code",
   "execution_count": 104,
   "id": "f2404325-cc59-4080-94de-f8ebc5469435",
   "metadata": {
    "tags": []
   },
   "outputs": [],
   "source": [
    "batch_job = docai_client.batch_process_documents(\n",
    "    request = documentai.BatchProcessRequest(\n",
    "        name = docai_processor.name,\n",
    "        input_documents = documentai.BatchDocumentsInputConfig(\n",
    "            gcs_prefix = documentai.GcsPrefix(\n",
    "                gcs_uri_prefix = f'gs://{bucket.name}/{PREFIX}/{EXPERIMENT_L}/parts/'\n",
    "            )\n",
    "        ),\n",
    "        document_output_config = documentai.DocumentOutputConfig(\n",
    "            gcs_output_config = documentai.DocumentOutputConfig.GcsOutputConfig(\n",
    "                gcs_uri = f'gs://{bucket.name}/{PREFIX}/{EXPERIMENT_L}/parsing/parts'\n",
    "            )\n",
    "        ),\n",
    "        process_options = documentai.ProcessOptions(\n",
    "            layout_config = documentai.ProcessOptions.LayoutConfig(\n",
    "                chunking_config = documentai.ProcessOptions.LayoutConfig.ChunkingConfig(\n",
    "                    chunk_size = 200,\n",
    "                    include_ancestor_headings = True,\n",
    "                )\n",
    "            )\n",
    "        )\n",
    "    )\n",
    ")"
   ]
  },
  {
   "cell_type": "code",
   "execution_count": 107,
   "id": "41c1dfda-f770-438e-a589-041bf5842576",
   "metadata": {
    "tags": []
   },
   "outputs": [
    {
     "name": "stdout",
     "output_type": "stream",
     "text": [
      "Waiting on batch job to complete: projects/934903580331/locations/us/operations/18058820851710512966\n",
      "State.SUCCEEDED\n"
     ]
    }
   ],
   "source": [
    "print(f'Waiting on batch job to complete: {batch_job.operation.name}')\n",
    "\n",
    "while batch_job.running():\n",
    "    time.sleep(10)\n",
    "\n",
    "batch_job.result()\n",
    "\n",
    "print(documentai.BatchProcessMetadata(batch_job.metadata).state)"
   ]
  },
  {
   "cell_type": "markdown",
   "id": "d00ffa14-0d7e-4b15-8784-50c95fa053d6",
   "metadata": {},
   "source": [
    "### Retrieve Document Parsing Results"
   ]
  },
  {
   "cell_type": "code",
   "execution_count": 108,
   "id": "4514ce60-ccc8-4476-aaed-38f8152056cc",
   "metadata": {
    "tags": []
   },
   "outputs": [],
   "source": [
    "\n",
    "batch_responses = []\n",
    "\n",
    "for process in documentai.BatchProcessMetadata(batch_job.metadata).individual_process_statuses:\n",
    "    matches = re.match(r\"gs://(.*?)/(.*)\", process.output_gcs_destination)\n",
    "    output_bucket, output_prefix = matches.groups()\n",
    "    output_blobs = bucket.list_blobs(prefix = output_prefix)\n",
    "    for blob in output_blobs:\n",
    "        response = documentai.Document.from_json(blob.download_as_bytes(), ignore_unknown_fields = True)\n",
    "        batch_responses.append((blob.name.split('/')[-1], response))"
   ]
  },
  {
   "cell_type": "code",
   "execution_count": 109,
   "id": "d26c1c45-c7dd-4f8f-b579-466b0dbfd74a",
   "metadata": {
    "tags": []
   },
   "outputs": [
    {
     "data": {
      "text/plain": [
       "10"
      ]
     },
     "execution_count": 109,
     "metadata": {},
     "output_type": "execute_result"
    }
   ],
   "source": [
    "len(batch_responses)"
   ]
  },
  {
   "cell_type": "markdown",
   "id": "87bac587-6b40-48b4-ada2-b76c56d804be",
   "metadata": {},
   "source": [
    "### Review responses for a document:"
   ]
  },
  {
   "cell_type": "code",
   "execution_count": 110,
   "id": "954cb8df-9144-4d05-9bc2-12346a6b4d9e",
   "metadata": {
    "tags": []
   },
   "outputs": [
    {
     "data": {
      "text/plain": [
       "('fannie_part_0-0.json', 'fannie_part_1-0.json')"
      ]
     },
     "execution_count": 110,
     "metadata": {},
     "output_type": "execute_result"
    }
   ],
   "source": [
    "batch_responses[0][0], batch_responses[1][0]"
   ]
  },
  {
   "cell_type": "code",
   "execution_count": 111,
   "id": "4e96b5b9-b688-458b-ae94-c84214c7e3a7",
   "metadata": {
    "tags": []
   },
   "outputs": [
    {
     "data": {
      "text/plain": [
       "chunk_id: \"c1\"\n",
       "content: \"Fannie Mae\"\n",
       "page_span {\n",
       "  page_start: 1\n",
       "  page_end: 1\n",
       "}"
      ]
     },
     "execution_count": 111,
     "metadata": {},
     "output_type": "execute_result"
    }
   ],
   "source": [
    "batch_responses[0][1].chunked_document.chunks[0]"
   ]
  },
  {
   "cell_type": "code",
   "execution_count": 112,
   "id": "cd67a930-2e73-4699-aa45-c0ffbfbea7df",
   "metadata": {
    "tags": []
   },
   "outputs": [
    {
     "data": {
      "text/plain": [
       "chunk_id: \"c1\"\n",
       "content: \"# (b) How to obtain a short sale property value and minimum net proceeds\\n\\nWith the exception of Mortgages secured by properties subject to resale restrictions (in accordance with Chapters 4406, 4502 or 4504, as applicable), the Servicer must submit a request to Freddie Mac for the short sale property value and the minimum net proceeds via the “Obtain Valuation” tab in Freddie Mac Real Estate Valuation and Pricing tool when considering a Borrower for a short sale. The Servicer must advise the Borrower that the person evaluating the Mortgaged Premises must be given interior access and that the Borrower must otherwise cooperate with the inspection. An “estimated market value” of the Mortgaged Premises and the “minimum net proceeds” as determined by Freddie Mac will be returned by the Real Estate Valuation and Pricing tool with a \\\"good through date” indicating the expiration date of the property value and minimum net proceeds amount. If the Servicer is unable to render an evaluation decision on a purchase offer prior to the good through date, a new property value and minimum net proceeds must be obtained via the Real Estate Valuation and Pricing tool to evaluate the purchase offer.\"\n",
       "page_span {\n",
       "  page_start: 1\n",
       "  page_end: 1\n",
       "}\n",
       "page_footers {\n",
       "  text: \"Freddie Mac Single-Family Seller/Servicer Guide As of 10/09/24\"\n",
       "  page_span {\n",
       "    page_start: 1\n",
       "    page_end: 1\n",
       "  }\n",
       "}\n",
       "page_footers {\n",
       "  text: \"Chapter 9208 Page 9208-29\"\n",
       "  page_span {\n",
       "    page_start: 1\n",
       "    page_end: 1\n",
       "  }\n",
       "}"
      ]
     },
     "execution_count": 112,
     "metadata": {},
     "output_type": "execute_result"
    }
   ],
   "source": [
    "batch_responses[-1][-1].chunked_document.chunks[0]"
   ]
  },
  {
   "cell_type": "markdown",
   "id": "90760678-5278-4aba-b76d-f221f31fcfc1",
   "metadata": {},
   "source": [
    "## Process Responses"
   ]
  },
  {
   "cell_type": "code",
   "execution_count": 113,
   "id": "07938a1c-f57c-4c49-a89d-89dd00105abc",
   "metadata": {
    "tags": []
   },
   "outputs": [],
   "source": [
    "chunks = [\n",
    "    dict(\n",
    "        gse = batch[0].split('_')[0],\n",
    "        filename = batch[0].split('-')[0],\n",
    "        file_chunk_id = chunk.chunk_id,\n",
    "        chunk_id = batch[0].split('-')[0] + '_' + chunk.chunk_id,\n",
    "        content = chunk.content,\n",
    "    ) for batch in batch_responses for chunk in batch[1].chunked_document.chunks\n",
    "]"
   ]
  },
  {
   "cell_type": "code",
   "execution_count": 114,
   "id": "87ccb661-737f-4787-b98f-1699b0adc9de",
   "metadata": {
    "tags": []
   },
   "outputs": [
    {
     "data": {
      "text/plain": [
       "9042"
      ]
     },
     "execution_count": 114,
     "metadata": {},
     "output_type": "execute_result"
    }
   ],
   "source": [
    "len(chunks)"
   ]
  },
  {
   "cell_type": "code",
   "execution_count": 115,
   "id": "2a68dd61-1724-494d-91c0-08be27101045",
   "metadata": {
    "tags": []
   },
   "outputs": [
    {
     "data": {
      "text/plain": [
       "{'gse': 'fannie',\n",
       " 'filename': 'fannie_part_0',\n",
       " 'file_chunk_id': 'c1',\n",
       " 'chunk_id': 'fannie_part_0_c1',\n",
       " 'content': 'Fannie Mae'}"
      ]
     },
     "execution_count": 115,
     "metadata": {},
     "output_type": "execute_result"
    }
   ],
   "source": [
    "chunks[0]"
   ]
  },
  {
   "cell_type": "code",
   "execution_count": 116,
   "id": "ff30f6af-d14f-4aa1-a712-510eaac31fc8",
   "metadata": {
    "tags": []
   },
   "outputs": [
    {
     "data": {
      "text/plain": [
       "{'gse': 'freddie',\n",
       " 'filename': 'freddie_part_6',\n",
       " 'file_chunk_id': 'c618',\n",
       " 'chunk_id': 'freddie_part_6_c618',\n",
       " 'content': \"# 9701.23: Consent Agreement terms and conditions (10/09/24)\\n\\n## (c) Consent Agreements\\n\\nExhibit 33D, Acknowledgment Agreement (Combination) Incorporated Provisions, as applicable. In no event shall any Advance Financing be cross-collateralized with any Collateral under any Servicing Contract Rights Financing. Any collateral under any Advance Financing is and will continue to be at all times separate and distinct from any and all Collateral under any Servicing Contract Rights Financing.”\\n\\n# (d) Collateral Pledge Agreements\\n\\nFreddie Mac reserves the right to condition its entry into a Consent Agreement on the Servicer's pledge of collateral pursuant to a Collateral Pledge Agreement in substantially the form and substance of Exhibit 104, Collateral Pledge Agreement.\"}"
      ]
     },
     "execution_count": 116,
     "metadata": {},
     "output_type": "execute_result"
    }
   ],
   "source": [
    "chunks[-1]"
   ]
  },
  {
   "cell_type": "markdown",
   "id": "a145506b-ea14-49bf-bf98-7ec0af80920c",
   "metadata": {},
   "source": [
    "### Save data locally"
   ]
  },
  {
   "cell_type": "code",
   "execution_count": 117,
   "id": "3b742aa7-90a7-492e-a69b-a9dcdb97cebb",
   "metadata": {
    "tags": []
   },
   "outputs": [
    {
     "data": {
      "text/plain": [
       "9042"
      ]
     },
     "execution_count": 117,
     "metadata": {},
     "output_type": "execute_result"
    }
   ],
   "source": [
    "len(chunks)"
   ]
  },
  {
   "cell_type": "code",
   "execution_count": 119,
   "id": "5b1cf0d4-22ff-42f1-940d-d7258085104b",
   "metadata": {
    "tags": []
   },
   "outputs": [
    {
     "data": {
      "text/plain": [
       "9042"
      ]
     },
     "execution_count": 119,
     "metadata": {},
     "output_type": "execute_result"
    }
   ],
   "source": [
    "start_chunk = 0\n",
    "max_chunk = 1000\n",
    "\n",
    "chunk_lists = []\n",
    "\n",
    "while start_chunk < len(chunks):\n",
    "    end_chunk = min(start_chunk + max_chunk, len(chunks))\n",
    "    chunk_lists.append(chunks[start_chunk:end_chunk])\n",
    "    start_chunk = end_chunk\n",
    "    \n",
    "sum([len(c) for c in chunk_lists])"
   ]
  },
  {
   "cell_type": "code",
   "execution_count": 123,
   "id": "3e2042fc-524c-4a84-a36c-32bc649bdd66",
   "metadata": {
    "tags": []
   },
   "outputs": [
    {
     "data": {
      "text/plain": [
       "['document-chunks-0004.jsonl',\n",
       " 'document-chunks-0005.jsonl',\n",
       " 'document-chunks-0001.jsonl',\n",
       " 'document-chunks-0003.jsonl',\n",
       " 'document-chunks-0002.jsonl',\n",
       " 'document-chunks-0008.jsonl',\n",
       " 'document-chunks-0007.jsonl',\n",
       " 'document-chunks-0009.jsonl',\n",
       " 'document-chunks-0000.jsonl',\n",
       " 'document-chunks-0006.jsonl']"
      ]
     },
     "execution_count": 123,
     "metadata": {},
     "output_type": "execute_result"
    }
   ],
   "source": [
    "for c, cl in enumerate(chunk_lists):\n",
    "    with open(f'{LOCAL_LENDER_DIR}/document-chunks-{c:04d}.jsonl', 'w') as f:\n",
    "        for chunk in cl:\n",
    "            f.write(json.dumps(chunk)+ '\\n')\n",
    "            \n",
    "os.listdir(LOCAL_LENDER_DIR)"
   ]
  },
  {
   "cell_type": "markdown",
   "id": "7785e715-60b7-451c-813b-a114f1c82165",
   "metadata": {},
   "source": [
    "**finished**"
   ]
  }
 ],
 "metadata": {
  "environment": {
   "kernel": "conda-base-py",
   "name": "workbench-notebooks.m125",
   "type": "gcloud",
   "uri": "us-docker.pkg.dev/deeplearning-platform-release/gcr.io/workbench-notebooks:m125"
  },
  "kernelspec": {
   "display_name": "Python 3 (ipykernel) (Local)",
   "language": "python",
   "name": "conda-base-py"
  },
  "language_info": {
   "codemirror_mode": {
    "name": "ipython",
    "version": 3
   },
   "file_extension": ".py",
   "mimetype": "text/x-python",
   "name": "python",
   "nbconvert_exporter": "python",
   "pygments_lexer": "ipython3",
   "version": "3.10.15"
  }
 },
 "nbformat": 4,
 "nbformat_minor": 5
}
